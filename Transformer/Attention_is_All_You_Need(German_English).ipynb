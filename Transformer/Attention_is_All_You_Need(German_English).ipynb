{
  "cells": [
    {
      "cell_type": "markdown",
      "metadata": {
        "colab_type": "text",
        "id": "view-in-github"
      },
      "source": [
        "<a href=\"https://colab.research.google.com/github/ndb796/Deep-Learning-Paper-Review-and-Practice/blob/master/code_practices/Attention_is_All_You_Need_Tutorial_(German_English).ipynb\" target=\"_parent\"><img src=\"https://colab.research.google.com/assets/colab-badge.svg\" alt=\"Open In Colab\"/></a>"
      ]
    },
    {
      "cell_type": "code",
      "execution_count": 2,
      "metadata": {
        "colab": {
          "base_uri": "https://localhost:8080/"
        },
        "id": "b7gjy4bZ1aXc",
        "outputId": "9fdc6d71-923f-45de-e38b-744de42e00a3"
      },
      "outputs": [
        {
          "name": "stdout",
          "output_type": "stream",
          "text": [
            "Requirement already satisfied: torchtext==0.6.0 in /usr/local/lib/python3.8/dist-packages (0.6.0)\n",
            "Requirement already satisfied: tqdm in /usr/local/lib/python3.8/dist-packages (from torchtext==0.6.0) (4.66.1)\n",
            "Requirement already satisfied: requests in /usr/local/lib/python3.8/dist-packages (from torchtext==0.6.0) (2.26.0)\n",
            "Requirement already satisfied: torch in /usr/local/lib/python3.8/dist-packages (from torchtext==0.6.0) (1.12.1+cu113)\n",
            "Requirement already satisfied: numpy in /usr/local/lib/python3.8/dist-packages (from torchtext==0.6.0) (1.24.4)\n",
            "Requirement already satisfied: six in /usr/local/lib/python3.8/dist-packages (from torchtext==0.6.0) (1.16.0)\n",
            "Requirement already satisfied: sentencepiece in /usr/local/lib/python3.8/dist-packages (from torchtext==0.6.0) (0.2.0)\n",
            "Requirement already satisfied: urllib3<1.27,>=1.21.1 in /usr/local/lib/python3.8/dist-packages (from requests->torchtext==0.6.0) (1.26.18)\n",
            "Requirement already satisfied: certifi>=2017.4.17 in /usr/local/lib/python3.8/dist-packages (from requests->torchtext==0.6.0) (2021.10.8)\n",
            "Requirement already satisfied: charset-normalizer~=2.0.0 in /usr/local/lib/python3.8/dist-packages (from requests->torchtext==0.6.0) (2.0.7)\n",
            "Requirement already satisfied: idna<4,>=2.5 in /usr/local/lib/python3.8/dist-packages (from requests->torchtext==0.6.0) (3.3)\n",
            "Requirement already satisfied: typing-extensions in /usr/local/lib/python3.8/dist-packages (from torch->torchtext==0.6.0) (4.10.0)\n",
            "\u001b[33mWARNING: Running pip as the 'root' user can result in broken permissions and conflicting behaviour with the system package manager. It is recommended to use a virtual environment instead: https://pip.pypa.io/warnings/venv\u001b[0m\u001b[33m\n",
            "\u001b[0mRequirement already satisfied: spacy in /usr/local/lib/python3.8/dist-packages (3.7.4)\n",
            "Requirement already satisfied: spacy-legacy<3.1.0,>=3.0.11 in /usr/local/lib/python3.8/dist-packages (from spacy) (3.0.12)\n",
            "Requirement already satisfied: spacy-loggers<2.0.0,>=1.0.0 in /usr/local/lib/python3.8/dist-packages (from spacy) (1.0.5)\n",
            "Requirement already satisfied: murmurhash<1.1.0,>=0.28.0 in /usr/local/lib/python3.8/dist-packages (from spacy) (1.0.10)\n",
            "Requirement already satisfied: cymem<2.1.0,>=2.0.2 in /usr/local/lib/python3.8/dist-packages (from spacy) (2.0.8)\n",
            "Requirement already satisfied: preshed<3.1.0,>=3.0.2 in /usr/local/lib/python3.8/dist-packages (from spacy) (3.0.9)\n",
            "Requirement already satisfied: thinc<8.3.0,>=8.2.2 in /usr/local/lib/python3.8/dist-packages (from spacy) (8.2.3)\n",
            "Requirement already satisfied: wasabi<1.2.0,>=0.9.1 in /usr/local/lib/python3.8/dist-packages (from spacy) (1.1.2)\n",
            "Requirement already satisfied: srsly<3.0.0,>=2.4.3 in /usr/local/lib/python3.8/dist-packages (from spacy) (2.4.8)\n",
            "Requirement already satisfied: catalogue<2.1.0,>=2.0.6 in /usr/local/lib/python3.8/dist-packages (from spacy) (2.0.10)\n",
            "Requirement already satisfied: weasel<0.4.0,>=0.1.0 in /usr/local/lib/python3.8/dist-packages (from spacy) (0.3.4)\n",
            "Requirement already satisfied: typer<0.10.0,>=0.3.0 in /usr/local/lib/python3.8/dist-packages (from spacy) (0.9.4)\n",
            "Requirement already satisfied: smart-open<7.0.0,>=5.2.1 in /usr/local/lib/python3.8/dist-packages (from spacy) (6.4.0)\n",
            "Requirement already satisfied: tqdm<5.0.0,>=4.38.0 in /usr/local/lib/python3.8/dist-packages (from spacy) (4.66.1)\n",
            "Requirement already satisfied: requests<3.0.0,>=2.13.0 in /usr/local/lib/python3.8/dist-packages (from spacy) (2.26.0)\n",
            "Requirement already satisfied: pydantic!=1.8,!=1.8.1,<3.0.0,>=1.7.4 in /usr/local/lib/python3.8/dist-packages (from spacy) (2.6.4)\n",
            "Requirement already satisfied: jinja2 in /usr/local/lib/python3.8/dist-packages (from spacy) (3.1.2)\n",
            "Requirement already satisfied: setuptools in /usr/local/lib/python3.8/dist-packages (from spacy) (58.5.2)\n",
            "Requirement already satisfied: packaging>=20.0 in /usr/local/lib/python3.8/dist-packages (from spacy) (23.1)\n",
            "Requirement already satisfied: langcodes<4.0.0,>=3.2.0 in /usr/local/lib/python3.8/dist-packages (from spacy) (3.3.0)\n",
            "Requirement already satisfied: numpy>=1.15.0 in /usr/local/lib/python3.8/dist-packages (from spacy) (1.24.4)\n",
            "Requirement already satisfied: annotated-types>=0.4.0 in /usr/local/lib/python3.8/dist-packages (from pydantic!=1.8,!=1.8.1,<3.0.0,>=1.7.4->spacy) (0.6.0)\n",
            "Requirement already satisfied: pydantic-core==2.16.3 in /usr/local/lib/python3.8/dist-packages (from pydantic!=1.8,!=1.8.1,<3.0.0,>=1.7.4->spacy) (2.16.3)\n",
            "Requirement already satisfied: typing-extensions>=4.6.1 in /usr/local/lib/python3.8/dist-packages (from pydantic!=1.8,!=1.8.1,<3.0.0,>=1.7.4->spacy) (4.10.0)\n",
            "Requirement already satisfied: urllib3<1.27,>=1.21.1 in /usr/local/lib/python3.8/dist-packages (from requests<3.0.0,>=2.13.0->spacy) (1.26.18)\n",
            "Requirement already satisfied: certifi>=2017.4.17 in /usr/local/lib/python3.8/dist-packages (from requests<3.0.0,>=2.13.0->spacy) (2021.10.8)\n",
            "Requirement already satisfied: charset-normalizer~=2.0.0 in /usr/local/lib/python3.8/dist-packages (from requests<3.0.0,>=2.13.0->spacy) (2.0.7)\n",
            "Requirement already satisfied: idna<4,>=2.5 in /usr/local/lib/python3.8/dist-packages (from requests<3.0.0,>=2.13.0->spacy) (3.3)\n",
            "Requirement already satisfied: blis<0.8.0,>=0.7.8 in /usr/local/lib/python3.8/dist-packages (from thinc<8.3.0,>=8.2.2->spacy) (0.7.11)\n",
            "Requirement already satisfied: confection<1.0.0,>=0.0.1 in /usr/local/lib/python3.8/dist-packages (from thinc<8.3.0,>=8.2.2->spacy) (0.1.4)\n",
            "Requirement already satisfied: click<9.0.0,>=7.1.1 in /usr/local/lib/python3.8/dist-packages (from typer<0.10.0,>=0.3.0->spacy) (8.1.7)\n",
            "Requirement already satisfied: cloudpathlib<0.17.0,>=0.7.0 in /usr/local/lib/python3.8/dist-packages (from weasel<0.4.0,>=0.1.0->spacy) (0.16.0)\n",
            "Requirement already satisfied: MarkupSafe>=2.0 in /usr/local/lib/python3.8/dist-packages (from jinja2->spacy) (2.1.3)\n",
            "\u001b[33mWARNING: Running pip as the 'root' user can result in broken permissions and conflicting behaviour with the system package manager. It is recommended to use a virtual environment instead: https://pip.pypa.io/warnings/venv\u001b[0m\u001b[33m\n",
            "\u001b[0mRequirement already satisfied: pydantic in /usr/local/lib/python3.8/dist-packages (2.6.4)\n",
            "Requirement already satisfied: spacy in /usr/local/lib/python3.8/dist-packages (3.7.4)\n",
            "Requirement already satisfied: typing_extensions in /usr/local/lib/python3.8/dist-packages (4.10.0)\n",
            "Collecting typing_extensions\n",
            "  Downloading typing_extensions-4.11.0-py3-none-any.whl.metadata (3.0 kB)\n",
            "Requirement already satisfied: annotated-types>=0.4.0 in /usr/local/lib/python3.8/dist-packages (from pydantic) (0.6.0)\n",
            "Requirement already satisfied: pydantic-core==2.16.3 in /usr/local/lib/python3.8/dist-packages (from pydantic) (2.16.3)\n",
            "Requirement already satisfied: spacy-legacy<3.1.0,>=3.0.11 in /usr/local/lib/python3.8/dist-packages (from spacy) (3.0.12)\n",
            "Requirement already satisfied: spacy-loggers<2.0.0,>=1.0.0 in /usr/local/lib/python3.8/dist-packages (from spacy) (1.0.5)\n",
            "Requirement already satisfied: murmurhash<1.1.0,>=0.28.0 in /usr/local/lib/python3.8/dist-packages (from spacy) (1.0.10)\n",
            "Requirement already satisfied: cymem<2.1.0,>=2.0.2 in /usr/local/lib/python3.8/dist-packages (from spacy) (2.0.8)\n",
            "Requirement already satisfied: preshed<3.1.0,>=3.0.2 in /usr/local/lib/python3.8/dist-packages (from spacy) (3.0.9)\n",
            "Requirement already satisfied: thinc<8.3.0,>=8.2.2 in /usr/local/lib/python3.8/dist-packages (from spacy) (8.2.3)\n",
            "Requirement already satisfied: wasabi<1.2.0,>=0.9.1 in /usr/local/lib/python3.8/dist-packages (from spacy) (1.1.2)\n",
            "Requirement already satisfied: srsly<3.0.0,>=2.4.3 in /usr/local/lib/python3.8/dist-packages (from spacy) (2.4.8)\n",
            "Requirement already satisfied: catalogue<2.1.0,>=2.0.6 in /usr/local/lib/python3.8/dist-packages (from spacy) (2.0.10)\n",
            "Requirement already satisfied: weasel<0.4.0,>=0.1.0 in /usr/local/lib/python3.8/dist-packages (from spacy) (0.3.4)\n",
            "Requirement already satisfied: typer<0.10.0,>=0.3.0 in /usr/local/lib/python3.8/dist-packages (from spacy) (0.9.4)\n",
            "Requirement already satisfied: smart-open<7.0.0,>=5.2.1 in /usr/local/lib/python3.8/dist-packages (from spacy) (6.4.0)\n",
            "Requirement already satisfied: tqdm<5.0.0,>=4.38.0 in /usr/local/lib/python3.8/dist-packages (from spacy) (4.66.1)\n",
            "Requirement already satisfied: requests<3.0.0,>=2.13.0 in /usr/local/lib/python3.8/dist-packages (from spacy) (2.26.0)\n",
            "Requirement already satisfied: jinja2 in /usr/local/lib/python3.8/dist-packages (from spacy) (3.1.2)\n",
            "Requirement already satisfied: setuptools in /usr/local/lib/python3.8/dist-packages (from spacy) (58.5.2)\n",
            "Requirement already satisfied: packaging>=20.0 in /usr/local/lib/python3.8/dist-packages (from spacy) (23.1)\n",
            "Requirement already satisfied: langcodes<4.0.0,>=3.2.0 in /usr/local/lib/python3.8/dist-packages (from spacy) (3.3.0)\n",
            "Requirement already satisfied: numpy>=1.15.0 in /usr/local/lib/python3.8/dist-packages (from spacy) (1.24.4)\n",
            "Requirement already satisfied: urllib3<1.27,>=1.21.1 in /usr/local/lib/python3.8/dist-packages (from requests<3.0.0,>=2.13.0->spacy) (1.26.18)\n",
            "Requirement already satisfied: certifi>=2017.4.17 in /usr/local/lib/python3.8/dist-packages (from requests<3.0.0,>=2.13.0->spacy) (2021.10.8)\n",
            "Requirement already satisfied: charset-normalizer~=2.0.0 in /usr/local/lib/python3.8/dist-packages (from requests<3.0.0,>=2.13.0->spacy) (2.0.7)\n",
            "Requirement already satisfied: idna<4,>=2.5 in /usr/local/lib/python3.8/dist-packages (from requests<3.0.0,>=2.13.0->spacy) (3.3)\n",
            "Requirement already satisfied: blis<0.8.0,>=0.7.8 in /usr/local/lib/python3.8/dist-packages (from thinc<8.3.0,>=8.2.2->spacy) (0.7.11)\n",
            "Requirement already satisfied: confection<1.0.0,>=0.0.1 in /usr/local/lib/python3.8/dist-packages (from thinc<8.3.0,>=8.2.2->spacy) (0.1.4)\n",
            "Requirement already satisfied: click<9.0.0,>=7.1.1 in /usr/local/lib/python3.8/dist-packages (from typer<0.10.0,>=0.3.0->spacy) (8.1.7)\n",
            "Requirement already satisfied: cloudpathlib<0.17.0,>=0.7.0 in /usr/local/lib/python3.8/dist-packages (from weasel<0.4.0,>=0.1.0->spacy) (0.16.0)\n",
            "Requirement already satisfied: MarkupSafe>=2.0 in /usr/local/lib/python3.8/dist-packages (from jinja2->spacy) (2.1.3)\n",
            "Downloading typing_extensions-4.11.0-py3-none-any.whl (34 kB)\n",
            "Installing collected packages: typing_extensions\n",
            "  Attempting uninstall: typing_extensions\n",
            "    Found existing installation: typing_extensions 4.10.0\n",
            "    Uninstalling typing_extensions-4.10.0:\n",
            "      Successfully uninstalled typing_extensions-4.10.0\n",
            "Successfully installed typing_extensions-4.11.0\n",
            "\u001b[33mWARNING: Running pip as the 'root' user can result in broken permissions and conflicting behaviour with the system package manager. It is recommended to use a virtual environment instead: https://pip.pypa.io/warnings/venv\u001b[0m\u001b[33m\n",
            "\u001b[0m"
          ]
        }
      ],
      "source": [
        "!pip install torchtext==0.6.0\n",
        "!pip install spacy\n",
        "!pip install --upgrade pydantic spacy typing_extensions"
      ]
    },
    {
      "cell_type": "markdown",
      "metadata": {
        "id": "_V6NaGYTd62g"
      },
      "source": [
        "#### **데이터 전처리(Preprocessing)**\n",
        "\n",
        "* **spaCy 라이브러리**: 문장의 토큰화(tokenization), 태깅(tagging) 등의 전처리 기능을 위한 라이브러리\n",
        "  * 영어(Engilsh)와 독일어(Deutsch) 전처리 모듈 설치"
      ]
    },
    {
      "cell_type": "code",
      "execution_count": 3,
      "metadata": {},
      "outputs": [
        {
          "name": "stdout",
          "output_type": "stream",
          "text": [
            "Collecting typing_extensions==4.4.0\n",
            "  Using cached typing_extensions-4.4.0-py3-none-any.whl.metadata (7.2 kB)\n",
            "Using cached typing_extensions-4.4.0-py3-none-any.whl (26 kB)\n",
            "Installing collected packages: typing_extensions\n",
            "  Attempting uninstall: typing_extensions\n",
            "    Found existing installation: typing_extensions 4.11.0\n",
            "    Uninstalling typing_extensions-4.11.0:\n",
            "      Successfully uninstalled typing_extensions-4.11.0\n",
            "\u001b[31mERROR: pip's dependency resolver does not currently take into account all the packages that are installed. This behaviour is the source of the following dependency conflicts.\n",
            "azure-core 1.30.1 requires typing-extensions>=4.6.0, but you have typing-extensions 4.4.0 which is incompatible.\n",
            "pydantic 2.6.4 requires typing-extensions>=4.6.1, but you have typing-extensions 4.4.0 which is incompatible.\n",
            "pydantic-core 2.16.3 requires typing-extensions!=4.7.0,>=4.6.0, but you have typing-extensions 4.4.0 which is incompatible.\u001b[0m\u001b[31m\n",
            "\u001b[0mSuccessfully installed typing_extensions-4.4.0\n",
            "\u001b[33mWARNING: Running pip as the 'root' user can result in broken permissions and conflicting behaviour with the system package manager. It is recommended to use a virtual environment instead: https://pip.pypa.io/warnings/venv\u001b[0m\u001b[33m\n",
            "\u001b[0mRequirement already satisfied: azure.ai.ml in /usr/local/lib/python3.8/dist-packages (1.15.0)\n",
            "Requirement already satisfied: pyyaml<7.0.0,>=5.1.0 in /usr/local/lib/python3.8/dist-packages (from azure.ai.ml) (6.0.1)\n",
            "Requirement already satisfied: msrest>=0.6.18 in /usr/local/lib/python3.8/dist-packages (from azure.ai.ml) (0.7.1)\n",
            "Requirement already satisfied: azure-core<2.0.0,>=1.23.0 in /usr/local/lib/python3.8/dist-packages (from azure.ai.ml) (1.30.1)\n",
            "Requirement already satisfied: azure-mgmt-core<2.0.0,>=1.3.0 in /usr/local/lib/python3.8/dist-packages (from azure.ai.ml) (1.4.0)\n",
            "Requirement already satisfied: marshmallow<4.0.0,>=3.5 in /usr/local/lib/python3.8/dist-packages (from azure.ai.ml) (3.21.1)\n",
            "Requirement already satisfied: jsonschema<5.0.0,>=4.0.0 in /usr/local/lib/python3.8/dist-packages (from azure.ai.ml) (4.21.1)\n",
            "Requirement already satisfied: tqdm<5.0.0 in /usr/local/lib/python3.8/dist-packages (from azure.ai.ml) (4.66.1)\n",
            "Requirement already satisfied: strictyaml<2.0.0 in /usr/local/lib/python3.8/dist-packages (from azure.ai.ml) (1.7.3)\n",
            "Requirement already satisfied: colorama<0.5.0 in /usr/local/lib/python3.8/dist-packages (from azure.ai.ml) (0.4.6)\n",
            "Requirement already satisfied: pyjwt<3.0.0 in /usr/local/lib/python3.8/dist-packages (from azure.ai.ml) (2.8.0)\n",
            "Requirement already satisfied: azure-storage-blob<13.0.0,>=12.10.0 in /usr/local/lib/python3.8/dist-packages (from azure.ai.ml) (12.19.1)\n",
            "Requirement already satisfied: azure-storage-file-share<13.0.0 in /usr/local/lib/python3.8/dist-packages (from azure.ai.ml) (12.15.0)\n",
            "Requirement already satisfied: azure-storage-file-datalake<13.0.0 in /usr/local/lib/python3.8/dist-packages (from azure.ai.ml) (12.14.0)\n",
            "Requirement already satisfied: pydash>=6.0.0 in /usr/local/lib/python3.8/dist-packages (from azure.ai.ml) (8.0.0)\n",
            "Requirement already satisfied: isodate in /usr/local/lib/python3.8/dist-packages (from azure.ai.ml) (0.6.1)\n",
            "Requirement already satisfied: azure-common<2.0.0,>=1.1 in /usr/local/lib/python3.8/dist-packages (from azure.ai.ml) (1.1.28)\n",
            "Requirement already satisfied: typing-extensions<5.0.0 in /usr/local/lib/python3.8/dist-packages (from azure.ai.ml) (4.4.0)\n",
            "Requirement already satisfied: opencensus-ext-azure<2.0.0 in /usr/local/lib/python3.8/dist-packages (from azure.ai.ml) (1.1.13)\n",
            "Requirement already satisfied: opencensus-ext-logging<=0.1.1 in /usr/local/lib/python3.8/dist-packages (from azure.ai.ml) (0.1.1)\n",
            "Requirement already satisfied: requests>=2.21.0 in /usr/local/lib/python3.8/dist-packages (from azure-core<2.0.0,>=1.23.0->azure.ai.ml) (2.26.0)\n",
            "Requirement already satisfied: six>=1.11.0 in /usr/local/lib/python3.8/dist-packages (from azure-core<2.0.0,>=1.23.0->azure.ai.ml) (1.16.0)\n",
            "Collecting typing-extensions<5.0.0 (from azure.ai.ml)\n",
            "  Using cached typing_extensions-4.11.0-py3-none-any.whl.metadata (3.0 kB)\n",
            "Requirement already satisfied: cryptography>=2.1.4 in /usr/local/lib/python3.8/dist-packages (from azure-storage-blob<13.0.0,>=12.10.0->azure.ai.ml) (42.0.5)\n",
            "Requirement already satisfied: attrs>=22.2.0 in /usr/local/lib/python3.8/dist-packages (from jsonschema<5.0.0,>=4.0.0->azure.ai.ml) (23.2.0)\n",
            "Requirement already satisfied: importlib-resources>=1.4.0 in /usr/local/lib/python3.8/dist-packages (from jsonschema<5.0.0,>=4.0.0->azure.ai.ml) (6.0.1)\n",
            "Requirement already satisfied: jsonschema-specifications>=2023.03.6 in /usr/local/lib/python3.8/dist-packages (from jsonschema<5.0.0,>=4.0.0->azure.ai.ml) (2023.12.1)\n",
            "Requirement already satisfied: pkgutil-resolve-name>=1.3.10 in /usr/local/lib/python3.8/dist-packages (from jsonschema<5.0.0,>=4.0.0->azure.ai.ml) (1.3.10)\n",
            "Requirement already satisfied: referencing>=0.28.4 in /usr/local/lib/python3.8/dist-packages (from jsonschema<5.0.0,>=4.0.0->azure.ai.ml) (0.34.0)\n",
            "Requirement already satisfied: rpds-py>=0.7.1 in /usr/local/lib/python3.8/dist-packages (from jsonschema<5.0.0,>=4.0.0->azure.ai.ml) (0.18.0)\n",
            "Requirement already satisfied: packaging>=17.0 in /usr/local/lib/python3.8/dist-packages (from marshmallow<4.0.0,>=3.5->azure.ai.ml) (23.1)\n",
            "Requirement already satisfied: certifi>=2017.4.17 in /usr/local/lib/python3.8/dist-packages (from msrest>=0.6.18->azure.ai.ml) (2021.10.8)\n",
            "Requirement already satisfied: requests-oauthlib>=0.5.0 in /usr/local/lib/python3.8/dist-packages (from msrest>=0.6.18->azure.ai.ml) (1.3.0)\n",
            "Requirement already satisfied: azure-identity<2.0.0,>=1.5.0 in /usr/local/lib/python3.8/dist-packages (from opencensus-ext-azure<2.0.0->azure.ai.ml) (1.15.0)\n",
            "Requirement already satisfied: opencensus<1.0.0,>=0.11.4 in /usr/local/lib/python3.8/dist-packages (from opencensus-ext-azure<2.0.0->azure.ai.ml) (0.11.4)\n",
            "Requirement already satisfied: psutil>=5.6.3 in /root/.local/lib/python3.8/site-packages (from opencensus-ext-azure<2.0.0->azure.ai.ml) (5.9.5)\n",
            "Requirement already satisfied: python-dateutil>=2.6.0 in /usr/local/lib/python3.8/dist-packages (from strictyaml<2.0.0->azure.ai.ml) (2.8.2)\n",
            "Requirement already satisfied: msal<2.0.0,>=1.24.0 in /usr/local/lib/python3.8/dist-packages (from azure-identity<2.0.0,>=1.5.0->opencensus-ext-azure<2.0.0->azure.ai.ml) (1.28.0)\n",
            "Requirement already satisfied: msal-extensions<2.0.0,>=0.3.0 in /usr/local/lib/python3.8/dist-packages (from azure-identity<2.0.0,>=1.5.0->opencensus-ext-azure<2.0.0->azure.ai.ml) (1.1.0)\n",
            "Requirement already satisfied: cffi>=1.12 in /usr/local/lib/python3.8/dist-packages (from cryptography>=2.1.4->azure-storage-blob<13.0.0,>=12.10.0->azure.ai.ml) (1.16.0)\n",
            "Requirement already satisfied: zipp>=3.1.0 in /usr/local/lib/python3.8/dist-packages (from importlib-resources>=1.4.0->jsonschema<5.0.0,>=4.0.0->azure.ai.ml) (3.16.2)\n",
            "Requirement already satisfied: opencensus-context>=0.1.3 in /usr/local/lib/python3.8/dist-packages (from opencensus<1.0.0,>=0.11.4->opencensus-ext-azure<2.0.0->azure.ai.ml) (0.1.3)\n",
            "Requirement already satisfied: google-api-core<3.0.0,>=1.0.0 in /usr/local/lib/python3.8/dist-packages (from opencensus<1.0.0,>=0.11.4->opencensus-ext-azure<2.0.0->azure.ai.ml) (2.18.0)\n",
            "Requirement already satisfied: urllib3<1.27,>=1.21.1 in /usr/local/lib/python3.8/dist-packages (from requests>=2.21.0->azure-core<2.0.0,>=1.23.0->azure.ai.ml) (1.26.18)\n",
            "Requirement already satisfied: charset-normalizer~=2.0.0 in /usr/local/lib/python3.8/dist-packages (from requests>=2.21.0->azure-core<2.0.0,>=1.23.0->azure.ai.ml) (2.0.7)\n",
            "Requirement already satisfied: idna<4,>=2.5 in /usr/local/lib/python3.8/dist-packages (from requests>=2.21.0->azure-core<2.0.0,>=1.23.0->azure.ai.ml) (3.3)\n",
            "Requirement already satisfied: oauthlib>=3.0.0 in /usr/local/lib/python3.8/dist-packages (from requests-oauthlib>=0.5.0->msrest>=0.6.18->azure.ai.ml) (3.1.1)\n",
            "Requirement already satisfied: pycparser in /usr/local/lib/python3.8/dist-packages (from cffi>=1.12->cryptography>=2.1.4->azure-storage-blob<13.0.0,>=12.10.0->azure.ai.ml) (2.22)\n",
            "Requirement already satisfied: googleapis-common-protos<2.0.dev0,>=1.56.2 in /usr/local/lib/python3.8/dist-packages (from google-api-core<3.0.0,>=1.0.0->opencensus<1.0.0,>=0.11.4->opencensus-ext-azure<2.0.0->azure.ai.ml) (1.63.0)\n",
            "Requirement already satisfied: protobuf!=3.20.0,!=3.20.1,!=4.21.0,!=4.21.1,!=4.21.2,!=4.21.3,!=4.21.4,!=4.21.5,<5.0.0.dev0,>=3.19.5 in /usr/local/lib/python3.8/dist-packages (from google-api-core<3.0.0,>=1.0.0->opencensus<1.0.0,>=0.11.4->opencensus-ext-azure<2.0.0->azure.ai.ml) (4.25.3)\n",
            "Requirement already satisfied: proto-plus<2.0.0dev,>=1.22.3 in /usr/local/lib/python3.8/dist-packages (from google-api-core<3.0.0,>=1.0.0->opencensus<1.0.0,>=0.11.4->opencensus-ext-azure<2.0.0->azure.ai.ml) (1.23.0)\n",
            "Requirement already satisfied: google-auth<3.0.dev0,>=2.14.1 in /usr/local/lib/python3.8/dist-packages (from google-api-core<3.0.0,>=1.0.0->opencensus<1.0.0,>=0.11.4->opencensus-ext-azure<2.0.0->azure.ai.ml) (2.29.0)\n",
            "Requirement already satisfied: portalocker<3,>=1.0 in /usr/local/lib/python3.8/dist-packages (from msal-extensions<2.0.0,>=0.3.0->azure-identity<2.0.0,>=1.5.0->opencensus-ext-azure<2.0.0->azure.ai.ml) (2.8.2)\n",
            "Requirement already satisfied: cachetools<6.0,>=2.0.0 in /usr/local/lib/python3.8/dist-packages (from google-auth<3.0.dev0,>=2.14.1->google-api-core<3.0.0,>=1.0.0->opencensus<1.0.0,>=0.11.4->opencensus-ext-azure<2.0.0->azure.ai.ml) (4.2.4)\n",
            "Requirement already satisfied: pyasn1-modules>=0.2.1 in /usr/local/lib/python3.8/dist-packages (from google-auth<3.0.dev0,>=2.14.1->google-api-core<3.0.0,>=1.0.0->opencensus<1.0.0,>=0.11.4->opencensus-ext-azure<2.0.0->azure.ai.ml) (0.2.8)\n",
            "Requirement already satisfied: rsa<5,>=3.1.4 in /usr/local/lib/python3.8/dist-packages (from google-auth<3.0.dev0,>=2.14.1->google-api-core<3.0.0,>=1.0.0->opencensus<1.0.0,>=0.11.4->opencensus-ext-azure<2.0.0->azure.ai.ml) (4.7.2)\n",
            "Requirement already satisfied: pyasn1<0.5.0,>=0.4.6 in /usr/local/lib/python3.8/dist-packages (from pyasn1-modules>=0.2.1->google-auth<3.0.dev0,>=2.14.1->google-api-core<3.0.0,>=1.0.0->opencensus<1.0.0,>=0.11.4->opencensus-ext-azure<2.0.0->azure.ai.ml) (0.4.8)\n",
            "Using cached typing_extensions-4.11.0-py3-none-any.whl (34 kB)\n",
            "Installing collected packages: typing-extensions\n",
            "  Attempting uninstall: typing-extensions\n",
            "    Found existing installation: typing_extensions 4.4.0\n",
            "    Uninstalling typing_extensions-4.4.0:\n",
            "      Successfully uninstalled typing_extensions-4.4.0\n",
            "Successfully installed typing-extensions-4.11.0\n",
            "\u001b[33mWARNING: Running pip as the 'root' user can result in broken permissions and conflicting behaviour with the system package manager. It is recommended to use a virtual environment instead: https://pip.pypa.io/warnings/venv\u001b[0m\u001b[33m\n",
            "\u001b[0m"
          ]
        }
      ],
      "source": [
        "!pip install typing_extensions==4.4.0\n",
        "import typing_extensions\n",
        "from importlib import reload\n",
        "reload(typing_extensions)\n",
        "!pip install azure.ai.ml"
      ]
    },
    {
      "cell_type": "code",
      "execution_count": 4,
      "metadata": {
        "id": "UfOdc9FSd7xt"
      },
      "outputs": [
        {
          "name": "stdout",
          "output_type": "stream",
          "text": [
            "Collecting en-core-web-sm==3.7.1\n",
            "  Downloading https://github.com/explosion/spacy-models/releases/download/en_core_web_sm-3.7.1/en_core_web_sm-3.7.1-py3-none-any.whl (12.8 MB)\n",
            "\u001b[2K     \u001b[90m━━━━━━━━━━━━━━━━━━━━━━━━━━━━━━━━━━━━━━━━\u001b[0m \u001b[32m12.8/12.8 MB\u001b[0m \u001b[31m9.3 MB/s\u001b[0m eta \u001b[36m0:00:00\u001b[0m00:01\u001b[0m:00:01\u001b[0m\n",
            "\u001b[?25hRequirement already satisfied: spacy<3.8.0,>=3.7.2 in /usr/local/lib/python3.8/dist-packages (from en-core-web-sm==3.7.1) (3.7.4)\n",
            "Requirement already satisfied: spacy-legacy<3.1.0,>=3.0.11 in /usr/local/lib/python3.8/dist-packages (from spacy<3.8.0,>=3.7.2->en-core-web-sm==3.7.1) (3.0.12)\n",
            "Requirement already satisfied: spacy-loggers<2.0.0,>=1.0.0 in /usr/local/lib/python3.8/dist-packages (from spacy<3.8.0,>=3.7.2->en-core-web-sm==3.7.1) (1.0.5)\n",
            "Requirement already satisfied: murmurhash<1.1.0,>=0.28.0 in /usr/local/lib/python3.8/dist-packages (from spacy<3.8.0,>=3.7.2->en-core-web-sm==3.7.1) (1.0.10)\n",
            "Requirement already satisfied: cymem<2.1.0,>=2.0.2 in /usr/local/lib/python3.8/dist-packages (from spacy<3.8.0,>=3.7.2->en-core-web-sm==3.7.1) (2.0.8)\n",
            "Requirement already satisfied: preshed<3.1.0,>=3.0.2 in /usr/local/lib/python3.8/dist-packages (from spacy<3.8.0,>=3.7.2->en-core-web-sm==3.7.1) (3.0.9)\n",
            "Requirement already satisfied: thinc<8.3.0,>=8.2.2 in /usr/local/lib/python3.8/dist-packages (from spacy<3.8.0,>=3.7.2->en-core-web-sm==3.7.1) (8.2.3)\n",
            "Requirement already satisfied: wasabi<1.2.0,>=0.9.1 in /usr/local/lib/python3.8/dist-packages (from spacy<3.8.0,>=3.7.2->en-core-web-sm==3.7.1) (1.1.2)\n",
            "Requirement already satisfied: srsly<3.0.0,>=2.4.3 in /usr/local/lib/python3.8/dist-packages (from spacy<3.8.0,>=3.7.2->en-core-web-sm==3.7.1) (2.4.8)\n",
            "Requirement already satisfied: catalogue<2.1.0,>=2.0.6 in /usr/local/lib/python3.8/dist-packages (from spacy<3.8.0,>=3.7.2->en-core-web-sm==3.7.1) (2.0.10)\n",
            "Requirement already satisfied: weasel<0.4.0,>=0.1.0 in /usr/local/lib/python3.8/dist-packages (from spacy<3.8.0,>=3.7.2->en-core-web-sm==3.7.1) (0.3.4)\n",
            "Requirement already satisfied: typer<0.10.0,>=0.3.0 in /usr/local/lib/python3.8/dist-packages (from spacy<3.8.0,>=3.7.2->en-core-web-sm==3.7.1) (0.9.4)\n",
            "Requirement already satisfied: smart-open<7.0.0,>=5.2.1 in /usr/local/lib/python3.8/dist-packages (from spacy<3.8.0,>=3.7.2->en-core-web-sm==3.7.1) (6.4.0)\n",
            "Requirement already satisfied: tqdm<5.0.0,>=4.38.0 in /usr/local/lib/python3.8/dist-packages (from spacy<3.8.0,>=3.7.2->en-core-web-sm==3.7.1) (4.66.1)\n",
            "Requirement already satisfied: requests<3.0.0,>=2.13.0 in /usr/local/lib/python3.8/dist-packages (from spacy<3.8.0,>=3.7.2->en-core-web-sm==3.7.1) (2.26.0)\n",
            "Requirement already satisfied: pydantic!=1.8,!=1.8.1,<3.0.0,>=1.7.4 in /usr/local/lib/python3.8/dist-packages (from spacy<3.8.0,>=3.7.2->en-core-web-sm==3.7.1) (2.6.4)\n",
            "Requirement already satisfied: jinja2 in /usr/local/lib/python3.8/dist-packages (from spacy<3.8.0,>=3.7.2->en-core-web-sm==3.7.1) (3.1.2)\n",
            "Requirement already satisfied: setuptools in /usr/local/lib/python3.8/dist-packages (from spacy<3.8.0,>=3.7.2->en-core-web-sm==3.7.1) (58.5.2)\n",
            "Requirement already satisfied: packaging>=20.0 in /usr/local/lib/python3.8/dist-packages (from spacy<3.8.0,>=3.7.2->en-core-web-sm==3.7.1) (23.1)\n",
            "Requirement already satisfied: langcodes<4.0.0,>=3.2.0 in /usr/local/lib/python3.8/dist-packages (from spacy<3.8.0,>=3.7.2->en-core-web-sm==3.7.1) (3.3.0)\n",
            "Requirement already satisfied: numpy>=1.15.0 in /usr/local/lib/python3.8/dist-packages (from spacy<3.8.0,>=3.7.2->en-core-web-sm==3.7.1) (1.24.4)\n",
            "Requirement already satisfied: annotated-types>=0.4.0 in /usr/local/lib/python3.8/dist-packages (from pydantic!=1.8,!=1.8.1,<3.0.0,>=1.7.4->spacy<3.8.0,>=3.7.2->en-core-web-sm==3.7.1) (0.6.0)\n",
            "Requirement already satisfied: pydantic-core==2.16.3 in /usr/local/lib/python3.8/dist-packages (from pydantic!=1.8,!=1.8.1,<3.0.0,>=1.7.4->spacy<3.8.0,>=3.7.2->en-core-web-sm==3.7.1) (2.16.3)\n",
            "Requirement already satisfied: typing-extensions>=4.6.1 in /usr/local/lib/python3.8/dist-packages (from pydantic!=1.8,!=1.8.1,<3.0.0,>=1.7.4->spacy<3.8.0,>=3.7.2->en-core-web-sm==3.7.1) (4.11.0)\n",
            "Requirement already satisfied: urllib3<1.27,>=1.21.1 in /usr/local/lib/python3.8/dist-packages (from requests<3.0.0,>=2.13.0->spacy<3.8.0,>=3.7.2->en-core-web-sm==3.7.1) (1.26.18)\n",
            "Requirement already satisfied: certifi>=2017.4.17 in /usr/local/lib/python3.8/dist-packages (from requests<3.0.0,>=2.13.0->spacy<3.8.0,>=3.7.2->en-core-web-sm==3.7.1) (2021.10.8)\n",
            "Requirement already satisfied: charset-normalizer~=2.0.0 in /usr/local/lib/python3.8/dist-packages (from requests<3.0.0,>=2.13.0->spacy<3.8.0,>=3.7.2->en-core-web-sm==3.7.1) (2.0.7)\n",
            "Requirement already satisfied: idna<4,>=2.5 in /usr/local/lib/python3.8/dist-packages (from requests<3.0.0,>=2.13.0->spacy<3.8.0,>=3.7.2->en-core-web-sm==3.7.1) (3.3)\n",
            "Requirement already satisfied: blis<0.8.0,>=0.7.8 in /usr/local/lib/python3.8/dist-packages (from thinc<8.3.0,>=8.2.2->spacy<3.8.0,>=3.7.2->en-core-web-sm==3.7.1) (0.7.11)\n",
            "Requirement already satisfied: confection<1.0.0,>=0.0.1 in /usr/local/lib/python3.8/dist-packages (from thinc<8.3.0,>=8.2.2->spacy<3.8.0,>=3.7.2->en-core-web-sm==3.7.1) (0.1.4)\n",
            "Requirement already satisfied: click<9.0.0,>=7.1.1 in /usr/local/lib/python3.8/dist-packages (from typer<0.10.0,>=0.3.0->spacy<3.8.0,>=3.7.2->en-core-web-sm==3.7.1) (8.1.7)\n",
            "Requirement already satisfied: cloudpathlib<0.17.0,>=0.7.0 in /usr/local/lib/python3.8/dist-packages (from weasel<0.4.0,>=0.1.0->spacy<3.8.0,>=3.7.2->en-core-web-sm==3.7.1) (0.16.0)\n",
            "Requirement already satisfied: MarkupSafe>=2.0 in /usr/local/lib/python3.8/dist-packages (from jinja2->spacy<3.8.0,>=3.7.2->en-core-web-sm==3.7.1) (2.1.3)\n",
            "\u001b[33mWARNING: Running pip as the 'root' user can result in broken permissions and conflicting behaviour with the system package manager. It is recommended to use a virtual environment instead: https://pip.pypa.io/warnings/venv\u001b[0m\u001b[33m\n",
            "\u001b[0m\u001b[38;5;2m✔ Download and installation successful\u001b[0m\n",
            "You can now load the package via spacy.load('en_core_web_sm')\n",
            "Collecting de-core-news-sm==3.7.0\n",
            "  Downloading https://github.com/explosion/spacy-models/releases/download/de_core_news_sm-3.7.0/de_core_news_sm-3.7.0-py3-none-any.whl (14.6 MB)\n",
            "\u001b[2K     \u001b[90m━━━━━━━━━━━━━━━━━━━━━━━━━━━━━━━━━━━━━━━━\u001b[0m \u001b[32m14.6/14.6 MB\u001b[0m \u001b[31m9.6 MB/s\u001b[0m eta \u001b[36m0:00:00\u001b[0m00:01\u001b[0m00:01\u001b[0mm\n",
            "\u001b[?25hRequirement already satisfied: spacy<3.8.0,>=3.7.0 in /usr/local/lib/python3.8/dist-packages (from de-core-news-sm==3.7.0) (3.7.4)\n",
            "Requirement already satisfied: spacy-legacy<3.1.0,>=3.0.11 in /usr/local/lib/python3.8/dist-packages (from spacy<3.8.0,>=3.7.0->de-core-news-sm==3.7.0) (3.0.12)\n",
            "Requirement already satisfied: spacy-loggers<2.0.0,>=1.0.0 in /usr/local/lib/python3.8/dist-packages (from spacy<3.8.0,>=3.7.0->de-core-news-sm==3.7.0) (1.0.5)\n",
            "Requirement already satisfied: murmurhash<1.1.0,>=0.28.0 in /usr/local/lib/python3.8/dist-packages (from spacy<3.8.0,>=3.7.0->de-core-news-sm==3.7.0) (1.0.10)\n",
            "Requirement already satisfied: cymem<2.1.0,>=2.0.2 in /usr/local/lib/python3.8/dist-packages (from spacy<3.8.0,>=3.7.0->de-core-news-sm==3.7.0) (2.0.8)\n",
            "Requirement already satisfied: preshed<3.1.0,>=3.0.2 in /usr/local/lib/python3.8/dist-packages (from spacy<3.8.0,>=3.7.0->de-core-news-sm==3.7.0) (3.0.9)\n",
            "Requirement already satisfied: thinc<8.3.0,>=8.2.2 in /usr/local/lib/python3.8/dist-packages (from spacy<3.8.0,>=3.7.0->de-core-news-sm==3.7.0) (8.2.3)\n",
            "Requirement already satisfied: wasabi<1.2.0,>=0.9.1 in /usr/local/lib/python3.8/dist-packages (from spacy<3.8.0,>=3.7.0->de-core-news-sm==3.7.0) (1.1.2)\n",
            "Requirement already satisfied: srsly<3.0.0,>=2.4.3 in /usr/local/lib/python3.8/dist-packages (from spacy<3.8.0,>=3.7.0->de-core-news-sm==3.7.0) (2.4.8)\n",
            "Requirement already satisfied: catalogue<2.1.0,>=2.0.6 in /usr/local/lib/python3.8/dist-packages (from spacy<3.8.0,>=3.7.0->de-core-news-sm==3.7.0) (2.0.10)\n",
            "Requirement already satisfied: weasel<0.4.0,>=0.1.0 in /usr/local/lib/python3.8/dist-packages (from spacy<3.8.0,>=3.7.0->de-core-news-sm==3.7.0) (0.3.4)\n",
            "Requirement already satisfied: typer<0.10.0,>=0.3.0 in /usr/local/lib/python3.8/dist-packages (from spacy<3.8.0,>=3.7.0->de-core-news-sm==3.7.0) (0.9.4)\n",
            "Requirement already satisfied: smart-open<7.0.0,>=5.2.1 in /usr/local/lib/python3.8/dist-packages (from spacy<3.8.0,>=3.7.0->de-core-news-sm==3.7.0) (6.4.0)\n",
            "Requirement already satisfied: tqdm<5.0.0,>=4.38.0 in /usr/local/lib/python3.8/dist-packages (from spacy<3.8.0,>=3.7.0->de-core-news-sm==3.7.0) (4.66.1)\n",
            "Requirement already satisfied: requests<3.0.0,>=2.13.0 in /usr/local/lib/python3.8/dist-packages (from spacy<3.8.0,>=3.7.0->de-core-news-sm==3.7.0) (2.26.0)\n",
            "Requirement already satisfied: pydantic!=1.8,!=1.8.1,<3.0.0,>=1.7.4 in /usr/local/lib/python3.8/dist-packages (from spacy<3.8.0,>=3.7.0->de-core-news-sm==3.7.0) (2.6.4)\n",
            "Requirement already satisfied: jinja2 in /usr/local/lib/python3.8/dist-packages (from spacy<3.8.0,>=3.7.0->de-core-news-sm==3.7.0) (3.1.2)\n",
            "Requirement already satisfied: setuptools in /usr/local/lib/python3.8/dist-packages (from spacy<3.8.0,>=3.7.0->de-core-news-sm==3.7.0) (58.5.2)\n",
            "Requirement already satisfied: packaging>=20.0 in /usr/local/lib/python3.8/dist-packages (from spacy<3.8.0,>=3.7.0->de-core-news-sm==3.7.0) (23.1)\n",
            "Requirement already satisfied: langcodes<4.0.0,>=3.2.0 in /usr/local/lib/python3.8/dist-packages (from spacy<3.8.0,>=3.7.0->de-core-news-sm==3.7.0) (3.3.0)\n",
            "Requirement already satisfied: numpy>=1.15.0 in /usr/local/lib/python3.8/dist-packages (from spacy<3.8.0,>=3.7.0->de-core-news-sm==3.7.0) (1.24.4)\n",
            "Requirement already satisfied: annotated-types>=0.4.0 in /usr/local/lib/python3.8/dist-packages (from pydantic!=1.8,!=1.8.1,<3.0.0,>=1.7.4->spacy<3.8.0,>=3.7.0->de-core-news-sm==3.7.0) (0.6.0)\n",
            "Requirement already satisfied: pydantic-core==2.16.3 in /usr/local/lib/python3.8/dist-packages (from pydantic!=1.8,!=1.8.1,<3.0.0,>=1.7.4->spacy<3.8.0,>=3.7.0->de-core-news-sm==3.7.0) (2.16.3)\n",
            "Requirement already satisfied: typing-extensions>=4.6.1 in /usr/local/lib/python3.8/dist-packages (from pydantic!=1.8,!=1.8.1,<3.0.0,>=1.7.4->spacy<3.8.0,>=3.7.0->de-core-news-sm==3.7.0) (4.11.0)\n",
            "Requirement already satisfied: urllib3<1.27,>=1.21.1 in /usr/local/lib/python3.8/dist-packages (from requests<3.0.0,>=2.13.0->spacy<3.8.0,>=3.7.0->de-core-news-sm==3.7.0) (1.26.18)\n",
            "Requirement already satisfied: certifi>=2017.4.17 in /usr/local/lib/python3.8/dist-packages (from requests<3.0.0,>=2.13.0->spacy<3.8.0,>=3.7.0->de-core-news-sm==3.7.0) (2021.10.8)\n",
            "Requirement already satisfied: charset-normalizer~=2.0.0 in /usr/local/lib/python3.8/dist-packages (from requests<3.0.0,>=2.13.0->spacy<3.8.0,>=3.7.0->de-core-news-sm==3.7.0) (2.0.7)\n",
            "Requirement already satisfied: idna<4,>=2.5 in /usr/local/lib/python3.8/dist-packages (from requests<3.0.0,>=2.13.0->spacy<3.8.0,>=3.7.0->de-core-news-sm==3.7.0) (3.3)\n",
            "Requirement already satisfied: blis<0.8.0,>=0.7.8 in /usr/local/lib/python3.8/dist-packages (from thinc<8.3.0,>=8.2.2->spacy<3.8.0,>=3.7.0->de-core-news-sm==3.7.0) (0.7.11)\n",
            "Requirement already satisfied: confection<1.0.0,>=0.0.1 in /usr/local/lib/python3.8/dist-packages (from thinc<8.3.0,>=8.2.2->spacy<3.8.0,>=3.7.0->de-core-news-sm==3.7.0) (0.1.4)\n",
            "Requirement already satisfied: click<9.0.0,>=7.1.1 in /usr/local/lib/python3.8/dist-packages (from typer<0.10.0,>=0.3.0->spacy<3.8.0,>=3.7.0->de-core-news-sm==3.7.0) (8.1.7)\n",
            "Requirement already satisfied: cloudpathlib<0.17.0,>=0.7.0 in /usr/local/lib/python3.8/dist-packages (from weasel<0.4.0,>=0.1.0->spacy<3.8.0,>=3.7.0->de-core-news-sm==3.7.0) (0.16.0)\n",
            "Requirement already satisfied: MarkupSafe>=2.0 in /usr/local/lib/python3.8/dist-packages (from jinja2->spacy<3.8.0,>=3.7.0->de-core-news-sm==3.7.0) (2.1.3)\n",
            "\u001b[33mWARNING: Running pip as the 'root' user can result in broken permissions and conflicting behaviour with the system package manager. It is recommended to use a virtual environment instead: https://pip.pypa.io/warnings/venv\u001b[0m\u001b[33m\n",
            "\u001b[0m\u001b[38;5;2m✔ Download and installation successful\u001b[0m\n",
            "You can now load the package via spacy.load('de_core_news_sm')\n"
          ]
        },
        {
          "name": "stderr",
          "output_type": "stream",
          "text": [
            "/usr/local/lib/python3.8/dist-packages/tqdm/auto.py:21: TqdmWarning: IProgress not found. Please update jupyter and ipywidgets. See https://ipywidgets.readthedocs.io/en/stable/user_install.html\n",
            "  from .autonotebook import tqdm as notebook_tqdm\n"
          ]
        }
      ],
      "source": [
        "!python -m spacy download en_core_web_sm\n",
        "!python -m spacy download de_core_news_sm\n",
        "\n",
        "\n",
        "import spacy\n",
        "\n",
        "spacy_en = spacy.load('en_core_web_sm') # 영어 토큰화(tokenization)\n",
        "spacy_de = spacy.load('de_core_news_sm') # 독일어 토큰화(tokenization)"
      ]
    },
    {
      "cell_type": "code",
      "execution_count": 5,
      "metadata": {
        "colab": {
          "base_uri": "https://localhost:8080/"
        },
        "id": "eet4iWy_d8s7",
        "outputId": "fb91c26e-5dba-431f-8970-f38a33a6c2b1"
      },
      "outputs": [
        {
          "name": "stdout",
          "output_type": "stream",
          "text": [
            "인덱스 0: I\n",
            "인덱스 1: am\n",
            "인덱스 2: a\n",
            "인덱스 3: graduate\n",
            "인덱스 4: student\n",
            "인덱스 5: ,\n",
            "인덱스 6: and\n",
            "인덱스 7: my\n",
            "인덱스 8: name\n",
            "인덱스 9: is\n",
            "인덱스 10: Sarah\n",
            "인덱스 11: .\n"
          ]
        }
      ],
      "source": [
        "# 간단히 토큰화(tokenization) 기능 써보기\n",
        "tokenized = spacy_en.tokenizer(\"I am a graduate student, and my name is Sarah.\")\n",
        "\n",
        "for i, token in enumerate(tokenized):\n",
        "    print(f\"인덱스 {i}: {token.text}\")"
      ]
    },
    {
      "cell_type": "markdown",
      "metadata": {
        "id": "iqhzmLvjeFZE"
      },
      "source": [
        "* 영어(English) 및 독일어(Deutsch) **토큰화 함수** 정의"
      ]
    },
    {
      "cell_type": "code",
      "execution_count": 6,
      "metadata": {
        "id": "USWSV869d-s7"
      },
      "outputs": [],
      "source": [
        "# 독일어(Deutsch) 문장을 토큰화 하는 함수 (순서를 뒤집지 않음)\n",
        "def tokenize_de(text):\n",
        "    return [token.text for token in spacy_de.tokenizer(text)]\n",
        "\n",
        "# 영어(English) 문장을 토큰화 하는 함수\n",
        "def tokenize_en(text):\n",
        "    return [token.text for token in spacy_en.tokenizer(text)]"
      ]
    },
    {
      "cell_type": "markdown",
      "metadata": {
        "id": "ZYi1dM7-eH0N"
      },
      "source": [
        "* **필드(field)** 라이브러리를 이용해 데이터셋에 대한 구체적인 전처리 내용을 명시\n",
        "* Seq2Seq 모델과는 다르게 <b>batch_first 속성의 값을 True로 설정</b>\n",
        "* 번역 목표\n",
        "    * 소스(SRC): 독일어\n",
        "    * 목표(TRG): 영어"
      ]
    },
    {
      "cell_type": "markdown",
      "metadata": {},
      "source": [
        "#### * BucketIterator 사용하면 데이터를 배치처리할 때, 유사한 길이의 시퀀스끼리 그룹화해서 처리 가능 => 불필요한 패딩 최소화\n",
        "- 데이터셋 정의 -> Field 객체 이용해 데이터 전처리 방법 정의 -> BucketIterator 생성 및 로드\n",
        "- 데이터로더 대신 BucketIterator 사용"
      ]
    },
    {
      "cell_type": "code",
      "execution_count": 36,
      "metadata": {
        "id": "r_dSDRtReGnU"
      },
      "outputs": [],
      "source": [
        "from torchtext.data import Field, BucketIterator, Dataset, Example\n",
        "import os\n",
        "import gzip\n",
        "import torch\n",
        "\n",
        "\n",
        "SRC = Field(tokenize=tokenize_de, init_token=\"<sos>\", eos_token=\"<eos>\", lower=True, batch_first=True)\n",
        "TRG = Field(tokenize=tokenize_en, init_token=\"<sos>\", eos_token=\"<eos>\", lower=True, batch_first=True)\n",
        "\n",
        "source_path = '/opt/workspace/Seohyeon/Projects/.data/multi30k/SRC'\n",
        "target_path ='/opt/workspace/Seohyeon/Projects/.data/multi30k/TRG'\n",
        "\n",
        "\n",
        "def Create_Dataset(src_dir, trg_dir):\n",
        "    examples = []\n",
        "    with gzip.open(src_dir, 'rt', encoding='utf-8') as src_file, \\\n",
        "        gzip.open(trg_dir, 'rt', encoding='utf-8') as trg_file:\n",
        "        \n",
        "        for src_line, trg_line in zip(src_file, trg_file):\n",
        "            examples.append(Example.fromlist([src_line.strip(), trg_line.strip()], fields=[('src', SRC), ('trg', TRG)])) # strip(): 문자열 양 끝 공백 제거 / fromlist(): Example 객체 생성\n",
        "\n",
        "    # Dataset 생성\n",
        "    dataset = Dataset(examples, fields={'src': SRC, 'trg': TRG})\n",
        "    return dataset\n",
        "\n",
        "def Create_iterator(dataset, BATCH_SIZE):\n",
        "    iterator, = BucketIterator.splits(\n",
        "        (dataset,),  # 데이터셋을 튜플 형태로 제공\n",
        "        batch_size = BATCH_SIZE,\n",
        "        sort_within_batch = True,\n",
        "        sort_key = lambda x: len(x.src),  # src 길이에 따라 정렬\n",
        "        device = torch.device('cuda' if torch.cuda.is_available() else 'cpu')\n",
        "    )\n",
        "    return iterator\n",
        "\n",
        "train_dataset = Create_Dataset(os.path.join(source_path, 'train.en.gz'), os.path.join(target_path, 'train.de.gz'))\n",
        "valid_dataset = Create_Dataset(os.path.join(source_path, 'val.en.gz'), os.path.join(target_path, 'val.de.gz'))\n",
        "test_dataset = Create_Dataset(os.path.join(source_path, 'test_2016_flickr.en.gz'), os.path.join(target_path, 'test_2016_flickr.de.gz'))\n",
        "\n",
        "# BucketIterator 사용\n",
        "train_iterator = Create_iterator(train_dataset, BATCH_SIZE=128)\n",
        "valid_iterator = Create_iterator(valid_dataset, BATCH_SIZE=128)\n",
        "test_iterator = Create_iterator(test_dataset, BATCH_SIZE=128)"
      ]
    },
    {
      "cell_type": "code",
      "execution_count": 46,
      "metadata": {},
      "outputs": [
        {
          "name": "stdout",
          "output_type": "stream",
          "text": [
            "첫 번째 배치 크기: torch.Size([128, 21])\n",
            "인덱스 0: 2\n",
            "인덱스 1: 4\n",
            "인덱스 2: 546\n",
            "인덱스 3: 14\n",
            "인덱스 4: 22\n",
            "인덱스 5: 4\n",
            "인덱스 6: 0\n",
            "인덱스 7: 277\n",
            "인덱스 8: 67\n",
            "인덱스 9: 14\n",
            "인덱스 10: 10\n",
            "인덱스 11: 31\n",
            "인덱스 12: 8\n",
            "인덱스 13: 4\n",
            "인덱스 14: 1136\n",
            "인덱스 15: 70\n",
            "인덱스 16: 18\n",
            "인덱스 17: 27\n",
            "인덱스 18: 1837\n",
            "인덱스 19: 5\n",
            "인덱스 20: 3\n"
          ]
        }
      ],
      "source": [
        "\n",
        "for i, batch in enumerate(train_iterator):\n",
        "    src = batch.src\n",
        "    trg = batch.trg\n",
        "\n",
        "    print(f\"첫 번째 배치 크기: {src.shape}\")\n",
        "\n",
        "    # 현재 배치에 있는 하나의 문장에 포함된 정보 출력\n",
        "    for i in range(src.shape[1]):\n",
        "        print(f\"인덱스 {i}: {src[0][i].item()}\") # 여기에서는 [Seq_num, Seq_len]\n",
        "\n",
        "    # 첫 번째 배치만 확인\n",
        "    break"
      ]
    },
    {
      "cell_type": "code",
      "execution_count": 38,
      "metadata": {
        "colab": {
          "base_uri": "https://localhost:8080/"
        },
        "id": "KQ-Lhpp0ecOi",
        "outputId": "7ed79a6b-7f19-4635-be2c-aaf3ea32bfd1"
      },
      "outputs": [
        {
          "name": "stdout",
          "output_type": "stream",
          "text": [
            "학습 데이터셋(training dataset) 크기: 29000개\n",
            "평가 데이터셋(validation dataset) 크기: 1014개\n",
            "테스트 데이터셋(testing dataset) 크기: 1000개\n"
          ]
        }
      ],
      "source": [
        "print(f\"학습 데이터셋(training dataset) 크기: {len(train_dataset.examples)}개\")\n",
        "print(f\"평가 데이터셋(validation dataset) 크기: {len(valid_dataset.examples)}개\")\n",
        "print(f\"테스트 데이터셋(testing dataset) 크기: {len(test_dataset.examples)}개\")"
      ]
    },
    {
      "cell_type": "code",
      "execution_count": 39,
      "metadata": {
        "colab": {
          "base_uri": "https://localhost:8080/"
        },
        "id": "VYghX0SueecT",
        "outputId": "5250e04b-e689-4512-ef4b-5af89ca00bd1"
      },
      "outputs": [
        {
          "name": "stdout",
          "output_type": "stream",
          "text": [
            "['a', 'man', 'standing', 'at', 'a', 'urinal', 'with', 'a', 'coffee', 'cup', '.']\n",
            "['ein', 'mann', ',', 'der', 'mit', 'einer', 'tasse', 'kaffee', 'an', 'einem', 'urinal', 'steht', '.']\n"
          ]
        }
      ],
      "source": [
        "# 학습 데이터 중 하나를 선택해 출력\n",
        "print(train_dataset.examples[30].src)  # src 속성에 직접 접근\n",
        "print(train_dataset.examples[30].trg)  # trg 속성에 직접 접근\n",
        "\n"
      ]
    },
    {
      "cell_type": "markdown",
      "metadata": {
        "id": "ekQys1HpegX_"
      },
      "source": [
        "* **필드(field)** 객체의 **build_vocab** 메서드를 이용해 영어와 독어의 단어 사전을 생성\n",
        "  * **최소 2번 이상** 등장한 단어만을 선택\n",
        "  * 토큰화 전처리가 끝나면, 각 단어에 고유한 정수를 매핑해주는 integer encoding 작업이 필요.\n",
        "  * 이 전처리를 위해서는 단어집합을 먼저 만들어줘야하고, .build_vocab()을 사용해서 단어 집합 생성 가능함"
      ]
    },
    {
      "cell_type": "code",
      "execution_count": 42,
      "metadata": {
        "colab": {
          "base_uri": "https://localhost:8080/"
        },
        "id": "X4A5ksMyefKy",
        "outputId": "4055d2a5-201d-4d56-982a-389a4e211d92"
      },
      "outputs": [
        {
          "name": "stdout",
          "output_type": "stream",
          "text": [
            "len(SRC): 5972\n",
            "len(TRG): 7874\n"
          ]
        }
      ],
      "source": [
        "def tokenize(text):\n",
        "    return text.split()\n",
        "\n",
        "# 데이터셋 준비\n",
        "src_data = [example.src for example in train_dataset.examples]\n",
        "trg_data = [example.trg for example in train_dataset.examples]\n",
        "\n",
        "# 어휘 구축\n",
        "SRC.build_vocab(src_data, min_freq=2)\n",
        "TRG.build_vocab(trg_data, min_freq=2)\n",
        "print(f\"len(SRC): {len(SRC.vocab)}\")\n",
        "print(f\"len(TRG): {len(TRG.vocab)}\")"
      ]
    },
    {
      "cell_type": "code",
      "execution_count": 43,
      "metadata": {
        "colab": {
          "base_uri": "https://localhost:8080/"
        },
        "id": "xfo21o_5ehmK",
        "outputId": "eef00113-6a34-43b9-98b7-3463e931ff43"
      },
      "outputs": [
        {
          "name": "stdout",
          "output_type": "stream",
          "text": [
            "0\n",
            "1\n",
            "2\n",
            "3\n",
            "6366\n",
            "7769\n",
            "defaultdict(<bound method Vocab._default_unk_index of <torchtext.vocab.Vocab object at 0x7f70cf5c9070>>, {'<unk>': 0, '<pad>': 1, '<sos>': 2, '<eos>': 3, 'a': 4, '.': 5, 'in': 6, 'the': 7, 'on': 8, 'man': 9, 'is': 10, 'and': 11, 'of': 12, 'with': 13, ',': 14, 'woman': 15, 'two': 16, 'are': 17, 'to': 18, 'people': 19, 'at': 20, 'an': 21, 'wearing': 22, 'young': 23, 'white': 24, 'shirt': 25, 'black': 26, 'his': 27, 'while': 28, 'blue': 29, 'men': 30, 'sitting': 31, 'girl': 32, 'red': 33, 'boy': 34, 'dog': 35, 'standing': 36, 'playing': 37, 'group': 38, 'street': 39, 'down': 40, 'walking': 41, 'front': 42, 'her': 43, 'holding': 44, 'one': 45, 'three': 46, 'water': 47, 'by': 48, 'women': 49, 'green': 50, 'little': 51, 'up': 52, 'for': 53, 'looking': 54, 'child': 55, 'outside': 56, 'as': 57, 'large': 58, 'through': 59, 'yellow': 60, 'brown': 61, 'children': 62, 'person': 63, 'from': 64, 'their': 65, 'ball': 66, 'hat': 67, 'into': 68, 'small': 69, 'next': 70, 'other': 71, 'dressed': 72, 'some': 73, 'out': 74, 'over': 75, 'building': 76, 'riding': 77, 'running': 78, 'near': 79, 'jacket': 80, 'around': 81, 'another': 82, 'sidewalk': 83, 'field': 84, 'orange': 85, 'beach': 86, 'crowd': 87, 'stands': 88, 'pink': 89, 'sits': 90, 'jumping': 91, 'behind': 92, 'table': 93, 'grass': 94, 'background': 95, 'snow': 96, 'bike': 97, 'stand': 98, 'city': 99, 'girls': 100, 'air': 101, 'player': 102, 'asian': 103, 'looks': 104, 'wall': 105, 'top': 106, 'dogs': 107, 'several': 108, 'older': 109, 'four': 110, 'off': 111, 'dress': 112, 'that': 113, 'park': 114, 'camera': 115, 'talking': 116, 'something': 117, 'lady': 118, 'soccer': 119, 'along': 120, 'walks': 121, 'guitar': 122, 'boys': 123, 'hair': 124, 'play': 125, 'together': 126, 'working': 127, 'food': 128, 'smiling': 129, 'gray': 130, 'picture': 131, 'has': 132, 'game': 133, 'plays': 134, 'car': 135, 'holds': 136, 'hand': 137, 'road': 138, 'him': 139, 'bench': 140, 'it': 141, 'glasses': 142, 'pants': 143, 'old': 144, 'shorts': 145, 'stage': 146, 'sit': 147, 'carrying': 148, 'walk': 149, 'couple': 150, 'baby': 151, 'them': 152, 'bicycle': 153, 'side': 154, 'face': 155, '\"': 156, 'tree': 157, 'male': 158, 'pool': 159, 'race': 160, 'taking': 161, 'rock': 162, 'each': 163, 'doing': 164, 'across': 165, 'watching': 166, 'dirt': 167, 'head': 168, 'jeans': 169, 'area': 170, 'guy': 171, 'there': 172, 'blond': 173, 'jumps': 174, 'boat': 175, 'hands': 176, 'female': 177, 'day': 178, 'ground': 179, 'performing': 180, 'room': 181, 'back': 182, 'baseball': 183, 'eating': 184, 'being': 185, 'who': 186, 'football': 187, 'coat': 188, 'using': 189, 'kids': 190, 'suit': 191, 'under': 192, 'striped': 193, 'watch': 194, 'band': 195, 'many': 196, 'mouth': 197, 'purple': 198, 'horse': 199, 'sign': 200, 'store': 201, 'long': 202, 'this': 203, 'he': 204, 'runs': 205, 'sand': 206, 'tennis': 207, 'players': 208, 'construction': 209, 'look': 210, 'sunglasses': 211, 'reading': 212, 'clothing': 213, 'microphone': 214, 'mountain': 215, 'basketball': 216, 'dark': 217, 'ocean': 218, 'toy': 219, 'during': 220, 'its': 221, 'workers': 222, 'middle': 223, 'watches': 224, 't-shirt': 225, 'uniform': 226, 'climbing': 227, 'past': 228, 'elderly': 229, 'against': 230, 'helmet': 231, 'restaurant': 232, 'train': 233, 'dancing': 234, 'window': 235, 'rides': 236, 'team': 237, 'they': 238, 'about': 239, 'chair': 240, 'work': 241, 'be': 242, 'posing': 243, 'trees': 244, 'having': 245, 'outdoor': 246, 'wooden': 247, 'covered': 248, 'five': 249, 'waiting': 250, 'swimming': 251, 'all': 252, 'getting': 253, 'or': 254, 'floor': 255, 'trying': 256, 'very': 257, 'colorful': 258, 'skateboard': 259, 'bag': 260, 'busy': 261, 'ice': 262, 'fence': 263, 'singing': 264, 'shirts': 265, 'jump': 266, 'laying': 267, 'line': 268, 'hill': 269, 'market': 270, 'cart': 271, 'book': 272, 'bright': 273, 'hats': 274, 'inside': 275, 'ride': 276, 'tan': 277, 'cap': 278, 'kitchen': 279, 'others': 280, 'truck': 281, 'cellphone': 282, 'path': 283, 'big': 284, 'grassy': 285, 'high': 286, 'making': 287, 'bus': 288, 'clothes': 289, 'motorcycle': 290, 'takes': 291, 'umbrella': 292, 'outfit': 293, 'towards': 294, 'enjoying': 295, 'full': 296, 'night': 297, 'track': 298, 'body': 299, 'brick': 300, 'light': 301, 'metal': 302, 'paper': 303, 'ready': 304, 'river': 305, 'swing': 306, 'she': 307, 'tank': 308, 'someone': 309, 'shop': 310, 'open': 311, 'piece': 312, 'sweater': 313, 'trick': 314, 'above': 315, 'worker': 316, 'adults': 317, 'going': 318, 'lake': 319, 'painting': 320, 'colored': 321, 'music': 322, 'dance': 323, 'hard': 324, 'snowy': 325, 'run': 326, 'shopping': 327, 'surrounded': 328, 'wave': 329, 'onto': 330, 'uniforms': 331, 'vest': 332, 'outdoors': 333, 'stick': 334, 'photo': 335, 'stone': 336, 'backpack': 337, 'beside': 338, 'crowded': 339, 'smiles': 340, 'board': 341, 'african': 342, 'drinking': 343, 'gear': 344, 'kid': 345, 'subway': 346, 'family': 347, 'hockey': 348, 'phone': 349, 'pole': 350, 'american': 351, 'house': 352, 'event': 353, 'gathered': 354, 'guys': 355, 'hanging': 356, 'police': 357, 'toddler': 358, 'arms': 359, 'bridge': 360, 'catch': 361, 'flowers': 362, 'set': 363, 'beautiful': 364, 'preparing': 365, 'away': 366, 'fire': 367, 'costume': 368, 'leaning': 369, 'object': 370, 'sleeping': 371, 'after': 372, 'steps': 373, 'fishing': 374, 'lot': 375, 'machine': 376, 'fountain': 377, 'plaid': 378, 'rope': 379, 'bar': 380, 'shirtless': 381, 'take': 382, 'adult': 383, 'like': 384, 'stairs': 385, 'rocks': 386, 'shoes': 387, 'arm': 388, 'graffiti': 389, 'selling': 390, 'sunny': 391, 'does': 392, 'forest': 393, 'parade': 394, 'racing': 395, 'setting': 396, 'chairs': 397, 'pose': 398, 'tall': 399, 'both': 400, 'putting': 401, 'volleyball': 402, 'corner': 403, 'frisbee': 404, 'glass': 405, 'pushing': 406, 'throwing': 407, 'between': 408, 'drink': 409, 'have': 410, 'ladies': 411, 'slide': 412, 'computer': 413, 'laughing': 414, 'public': 415, 'short': 416, '2': 417, 'equipment': 418, 'instruments': 419, 'couch': 420, 'flag': 421, 'pictures': 422, 'cowboy': 423, 'party': 424, 'plastic': 425, 'ramp': 426, 'wood': 427, 'playground': 428, 'poses': 429, 'sweatshirt': 430, 'trail': 431, 'view': 432, 'which': 433, 'woods': 434, 'beard': 435, 'concrete': 436, 'fish': 437, 'sun': 438, 'dock': 439, 'midair': 440, 'statue': 441, 'winter': 442, 'yard': 443, 'number': 444, 'bikes': 445, 'seated': 446, 'skirt': 447, 'attire': 448, 'just': 449, 'reads': 450, 'toward': 451, 'beer': 452, 'cooking': 453, 'distance': 454, 'get': 455, 'works': 456, 'blond-hair': 457, 'cutting': 458, 'rider': 459, 'six': 460, 'bags': 461, 'buildings': 462, 'left': 463, 'pulling': 464, 'school': 465, 'vests': 466, 'where': 467, 'cream': 468, 'middle-aged': 469, 'appears': 470, 'bed': 471, 'skateboarder': 472, 'sky': 473, 'station': 474, 'what': 475, 'cliff': 476, 'cross': 477, 'crossing': 478, 'edge': 479, 'few': 480, 'friends': 481, 'instrument': 482, 'mountains': 483, 'showing': 484, 'spectators': 485, 'cars': 486, 'horses': 487, 'mother': 488, 'tent': 489, 'bearded': 490, 'court': 491, 'filled': 492, 'jersey': 493, 'make': 494, 'nearby': 495, 'performs': 496, 'right': 497, 'scarf': 498, 'apron': 499, 'bowling': 500, 'carries': 501, 'concert': 502, 'driving': 503, 'perform': 504, 'show': 505, 'snowboarder': 506, 'art': 507, 'fruit': 508, 'grill': 509, 'leaves': 510, 'shore': 511, 'boots': 512, 'cigarette': 513, 'coffee': 514, 'parked': 515, 'structure': 516, 'students': 517, 'various': 518, 'cup': 519, 'gentleman': 520, 'goggles': 521, 'lined': 522, 'smile': 523, 'younger': 524, 'bottle': 525, 'door': 526, 'drums': 527, 'flower': 528, 'martial': 529, 'net': 530, 'painted': 531, 'smoking': 532, 'talks': 533, 'vehicle': 534, 'dresses': 535, 'eyes': 536, 'flags': 537, 'flying': 538, 'hit': 539, 'kicking': 540, 'lying': 541, 'new': 542, 'no': 543, 'surfer': 544, 'time': 545, 'vendor': 546, 'bathing': 547, 'jackets': 548, 'newspaper': 549, 'prepares': 550, 'rain': 551, 'rocky': 552, 'rodeo': 553, 'safety': 554, 'shot': 555, 'swinging': 556, 'waves': 557, 'arts': 558, 'box': 559, 'bucket': 560, 'conversation': 561, 'costumes': 562, 'different': 563, 'gather': 564, 'gloves': 565, 'home': 566, 'indian': 567, 'paint': 568, 'parking': 569, 'practicing': 570, 'bunch': 571, 'cleaning': 572, 'competition': 573, 'ladder': 574, 'listening': 575, 'roof': 576, 'uses': 577, 'blanket': 578, 'items': 579, 'onlookers': 580, 'scene': 581, 'skateboarding': 582, 'staring': 583, 'wet': 584, 'audience': 585, 'balloon': 586, 'bicycles': 587, 'bikini': 588, 'bull': 589, 'desk': 590, 'empty': 591, 'giving': 592, 'lawn': 593, 'meal': 594, 'pile': 595, 'drinks': 596, 'hot': 597, 'leaps': 598, 'military': 599, 'railing': 600, 'cake': 601, 'display': 602, 'gathering': 603, 'hold': 604, 'pointing': 605, 'sliding': 606, 'sports': 607, 'vegetables': 608, 'before': 609, 'biker': 610, 'competing': 611, 'facing': 612, 'feet': 613, 'stop': 614, 'streets': 615, 'suits': 616, 'wedding': 617, 'basket': 618, 'bowl': 619, 'cement': 620, 'helmets': 621, 'huge': 622, 'platform': 623, 'speaking': 624, 'class': 625, 'classroom': 626, 'coming': 627, 'gets': 628, 'mask': 629, 'match': 630, 'silver': 631, 'teams': 632, 'alley': 633, 'climbs': 634, 'marathon': 635, 'purse': 636, 'sings': 637, 'skier': 638, 'surfboard': 639, 'surfing': 640, 'traditional': 641, 'tries': 642, 'wait': 643, 'animal': 644, 'bird': 645, 'chasing': 646, 'counter': 647, 'kissing': 648, 'musicians': 649, 'rail': 650, 'break': 651, 'can': 652, 'females': 653, 'gold': 654, 'same': 655, 'stroller': 656, 'tie': 657, 'country': 658, 'fighting': 659, 'happy': 660, 'kneeling': 661, 'lap': 662, 'pass': 663, 'shoulder': 664, 'sunset': 665, 'throw': 666, 'waits': 667, 'walkway': 668, 'writing': 669, 'attempting': 670, 'business': 671, 'christmas': 672, 'runner': 673, 'screen': 674, 'seen': 675, 'ski': 676, 'sort': 677, 'talk': 678, 'violin': 679, 'waving': 680, '3': 681, 'bald': 682, 'blowing': 683, 'bride': 684, 'father': 685, 'lit': 686, 'outfits': 687, 'overlooking': 688, 'place': 689, 'signs': 690, 'blond-haired': 691, 'bubbles': 692, 'course': 693, 'mirror': 694, 'officer': 695, 'says': 696, 'scooter': 697, 'son': 698, 'tables': 699, 'urban': 700, 'artist': 701, 'balloons': 702, 'base': 703, 'chinese': 704, 'close': 705, 'fixing': 706, 'giant': 707, 'hole': 708, 'leans': 709, 'life': 710, 'lights': 711, 'skating': 712, 'alone': 713, 'brunette': 714, 'cafe': 715, 'collar': 716, 'end': 717, 'faces': 718, 'foreground': 719, 'helping': 720, 'leather': 721, 'leg': 722, 'swim': 723, 'teenage': 724, 'umbrellas': 725, 'asleep': 726, 'brightly': 727, 'clown': 728, 'electric': 729, 'enjoy': 730, 'gym': 731, 'headphones': 732, 'legs': 733, 'made': 734, 'meat': 735, 'mud': 736, 'plate': 737, 'site': 738, 'skate': 739, 'among': 740, 'dancers': 741, 'diving': 742, 'do': 743, 'makes': 744, 'office': 745, 'officers': 746, 'passing': 747, 'sandals': 748, 'stadium': 749, 'sticks': 750, 'swings': 751, 'washing': 752, 'wears': 753, 'barefoot': 754, 'church': 755, 'dark-haired': 756, 'dirty': 757, 'doorway': 758, 'falling': 759, 'go': 760, 'goal': 761, 'heads': 762, 'multicolored': 763, 'musical': 764, 'toys': 765, 'way': 766, 'accordion': 767, 'canoe': 768, 'drawing': 769, 'golf': 770, 'laptop': 771, 'leash': 772, 'males': 773, \"man's\": 774, 'photographer': 775, 'picking': 776, 'reaching': 777, 'singer': 778, 'skiing': 779, 'throws': 780, 'traffic': 781, 'video': 782, 'below': 783, 'digging': 784, 'hiking': 785, 'members': 786, 'performance': 787, 'relaxing': 788, 'row': 789, 'shallow': 790, 'atop': 791, 'bicyclist': 792, 'cat': 793, 'catches': 794, 'catching': 795, 'flip': 796, 'foot': 797, 'gives': 798, 'hugging': 799, 'microscope': 800, 'passes': 801, 'shovel': 802, 'square': 803, 'tunnel': 804, 'van': 805, 'wheel': 806, 'balls': 807, 'drum': 808, 'fun': 809, 'garden': 810, 'leaping': 811, 'prepare': 812, 'shows': 813, 'sleeps': 814, 'stunt': 815, 'sweeping': 816, 'tattoo': 817, 'beige': 818, 'climb': 819, 'coats': 820, 'cold': 821, 'conversing': 822, 'desert': 823, 'flies': 824, 'here': 825, 'hoodie': 826, 'hose': 827, 'individuals': 828, 'karate': 829, 'kick': 830, 'lots': 831, 'move': 832, 'pond': 833, 'resting': 834, 'sculpture': 835, 'splashing': 836, 'teeth': 837, 'trunks': 838, 'upside': 839, ';': 840, 'bat': 841, 'customers': 842, 'held': 843, 'how': 844, 'jogging': 845, 'lone': 846, 'photograph': 847, 'pier': 848, 'plants': 849, 'points': 850, 'sled': 851, 'telescope': 852, 'these': 853, 'tire': 854, 'town': 855, 'underneath': 856, 'wrestling': 857, \"'\": 858, 'cane': 859, 'carnival': 860, 'cut': 861, 'cyclist': 862, 'daughter': 863, 'eat': 864, 'hiker': 865, 'including': 866, 'local': 867, 'moving': 868, 'opposing': 869, 'project': 870, 'roller': 871, 'shoulders': 872, 'themselves': 873, 'waters': 874, 'well': 875, 'without': 876, 'block': 877, 'cloth': 878, 'crosswalk': 879, 'crying': 880, 'deep': 881, 'dinner': 882, 'gun': 883, 'lab': 884, 'makeup': 885, 'matching': 886, 'mural': 887, 'produce': 888, 'pulled': 889, 'racket': 890, 'runners': 891, 'straw': 892, 'taken': 893, 'trampoline': 894, 'tricks': 895, 'wooded': 896, 'athlete': 897, 'attempts': 898, 'bicyclists': 899, 'booth': 900, 'closed': 901, 'dances': 902, 'friend': 903, 'infant': 904, 'mat': 905, 'nose': 906, 'opening': 907, 'performer': 908, 'picnic': 909, 'rolling': 910, 'sewing': 911, 'shoe': 912, 'stuffed': 913, 'surface': 914, 'trash': 915, \"woman's\": 916, 'balcony': 917, 'blouse': 918, 'boxes': 919, 'center': 920, 'cheerleaders': 921, 'circle': 922, 'fight': 923, 'goes': 924, 'gymnast': 925, 'help': 926, 'hikers': 927, 'himself': 928, 'lays': 929, 'lunch': 930, 'oriental': 931, 'pedestrians': 932, 'pushes': 933, 'ring': 934, 'sandy': 935, 'slope': 936, 'softball': 937, 'teenagers': 938, 'third': 939, 'wear': 940, 'bent': 941, 'chases': 942, 'cow': 943, 'deck': 944, 'device': 945, 'formal': 946, 'indoor': 947, 'kind': 948, 'log': 949, 'pitcher': 950, 'pulls': 951, 'puts': 952, 'seven': 953, 'skis': 954, 'speaks': 955, 'staircase': 956, 'turn': 957, 'books': 958, 'covering': 959, 'drives': 960, 'enjoys': 961, 'evening': 962, 'fallen': 963, 'festival': 964, 'heavy': 965, 'marching': 966, 'neck': 967, 'not': 968, 'overalls': 969, 'paved': 970, 'robe': 971, 'shaking': 972, 'swims': 973, 'wetsuit': 974, 'brown-haired': 975, 'dancer': 976, 'fingers': 977, 'foreign': 978, 'garb': 979, 'gentlemen': 980, 'golden': 981, 'grocery': 982, 'hammer': 983, 'kayak': 984, 'khaki': 985, 'kicks': 986, 'laundry': 987, 'native': 988, 'nice': 989, 'porch': 990, 'pot': 991, 'pouring': 992, 'protective': 993, 'puddle': 994, 'red-haired': 995, 'rest': 996, 'robes': 997, 'see': 998, 'shaving': 999, 'sheet': 1000, 'steep': 1001, 'stream': 1002, 'teenager': 1003, 'tracks': 1004, 'waterfall': 1005, 'airplane': 1006, 'arena': 1007, 'attached': 1008, 'backyard': 1009, 'birds': 1010, 'blocks': 1011, 'checking': 1012, 'clear': 1013, 'cloudy': 1014, 'colors': 1015, 'driver': 1016, 'fair': 1017, 'gate': 1018, 'hangs': 1019, 'hoop': 1020, 'jean': 1021, 'ledge': 1022, 'lies': 1023, 'luggage': 1024, 'opposite': 1025, 'paddling': 1026, 'palm': 1027, 'piano': 1028, 'podium': 1029, 'poles': 1030, 'put': 1031, 'reaches': 1032, 'red-hair': 1033, 'sale': 1034, 'saxophone': 1035, 'shooting': 1036, 'shoveling': 1037, 'soldiers': 1038, 'wrapped': 1039, 'balancing': 1040, 'camouflage': 1041, 'chef': 1042, 'clean': 1043, 'cones': 1044, 'curb': 1045, 'denim': 1046, 'goalie': 1047, 'hula': 1048, 'image': 1049, 'inflatable': 1050, 'kiss': 1051, 'laugh': 1052, 'lift': 1053, 'mound': 1054, 'part': 1055, 'pavement': 1056, 'polo': 1057, 'poster': 1058, 'rugby': 1059, 'string': 1060, 'tongue': 1061, 'wheelchair': 1062, 'windows': 1063, 'wine': 1064, 'bikers': 1065, 'bottom': 1066, 'bread': 1067, 'buying': 1068, 'courtyard': 1069, 'curly': 1070, 'cyclists': 1071, 'eats': 1072, 'eye': 1073, 'fabric': 1074, 'fans': 1075, 'flight': 1076, 'floating': 1077, 'frame': 1078, 'fresh': 1079, 'happily': 1080, 'juggling': 1081, 'keyboard': 1082, 'laughs': 1083, 'low': 1084, 'married': 1085, 'motorcycles': 1086, 'musician': 1087, 'professional': 1088, 'raft': 1089, 'railroad': 1090, 'riders': 1091, 'round': 1092, 'sea': 1093, 'seat': 1094, 'sell': 1095, 'ship': 1096, 'skirts': 1097, 'soldier': 1098, 'swimsuit': 1099, 'tools': 1100, 'tractor': 1101, 'walls': 1102, 'york': 1103, 'acoustic': 1104, 'appear': 1105, 'backwards': 1106, 'bandanna': 1107, 'boats': 1108, 'bubble': 1109, 'bucking': 1110, 'carriage': 1111, 'cheering': 1112, 'closeup': 1113, 'club': 1114, 'either': 1115, 'fall': 1116, 'floral': 1117, 'garbage': 1118, 'goods': 1119, 'groom': 1120, 'hurdle': 1121, 'i': 1122, 'jerseys': 1123, 'knee': 1124, 'living': 1125, 'marketplace': 1126, 'moves': 1127, 'multiple': 1128, 'nap': 1129, 'pair': 1130, 'pajamas': 1131, 'scaffolding': 1132, 'shown': 1133, 'socks': 1134, 'spray': 1135, 'stool': 1136, 'student': 1137, 'surf': 1138, 'suspended': 1139, 'touching': 1140, 'type': 1141, 'you': 1142, 'advertisement': 1143, 'airport': 1144, 'animals': 1145, 'backpacks': 1146, 'caught': 1147, 'chain': 1148, 'climber': 1149, 'dining': 1150, 'direction': 1151, 'dry': 1152, 'escalator': 1153, 'fenced': 1154, 'german': 1155, 'guard': 1156, 'hay': 1157, 'japanese': 1158, 'kneels': 1159, 'landscape': 1160, 'long-haired': 1161, 'magazine': 1162, 'paints': 1163, 'pipe': 1164, 'plant': 1165, 'plaza': 1166, 'raised': 1167, 'serving': 1168, 'shade': 1169, 'sheep': 1170, 'step': 1171, 'stove': 1172, 'tops': 1173, 'towel': 1174, 'underwater': 1175, 'welding': 1176, '!': 1177, '4': 1178, 'amusement': 1179, 'athletic': 1180, 'bending': 1181, 'bmx': 1182, 'brushing': 1183, 'candy': 1184, 'caucasian': 1185, 'examining': 1186, 'fast': 1187, 'gravel': 1188, 'grilling': 1189, 'hooded': 1190, 'individual': 1191, 'money': 1192, 'neon': 1193, 'obstacle': 1194, 'operating': 1195, 'participating': 1196, 'referee': 1197, 'santa': 1198, 'seems': 1199, 'sing': 1200, 'sport': 1201, 'summer': 1202, 'teacher': 1203, 'thrown': 1204, 'tube': 1205, 'use': 1206, 'vehicles': 1207, '(': 1208, 'attempt': 1209, 'barbecue': 1210, 'benches': 1211, 'button': 1212, 'checkered': 1213, 'chest': 1214, 'compete': 1215, 'cone': 1216, 'crouches': 1217, 'decorated': 1218, 'firefighters': 1219, 'good': 1220, 'haircut': 1221, 'hallway': 1222, 'harness': 1223, 'heels': 1224, 'hitting': 1225, 'hood': 1226, 'map': 1227, 'muddy': 1228, 'only': 1229, 'opponent': 1230, 'orchestra': 1231, 'passengers': 1232, 'photographs': 1233, 'plane': 1234, 'post': 1235, 'practice': 1236, 'presentation': 1237, 'print': 1238, 'racer': 1239, 'ropes': 1240, 'scuba': 1241, 'sets': 1242, 'sharing': 1243, 'sticking': 1244, 'studio': 1245, 't-shirts': 1246, 'things': 1247, 'tourists': 1248, 'try': 1249, 'tub': 1250, 'wagon': 1251, ')': 1252, '5': 1253, 'action': 1254, 'also': 1255, 'bathroom': 1256, 'but': 1257, 'carpet': 1258, 'cleans': 1259, 'drummer': 1260, 'ear': 1261, 'ears': 1262, 'eight': 1263, 'feeding': 1264, 'figure': 1265, 'fly': 1266, 'fruits': 1267, 'garage': 1268, 'groups': 1269, 'guitars': 1270, 'hall': 1271, 'headscarf': 1272, 'jumpsuit': 1273, 'jungle': 1274, 'long-sleeved': 1275, 'machinery': 1276, 'model': 1277, 'mom': 1278, 'motocross': 1279, 'motorcyclist': 1280, 'mustache': 1281, 'navy': 1282, 'patio': 1283, 'peace': 1284, 'pit': 1285, 'policeman': 1286, 'pull': 1287, 'racetrack': 1288, 'rests': 1289, 'rowing': 1290, 'sandwich': 1291, 'sink': 1292, 'skateboards': 1293, 'snowboard': 1294, 'snowboarding': 1295, 'speech': 1296, 'sporting': 1297, 'start': 1298, 'stones': 1299, 'tool': 1300, 'wide': 1301, 'wire': 1302, 'ahead': 1303, 'atv': 1304, 'baskets': 1305, 'bath': 1306, 'beam': 1307, 'beverage': 1308, 'boardwalk': 1309, 'bushes': 1310, 'ceiling': 1311, 'coach': 1312, 'college': 1313, 'cricket': 1314, 'crouching': 1315, 'dark-skinned': 1316, 'discussion': 1317, 'fancy': 1318, 'great': 1319, 'herself': 1320, 'hillside': 1321, 'horseback': 1322, 'indoors': 1323, 'intersection': 1324, 'lane': 1325, 'leaving': 1326, 'medical': 1327, 'museum': 1328, 'narrow': 1329, 'neighborhood': 1330, 'observe': 1331, 'petting': 1332, 'possibly': 1333, 'puck': 1334, 'routine': 1335, 'sells': 1336, 'shoot': 1337, 'slides': 1338, 'smoke': 1339, 'snow-covered': 1340, 'stopped': 1341, 'tag': 1342, 'tattooed': 1343, 'trumpet': 1344, 'vendors': 1345, 'apple': 1346, 'army': 1347, 'birthday': 1348, 'bottles': 1349, 'bow': 1350, 'brush': 1351, 'buckets': 1352, 'buy': 1353, 'cardboard': 1354, 'celebrating': 1355, 'chase': 1356, 'choir': 1357, 'clay': 1358, 'container': 1359, 'dishes': 1360, 'dune': 1361, 'entrance': 1362, 'fencing': 1363, 'folding': 1364, 'funny': 1365, 'guitarist': 1366, 'half': 1367, 'helps': 1368, 'hospital': 1369, 'hugs': 1370, 'lay': 1371, 'live': 1372, 'mall': 1373, 'maroon': 1374, 'microphones': 1375, 'mixing': 1376, 'mostly': 1377, 'ornate': 1378, 'outstretched': 1379, 'position': 1380, 'protest': 1381, 'puppy': 1382, 'read': 1383, 'rubber': 1384, 'seats': 1385, 'shepherd': 1386, 'skates': 1387, 'song': 1388, 'squatting': 1389, 'swimmer': 1390, 'tile': 1391, 'uniformed': 1392, 'youth': 1393, 'apartment': 1394, 'balance': 1395, 'bars': 1396, 'bear': 1397, 'belt': 1398, 'blows': 1399, 'bowls': 1400, 'boxing': 1401, 'broom': 1402, 'calf': 1403, 'color': 1404, 'coloring': 1405, 'conference': 1406, 'derby': 1407, 'dreadlocks': 1408, 'eastern': 1409, 'excited': 1410, 'finger': 1411, 'finish': 1412, 'firetruck': 1413, 'first': 1414, 'flipping': 1415, 'furniture': 1416, 'grinding': 1417, 'handstand': 1418, 'heart': 1419, 'inspecting': 1420, 'item': 1421, 'jockey': 1422, 'leading': 1423, 'library': 1424, 'lines': 1425, 'mohawk': 1426, 'moment': 1427, 'pieces': 1428, 'polka': 1429, 'reflective': 1430, 'ribbon': 1431, 'rink': 1432, 'rough': 1433, 'rural': 1434, 'scenery': 1435, 'sleeveless': 1436, 'smokes': 1437, 'space': 1438, 'spinning': 1439, 'stack': 1440, 'stares': 1441, 'storefront': 1442, 'stretching': 1443, 'stripes': 1444, 'stroll': 1445, 'sword': 1446, 'tattoos': 1447, 'turning': 1448, 'vegetable': 1449, 'we': 1450, 'wheels': 1451, 'approaching': 1452, 'backs': 1453, 'balances': 1454, 'balding': 1455, 'banner': 1456, 'barrel': 1457, 'bass': 1458, 'broken': 1459, 'candles': 1460, 'card': 1461, 'carving': 1462, 'castle': 1463, 'chalk': 1464, 'chefs': 1465, 'computers': 1466, 'crane': 1467, 'cuts': 1468, 'dead': 1469, 'discussing': 1470, 'dish': 1471, 'doors': 1472, 'emergency': 1473, 'ethnic': 1474, 'factory': 1475, 'farm': 1476, 'fisherman': 1477, 'fix': 1478, 'flip-flops': 1479, 'float': 1480, 'fluffy': 1481, 'following': 1482, 'free': 1483, 'gas': 1484, 'got': 1485, 'gymnasium': 1486, 'hotel': 1487, 'intently': 1488, 'jewelry': 1489, 'kite': 1490, 'land': 1491, 'listens': 1492, 'london': 1493, 'member': 1494, 'moped': 1495, 'motorbike': 1496, 'nighttime': 1497, 'objects': 1498, 'overhead': 1499, 'pen': 1500, 'pick': 1501, 'pigeons': 1502, 'pitch': 1503, 'pizza': 1504, 'rainy': 1505, 'raises': 1506, 'reach': 1507, 'snack': 1508, 'sofa': 1509, 'speed': 1510, 'spraying': 1511, 'stairway': 1512, 'starting': 1513, 'surrounding': 1514, 'television': 1515, \"that's\": 1516, 'tied': 1517, 'tourist': 1518, 'viewing': 1519, 'warm': 1520, 'advertising': 1521, 'amongst': 1522, 'ballerina': 1523, 'batter': 1524, 'beneath': 1525, 'blow': 1526, 'branch': 1527, 'called': 1528, 'control': 1529, 'crew': 1530, 'crosses': 1531, 'directions': 1532, 'doctor': 1533, 'downtown': 1534, 'duck': 1535, 'electronic': 1536, 'elephant': 1537, 'engaged': 1538, 'fan': 1539, 'flowered': 1540, 'follows': 1541, 'forward': 1542, 'headband': 1543, 'hits': 1544, 'hoops': 1545, 'horn': 1546, 'keep': 1547, 'lamp': 1548, 'liquid': 1549, 'lounging': 1550, 'material': 1551, 'mobile': 1552, 'more': 1553, 'naked': 1554, 'name': 1555, 'necklace': 1556, 'nets': 1557, 'newborn': 1558, 'numerous': 1559, 'observing': 1560, 'odd': 1561, 'papers': 1562, 'partially': 1563, 'participate': 1564, 'photos': 1565, 'pine': 1566, 'plates': 1567, 'pottery': 1568, 'present': 1569, 'protesting': 1570, 'raising': 1571, 'redheaded': 1572, 'relax': 1573, 'repair': 1574, 'security': 1575, 'shades': 1576, 'shaped': 1577, 'shaved': 1578, 'shovels': 1579, 'smaller': 1580, \"someone's\": 1581, 'spread': 1582, 'style': 1583, 'swimmers': 1584, 'taxi': 1585, 'teammate': 1586, 'terrain': 1587, 'theater': 1588, 'thin': 1589, 'training': 1590, 'turns': 1591, 'unicycle': 1592, 'village': 1593, 'wrestle': 1594, 'admiring': 1595, 'airborne': 1596, 'aisle': 1597, 'angel': 1598, 'athletes': 1599, 'barber': 1600, 'biking': 1601, 'billboard': 1602, 'binoculars': 1603, 'calm': 1604, 'cameras': 1605, 'cape': 1606, 'caps': 1607, 'carry': 1608, 'casual': 1609, 'catcher': 1610, \"child's\": 1611, 'cobblestone': 1612, 'converse': 1613, 'cook': 1614, 'cool': 1615, 'corn': 1616, 'crafts': 1617, 'donkey': 1618, 'engine': 1619, 'fake': 1620, 'firemen': 1621, 'gift': 1622, 'glove': 1623, 'guns': 1624, 'hang': 1625, 'homeless': 1626, 'houses': 1627, 'hug': 1628, 'interacting': 1629, 'job': 1630, 'leads': 1631, 'lifting': 1632, 'loading': 1633, 'lounge': 1634, 'machines': 1635, 'most': 1636, 'pan': 1637, 'parents': 1638, 'passenger': 1639, 'patient': 1640, 'peering': 1641, 'performers': 1642, 'photographed': 1643, 'pillow': 1644, 'pretty': 1645, 'push': 1646, 'races': 1647, 'rainbow': 1648, 'receiving': 1649, 'repairs': 1650, 'rollerblades': 1651, 'shakes': 1652, 'share': 1653, 'shops': 1654, 'silly': 1655, 'skiers': 1656, 'slightly': 1657, 'splashes': 1658, 'sprinkler': 1659, 'star': 1660, 'steel': 1661, 'straight': 1662, 'teaching': 1663, 'tents': 1664, 'tower': 1665, 'trailer': 1666, 'trunk': 1667, 'upon': 1668, 'us': 1669, 'wading': 1670, 'weaving': 1671, 'whilst': 1672, 'wife': 1673, 'attention': 1674, 'autumn': 1675, 'bank': 1676, 'bare': 1677, 'barrier': 1678, 'bin': 1679, 'bleachers': 1680, 'browsing': 1681, 'burgundy': 1682, 'bystanders': 1683, 'camel': 1684, 'ceremony': 1685, 'chainsaw': 1686, 'check': 1687, 'checks': 1688, 'cheer': 1689, 'clad': 1690, 'coaster': 1691, 'come': 1692, 'consisting': 1693, 'cups': 1694, 'debris': 1695, 'dimly': 1696, 'drill': 1697, 'dusk': 1698, 'eggs': 1699, 'entering': 1700, 'examines': 1701, 'fireman': 1702, 'flips': 1703, 'flute': 1704, 'form': 1705, 'gestures': 1706, 'greyhound': 1707, 'groceries': 1708, 'if': 1709, 'knit': 1710, 'lacrosse': 1711, 'landing': 1712, 'laptops': 1713, 'lead': 1714, 'meeting': 1715, 'messy': 1716, 'mid': 1717, 'modern': 1718, 'nature': 1719, 'observes': 1720, 'official': 1721, 'order': 1722, 'oven': 1723, 'overweight': 1724, 'paddle': 1725, 'praying': 1726, 'sack': 1727, 'sailing': 1728, 'shining': 1729, 'similar': 1730, 'sneakers': 1731, 'spoon': 1732, 'spotted': 1733, 'stomach': 1734, 'studying': 1735, 'target': 1736, 'tea': 1737, 'telephone': 1738, 'tires': 1739, 'tropical': 1740, 'was': 1741, 'waterfront': 1742, 'waterway': 1743, 'wheelbarrow': 1744, 'wings': 1745, 'world': 1746, 'alleyway': 1747, 'applying': 1748, 'attending': 1749, 'bagpipes': 1750, 'ballet': 1751, 'bamboo': 1752, 'beanie': 1753, 'been': 1754, 'beverages': 1755, 'bite': 1756, 'blankets': 1757, 'boulder': 1758, 'bricks': 1759, 'carts': 1760, 'cello': 1761, 'chicken': 1762, 'clapping': 1763, 'comes': 1764, 'complete': 1765, 'cooks': 1766, 'countryside': 1767, 'cowboys': 1768, 'customer': 1769, 'dad': 1770, 'doll': 1771, 'dough': 1772, 'drive': 1773, 'dust': 1774, 'exercise': 1775, 'exhibit': 1776, 'filling': 1777, 'forehead': 1778, 'games': 1779, \"girl's\": 1780, 'give': 1781, 'gymnastics': 1782, 'handing': 1783, 'heading': 1784, 'highway': 1785, 'inspects': 1786, 'iron': 1787, 'juice': 1788, 'kayaks': 1789, 'knees': 1790, 'knife': 1791, 'lecture': 1792, 'listen': 1793, 'long-sleeve': 1794, 'merchandise': 1795, 'monument': 1796, 'movie': 1797, 'newly': 1798, 'newspapers': 1799, 'olympics': 1800, 'paddles': 1801, 'paperwork': 1802, 'pigtails': 1803, 'pillows': 1804, 'places': 1805, 'placing': 1806, 'puppies': 1807, 'repairing': 1808, 'rickshaw': 1809, 'rod': 1810, 'rollerblading': 1811, 'science': 1812, 'scooters': 1813, 'screaming': 1814, 'seem': 1815, 'shadows': 1816, 'shoppers': 1817, 'sized': 1818, 'skater': 1819, 'snowsuit': 1820, 'spanish': 1821, 'stare': 1822, 'stops': 1823, 'story': 1824, 'suitcase': 1825, 'sweeps': 1826, 'tackle': 1827, 'tape': 1828, 'teal': 1829, 'texas': 1830, 'thumbs': 1831, 'tossing': 1832, 'touches': 1833, 'tv': 1834, 'umpire': 1835, 'visiting': 1836, 'wares': 1837, 'wheelie': 1838, 'wild': 1839, 'wires': 1840, 'wrap': 1841, 'wrestler': 1842, 'yoga': 1843, '1': 1844, '2012': 1845, 'act': 1846, 'adjusting': 1847, 'african-american': 1848, 'amp': 1849, 'arcade': 1850, 'artwork': 1851, 'auditorium': 1852, 'backdrop': 1853, 'banjo': 1854, 'biting': 1855, 'black-haired': 1856, 'burning': 1857, 'camping': 1858, 'cans': 1859, 'carefully': 1860, 'case': 1861, 'celebration': 1862, 'chatting': 1863, 'cheek': 1864, 'chess': 1865, 'china': 1866, 'closely': 1867, 'couples': 1868, 'covers': 1869, 'craft': 1870, 'creek': 1871, 'crossed': 1872, 'crouched': 1873, 'department': 1874, 'descent': 1875, 'diver': 1876, 'dives': 1877, 'dj': 1878, \"dog's\": 1879, 'dusty': 1880, 'falls': 1881, 'far': 1882, 'firefighter': 1883, 'floats': 1884, 'focused': 1885, 'folded': 1886, 'formation': 1887, 'gathers': 1888, 'headed': 1889, 'hut': 1890, 'injured': 1891, 'involved': 1892, 'jet': 1893, 'kayaking': 1894, 'khakis': 1895, 'larger': 1896, 'laundromat': 1897, 'leaf': 1898, 'learning': 1899, 'lifted': 1900, 'lifts': 1901, 'lighted': 1902, 'location': 1903, 'logs': 1904, 'loom': 1905, 'magazines': 1906, 'meet': 1907, 'motorcyclists': 1908, 'motorized': 1909, 'mower': 1910, 'mug': 1911, 'my': 1912, 'opens': 1913, 'pack': 1914, 'parachute': 1915, 'passersby': 1916, 'patch': 1917, 'patterned': 1918, 'picks': 1919, 'placed': 1920, 'planting': 1921, 'playfully': 1922, 'ponytail': 1923, 'poor': 1924, 'practices': 1925, 'rally': 1926, 'range': 1927, 'rapids': 1928, 'record': 1929, 'rice': 1930, 'rollerskating': 1931, 'rows': 1932, 'salon': 1933, 'scouts': 1934, 'serves': 1935, 'shoreline': 1936, 'sides': 1937, 'skaters': 1938, 'snowshoes': 1939, 'so': 1940, 'soda': 1941, 'speak': 1942, 'still': 1943, 'strange': 1944, 'sunlight': 1945, 'supplies': 1946, 'surgery': 1947, 'suspenders': 1948, 'swimsuits': 1949, 'tackling': 1950, 'tee': 1951, 'tights': 1952, 'tiny': 1953, 'traveling': 1954, 'tray': 1955, 'tricycle': 1956, 'trip': 1957, 'trolley': 1958, 'trucks': 1959, 'turquoise': 1960, 'underwear': 1961, 'visible': 1962, 'watched': 1963, 'weather': 1964, \"women's\": 1965, 'yarn': 1966, '#': 1967, '&': 1968, 'activity': 1969, 'amidst': 1970, 'apart': 1971, 'approaches': 1972, 'asia': 1973, 'asians': 1974, 'belts': 1975, 'blazer': 1976, 'blood': 1977, 'boards': 1978, 'bouquet': 1979, \"boy's\": 1980, 'branches': 1981, 'brother': 1982, 'cage': 1983, 'canvas': 1984, 'cards': 1985, 'care': 1986, 'casually': 1987, 'celebrate': 1988, 'chalkboard': 1989, 'cheese': 1990, \"chef's\": 1991, \"children's\": 1992, 'chopping': 1993, 'collared': 1994, 'company': 1995, 'contraption': 1996, 'cop': 1997, 'creating': 1998, 'cute': 1999, 'decorative': 2000, 'displaying': 2001, 'displays': 2002, 'done': 2003, 'driveway': 2004, 'earphones': 2005, 'embracing': 2006, 'experiment': 2007, 'facility': 2008, 'fashion': 2009, 'finishing': 2010, 'frozen': 2011, 'fur': 2012, 'furry': 2013, 'gallery': 2014, 'gaze': 2015, 'gazes': 2016, 'goat': 2017, 'gray-haired': 2018, 'handrail': 2019, 'headdress': 2020, 'helicopter': 2021, 'hiding': 2022, 'hike': 2023, 'hotdog': 2024, 'incline': 2025, 'involving': 2026, \"it's\": 2027, 'juggles': 2028, 'leap': 2029, 'leggings': 2030, 'lens': 2031, 'leotard': 2032, 'lighting': 2033, 'link': 2034, 'lobby': 2035, 'located': 2036, 'maintenance': 2037, 'march': 2038, 'mexican': 2039, 'monitor': 2040, 'mop': 2041, 'morning': 2042, 'numbers': 2043, 'nurses': 2044, 'oranges': 2045, 'peeking': 2046, 'pilot': 2047, 'pin': 2048, 'pins': 2049, 'played': 2050, 'portrait': 2051, 'pots': 2052, 'printed': 2053, 'process': 2054, 'products': 2055, 'quarterback': 2056, 'quickly': 2057, 'racers': 2058, 'rafting': 2059, 'roadside': 2060, 'rooftop': 2061, 'saw': 2062, 'scaffold': 2063, 'scarves': 2064, 'second': 2065, 'serve': 2066, 'shape': 2067, 'sideways': 2068, 'silhouette': 2069, 'single': 2070, 'sprayed': 2071, 'stepping': 2072, 'stilts': 2073, 'teens': 2074, 'toddlers': 2075, 'torch': 2076, 'touch': 2077, 'transportation': 2078, 'trashcan': 2079, 'tribal': 2080, 'turned': 2081, 'upward': 2082, 'valley': 2083, 'venue': 2084, 'walked': 2085, 'washes': 2086, 'whom': 2087, 'will': 2088, 'workout': 2089, 'workshop': 2090, 'adjusts': 2091, 'afternoon': 2092, 'almost': 2093, 'aprons': 2094, 'arch': 2095, 'atm': 2096, 'attractive': 2097, 'bathtub': 2098, 'begins': 2099, 'belongings': 2100, 'bends': 2101, 'beret': 2102, 'bicycling': 2103, 'booths': 2104, 'bouncing': 2105, 'brass': 2106, 'breakdancing': 2107, 'brushes': 2108, 'built': 2109, 'butterfly': 2110, 'cab': 2111, 'camp': 2112, 'canadian': 2113, 'cellphones': 2114, 'checkers': 2115, 'chocolate': 2116, 'chopsticks': 2117, 'circular': 2118, 'classic': 2119, 'cleaner': 2120, 'cloud': 2121, 'clouds': 2122, 'containing': 2123, 'cover': 2124, 'crates': 2125, 'crowds': 2126, 'curly-haired': 2127, 'cycling': 2128, 'decorations': 2129, 'design': 2130, 'designs': 2131, 'digital': 2132, 'diner': 2133, 'displayed': 2134, 'dive': 2135, 'dragging': 2136, 'ducks': 2137, 'dumpster': 2138, 'east': 2139, 'employees': 2140, 'farmers': 2141, 'featuring': 2142, 'fell': 2143, 'fishes': 2144, 'foliage': 2145, 'french': 2146, 'gardening': 2147, 'gazing': 2148, 'gesturing': 2149, 'grabbing': 2150, 'grabs': 2151, 'handle': 2152, 'heavily': 2153, 'highchair': 2154, 'hills': 2155, 'hind': 2156, 'horizon': 2157, 'icy': 2158, 'images': 2159, 'interesting': 2160, 'jeep': 2161, 'jogs': 2162, 'joy': 2163, 'jumped': 2164, 'jumper': 2165, 'kilt': 2166, 'love': 2167, 'menu': 2168, 'monkey': 2169, 'motion': 2170, 'motor': 2171, 'muzzle': 2172, 'muzzled': 2173, 'news': 2174, 'olympic': 2175, 'operates': 2176, 'pads': 2177, 'pale': 2178, 'parasailing': 2179, 'pathway': 2180, 'pattern': 2181, 'peer': 2182, 'pencil': 2183, 'pet': 2184, 'pinata': 2185, 'point': 2186, 'potato': 2187, 'power': 2188, 'presenting': 2189, 'protesters': 2190, 'pumpkin': 2191, 'raincoat': 2192, 'really': 2193, 'recording': 2194, 'reflection': 2195, 'rings': 2196, 'riot': 2197, 'sad': 2198, 'sawing': 2199, 'scenic': 2200, 'score': 2201, 'section': 2202, 'shiny': 2203, 'short-haired': 2204, 'sledding': 2205, 'sniffing': 2206, 'soap': 2207, 'sorting': 2208, 'sparring': 2209, 'stacked': 2210, 'stall': 2211, 'stoop': 2212, 'strolls': 2213, 'stump': 2214, 'surfs': 2215, 'task': 2216, 'tending': 2217, 'than': 2218, 'thumb': 2219, 'ticket': 2220, 'tight': 2221, 'tiled': 2222, 'tired': 2223, 'tournament': 2224, 'treat': 2225, 'trench': 2226, 'tripod': 2227, 'turban': 2228, 'types': 2229, 'unique': 2230, 'upset': 2231, 'wig': 2232, 'wind': 2233, 'writes': 2234, 'abandoned': 2235, 'accident': 2236, 'acrobatic': 2237, 'amount': 2238, 'aquarium': 2239, 'artists': 2240, 'babies': 2241, 'banners': 2242, 'barefooted': 2243, 'bartender': 2244, 'batman': 2245, 'beads': 2246, 'because': 2247, 'bedroom': 2248, 'bridesmaids': 2249, 'bundle': 2250, 'buried': 2251, 'camels': 2252, 'campfire': 2253, 'canal': 2254, 'candle': 2255, 'canoes': 2256, 'carrier': 2257, 'casino': 2258, 'cheerleading': 2259, 'cherry': 2260, 'chewing': 2261, 'cigar': 2262, 'clowns': 2263, 'cluttered': 2264, 'columns': 2265, 'commercial': 2266, 'companion': 2267, 'crashing': 2268, 'crayons': 2269, 'cries': 2270, 'darkened': 2271, 'daytime': 2272, 'destination': 2273, 'directing': 2274, \"doesn't\": 2275, 'dot': 2276, 'downhill': 2277, 'draped': 2278, 'draw': 2279, 'draws': 2280, 'easel': 2281, 'egg': 2282, 'elmo': 2283, 'establishment': 2284, 'europe': 2285, 'european': 2286, 'even': 2287, 'farmer': 2288, 'fat': 2289, 'figures': 2290, 'filming': 2291, 'flannel': 2292, 'followed': 2293, 'foods': 2294, 'forested': 2295, 'fountains': 2296, 'gesture': 2297, 'gown': 2298, 'grab': 2299, 'grand': 2300, 'guards': 2301, 'had': 2302, 'halloween': 2303, 'hammering': 2304, 'hammock': 2305, 'hardwood': 2306, 'harmonica': 2307, 'hawaiian': 2308, 'homemade': 2309, 'human': 2310, 'hydrant': 2311, 'india': 2312, 'industrial': 2313, 'jockeys': 2314, 'john': 2315, 'judges': 2316, 'kisses': 2317, 'labeled': 2318, 'laboratory': 2319, 'lips': 2320, 'lively': 2321, 'load': 2322, 'loaded': 2323, 'looked': 2324, 'masks': 2325, 'medium': 2326, 'mess': 2327, 'midst': 2328, 'mix': 2329, 'mixer': 2330, 'monopoly': 2331, 'much': 2332, 'murky': 2333, 'muscular': 2334, 'nail': 2335, 'napping': 2336, 'navigates': 2337, 'notebook': 2338, 'notes': 2339, 'package': 2340, 'packed': 2341, 'painter': 2342, 'pay': 2343, 'peers': 2344, \"person's\": 2345, 'photographers': 2346, 'plain': 2347, 'pocket': 2348, 'pours': 2349, 'product': 2350, 'projector': 2351, 'protect': 2352, 'punch': 2353, 'purses': 2354, 'redhead': 2355, 'religious': 2356, 'rifle': 2357, 'rug': 2358, 'sailboat': 2359, 'say': 2360, 'scrubs': 2361, 'series': 2362, 'service': 2363, 'shadow': 2364, 'shaggy': 2365, 'shirted': 2366, 'signing': 2367, 'skies': 2368, 'skills': 2369, 'skinny': 2370, 'somewhere': 2371, 'speaker': 2372, 'speeding': 2373, 'spins': 2374, 'splashed': 2375, 'spot': 2376, 'spotlight': 2377, 'sprays': 2378, 'spring': 2379, 'squeezing': 2380, 'staff': 2381, 'state': 2382, 'strapped': 2383, 'stretches': 2384, 'stringed': 2385, 'strolling': 2386, 'stuck': 2387, 'stuff': 2388, 'surgical': 2389, 'synchronized': 2390, 'tackled': 2391, 'tags': 2392, 'teammates': 2393, 'teen': 2394, 'times': 2395, 'too': 2396, 'toothbrush': 2397, 'tour': 2398, 'trains': 2399, 'travel': 2400, 'tug-of-war': 2401, 'underground': 2402, 'unhappy': 2403, 'unusual': 2404, 'variety': 2405, 'vending': 2406, 'victory': 2407, 'vintage': 2408, 'waist': 2409, 'waiter': 2410, 'walmart': 2411, 'war': 2412, 'warehouse': 2413, 'washer': 2414, \"water's\": 2415, 'waterskiing': 2416, 'when': 2417, 'win': 2418, '?': 2419, 'accompanied': 2420, 'acting': 2421, 'activities': 2422, 'adorned': 2423, 'advertisements': 2424, 'aged': 2425, 'ages': 2426, 'america': 2427, 'amid': 2428, 'aqua': 2429, 'arrow': 2430, 'await': 2431, 'backseat': 2432, 'bananas': 2433, 'barely': 2434, 'barrels': 2435, 'battle': 2436, 'beating': 2437, 'beers': 2438, 'begin': 2439, 'blurred': 2440, 'bounds': 2441, 'boxer': 2442, 'british': 2443, 'buffet': 2444, 'bush': 2445, 'call': 2446, 'cameraman': 2447, 'cannon': 2448, 'casting': 2449, 'cave': 2450, 'character': 2451, 'characters': 2452, 'chased': 2453, 'cheerleader': 2454, 'chin': 2455, 'cigarettes': 2456, 'collie': 2457, 'colorfully': 2458, 'completing': 2459, 'complex': 2460, 'conducting': 2461, 'conductor': 2462, 'confetti': 2463, 'contest': 2464, 'cotton': 2465, 'crawls': 2466, 'create': 2467, 'crops': 2468, 'crosscountry': 2469, 'daily': 2470, 'defender': 2471, 'deli': 2472, 'demonstration': 2473, 'designed': 2474, 'desks': 2475, 'dinosaur': 2476, 'disc': 2477, 'discuss': 2478, 'divers': 2479, 'doctors': 2480, 'dolls': 2481, 'drawn': 2482, 'dryer': 2483, 'drying': 2484, 'earth': 2485, 'elder': 2486, 'elementary': 2487, 'employee': 2488, 'entertain': 2489, 'environment': 2490, 'examine': 2491, 'exercising': 2492, 'exiting': 2493, 'facial': 2494, 'fashioned': 2495, 'feather': 2496, 'fedora': 2497, 'fellow': 2498, 'fetch': 2499, 'fields': 2500, 'fill': 2501, 'find': 2502, 'fireworks': 2503, 'flock': 2504, 'fog': 2505, 'foggy': 2506, 'frying': 2507, 'fuzzy': 2508, 'greyhounds': 2509, 'grinds': 2510, 'guide': 2511, 'harbor': 2512, \"he's\": 2513, 'hispanic': 2514, 'hotdogs': 2515, 'illuminated': 2516, 'ingredients': 2517, 'jenga': 2518, 'laden': 2519, 'laid': 2520, 'lanterns': 2521, 'league': 2522, 'leopard': 2523, 'licking': 2524, 'lining': 2525, 'lion': 2526, 'logo': 2527, 'lush': 2528, 'marble': 2529, 'marked': 2530, 'marker': 2531, 'mascot': 2532, 'may': 2533, 'maybe': 2534, \"mcdonald's\": 2535, 'meadow': 2536, 'measuring': 2537, 'medieval': 2538, 'mitt': 2539, 'monitors': 2540, 'monk': 2541, 'mountainous': 2542, 'mounted': 2543, 'mouths': 2544, 'mowing': 2545, 'named': 2546, 'necklaces': 2547, 'newlywed': 2548, 'nine': 2549, 'oil': 2550, 'ordering': 2551, 'our': 2552, 'own': 2553, 'pans': 2554, 'parent': 2555, 'patrons': 2556, 'peaks': 2557, 'picket': 2558, 'pigeon': 2559, 'pirate': 2560, 'pointed': 2561, 'policemen': 2562, 'pony': 2563, 'poodle': 2564, 'pops': 2565, 'prepared': 2566, 'punching': 2567, 'puppet': 2568, 'purchase': 2569, 'pyramid': 2570, 'quiet': 2571, 'radio': 2572, 'rafts': 2573, 'railings': 2574, 'raining': 2575, 'reception': 2576, 'resort': 2577, 'return': 2578, 'rollerskates': 2579, 'rolls': 2580, 'rustic': 2581, 'scientist': 2582, 'sculptures': 2583, 'seafood': 2584, 'seating': 2585, 'separate': 2586, 'shawl': 2587, 'shower': 2588, 'sidelines': 2589, 'silhouetted': 2590, 'skydiving': 2591, 'skyline': 2592, 'slacks': 2593, 'snacks': 2594, 'snowboards': 2595, 'social': 2596, 'sold': 2597, 'speeds': 2598, 'squats': 2599, 'stance': 2600, 'starring': 2601, 'stores': 2602, 'striking': 2603, 'strings': 2604, 'stripe': 2605, 'sunbathing': 2606, 'supermarket': 2607, 'support': 2608, 'tail': 2609, 'tarp': 2610, 'temple': 2611, 'thick': 2612, 'though': 2613, 'topless': 2614, 'tracksuit': 2615, 'transit': 2616, 'travels': 2617, 'treadmill': 2618, 'trophy': 2619, 'trotting': 2620, 'turkey': 2621, 'typing': 2622, 'ultimate': 2623, 'upwards': 2624, 'usa': 2625, 'vacuum': 2626, 'vacuuming': 2627, 'vibrant': 2628, 'visor': 2629, 'warming': 2630, 'wash': 2631, 'watermelons': 2632, 'were': 2633, 'wheeled': 2634, 'wilderness': 2635, 'woodland': 2636, 'workman': 2637, 'wrestlers': 2638, 'xylophone': 2639, 'year': 2640, '-': 2641, '11': 2642, '6': 2643, 'aboard': 2644, 'aiming': 2645, 'am': 2646, 'ancient': 2647, 'angle': 2648, 'anvil': 2649, 'any': 2650, 'armed': 2651, 'arrangement': 2652, 'assembled': 2653, 'assisting': 2654, 'award': 2655, 'axe': 2656, 'badge': 2657, 'badminton': 2658, 'barriers': 2659, 'beams': 2660, 'belly': 2661, 'bend': 2662, 'bib': 2663, 'bikinis': 2664, 'bit': 2665, 'blocking': 2666, 'blower': 2667, 'boarding': 2668, 'bodysuit': 2669, 'bongo': 2670, 'boogie': 2671, 'bottoms': 2672, 'bows': 2673, 'bowtie': 2674, 'boxers': 2675, 'bra': 2676, 'briefcase': 2677, 'broad': 2678, 'bronco': 2679, 'brooms': 2680, 'bulldozer': 2681, 'bunny': 2682, 'cable': 2683, 'canyon': 2684, 'cardigan': 2685, 'cash': 2686, 'cathedral': 2687, 'cats': 2688, 'ceremonial': 2689, 'checked': 2690, 'circus': 2691, 'citizens': 2692, 'clap': 2693, 'climbers': 2694, 'clothed': 2695, 'clutching': 2696, 'coast': 2697, 'column': 2698, 'completely': 2699, 'congregate': 2700, 'connected': 2701, 'constructed': 2702, 'convenience': 2703, 'crafting': 2704, 'crash': 2705, 'crate': 2706, 'creates': 2707, 'crest': 2708, 'crown': 2709, 'damaged': 2710, 'deer': 2711, 'deserted': 2712, 'dessert': 2713, 'devices': 2714, 'dots': 2715, 'dragon': 2716, 'dropping': 2717, 'dump': 2718, 'elaborate': 2719, 'elevated': 2720, 'excitedly': 2721, 'expanse': 2722, 'expression': 2723, 'favorite': 2724, 'feathered': 2725, 'features': 2726, 'finished': 2727, 'fixes': 2728, 'flames': 2729, 'flat': 2730, 'floors': 2731, 'flowery': 2732, 'focus': 2733, 'follow': 2734, 'fork': 2735, 'framed': 2736, 'gap': 2737, 'glacier': 2738, 'gloved': 2739, 'goatee': 2740, 'gowns': 2741, 'grasping': 2742, 'grills': 2743, 'handbag': 2744, 'handheld': 2745, 'harvesting': 2746, 'hearts': 2747, 'heavyset': 2748, 'hook': 2749, 'hour': 2750, 'hunched': 2751, 'husband': 2752, 'identical': 2753, 'information': 2754, 'jewish': 2755, 'jumpsuits': 2756, 'kicked': 2757, 'kiosk': 2758, 'knitting': 2759, 'lands': 2760, 'lanes': 2761, 'late': 2762, 'legos': 2763, 'licks': 2764, 'lime': 2765, 'lipstick': 2766, 'liquor': 2767, 'lovely': 2768, 'lower': 2769, 'main': 2770, 'mature': 2771, \"men's\": 2772, 'merry-go-round': 2773, 'miami': 2774, 'microscopes': 2775, 'miniature': 2776, 'missing': 2777, 'mittens': 2778, 'mountaintop': 2779, 'mouse': 2780, 'mule': 2781, 'muslim': 2782, 'nails': 2783, 'nearly': 2784, 'nightclub': 2785, 'noses': 2786, 'nude': 2787, 'nun': 2788, 'nurse': 2789, 'ny': 2790, 'off-camera': 2791, 'olive': 2792, 'overlook': 2793, 'pain': 2794, 'parallel': 2795, 'personnel': 2796, 'piles': 2797, 'pillar': 2798, 'pipes': 2799, 'pitching': 2800, 'plank': 2801, 'political': 2802, 'popcorn': 2803, 'portable': 2804, 'posed': 2805, 'presents': 2806, 'probably': 2807, 'professor': 2808, 'progress': 2809, 'propped': 2810, 'pushed': 2811, 'quad': 2812, 'rack': 2813, 'rag': 2814, 'rails': 2815, 'raise': 2816, 'raking': 2817, 'ravine': 2818, 'razor': 2819, 'relaxes': 2820, 'relay': 2821, 'renaissance': 2822, 'ribbons': 2823, 'riverbank': 2824, 'roll': 2825, 'rugs': 2826, 'rush': 2827, 'rusty': 2828, 'sample': 2829, 'saris': 2830, 'scaling': 2831, 'scattered': 2832, 'scissors': 2833, 'scooping': 2834, 'seagulls': 2835, 'seattle': 2836, 'semi': 2837, 'senior': 2838, 'shorter': 2839, 'shouting': 2840, 'skateboarders': 2841, 'skull': 2842, 'sleep': 2843, 'sleeves': 2844, 'slopes': 2845, 'snowball': 2846, 'soars': 2847, 'socializing': 2848, 'somebody': 2849, 'sooners': 2850, 'soup': 2851, 'spatula': 2852, 'special': 2853, 'spots': 2854, 'sprinklers': 2855, 'squad': 2856, 'stair': 2857, 'stars': 2858, 'stirring': 2859, 'stretched': 2860, 'strike': 2861, 'strollers': 2862, 'stunts': 2863, 'sundress': 2864, 'sunshine': 2865, 'superman': 2866, 'surfers': 2867, 'swan': 2868, 'swords': 2869, 'system': 2870, 'tablecloth': 2871, 'talent': 2872, 'teddy': 2873, 'terrier': 2874, 'test': 2875, 'texting': 2876, 'those': 2877, 'ties': 2878, 'tiger': 2879, 'tips': 2880, 'tomatoes': 2881, 'tow': 2882, 'tree-lined': 2883, 'tubes': 2884, 'tutu': 2885, 'tying': 2886, 'university': 2887, 'unloading': 2888, 'upright': 2889, 'walkers': 2890, 'watering': 2891, 'waterside': 2892, 'waterskier': 2893, 'weapon': 2894, 'weight': 2895, 'well-dressed': 2896, 'wheelchairs': 2897, 'whistle': 2898, 'wineglasses': 2899, 'within': 2900, 'words': 2901, 'woven': 2902, 'written': 2903, 'zone': 2904, '10': 2905, '7': 2906, '8': 2907, 'actors': 2908, 'ad': 2909, 'aid': 2910, 'americans': 2911, 'amish': 2912, 'angels': 2913, 'angry': 2914, 'antique': 2915, 'apparatus': 2916, 'apples': 2917, 'applies': 2918, 'archway': 2919, 'armor': 2920, 'arrive': 2921, 'artistic': 2922, 'ascending': 2923, 'asphalt': 2924, 'assistant': 2925, 'attendant': 2926, 'attentively': 2927, 'available': 2928, 'ax': 2929, 'backhoe': 2930, 'backlit': 2931, 'backstroke': 2932, 'backward': 2933, 'baked': 2934, 'bakery': 2935, 'balanced': 2936, 'banana': 2937, 'barbecuing': 2938, 'barking': 2939, 'barren': 2940, 'baseman': 2941, 'baton': 2942, 'beginning': 2943, 'besides': 2944, 'bites': 2945, 'blindfolded': 2946, 'blocked': 2947, 'blurry': 2948, 'bones': 2949, 'bookshelf': 2950, 'boss': 2951, 'bounding': 2952, 'braided': 2953, 'breaks': 2954, 'breath': 2955, \"bride's\": 2956, 'bundled': 2957, 'bushy': 2958, 'businessman': 2959, 'button-up': 2960, 'campers': 2961, 'campsite': 2962, 'canopy': 2963, 'cargo': 2964, 'caricature': 2965, 'carousel': 2966, 'carried': 2967, 'cartwheel': 2968, 'carve': 2969, 'carved': 2970, 'cast': 2971, 'cattle': 2972, 'chained': 2973, 'chains': 2974, 'challenge': 2975, 'champagne': 2976, 'chat': 2977, 'checkout': 2978, 'cheeks': 2979, 'chips': 2980, 'chunk': 2981, 'cityscape': 2982, 'clarinet': 2983, 'claus': 2984, 'clearing': 2985, 'clock': 2986, 'clothesline': 2987, 'cloths': 2988, 'cola': 2989, 'collecting': 2990, 'combat': 2991, 'comforting': 2992, 'community': 2993, 'competitive': 2994, 'competitors': 2995, 'completed': 2996, 'concentrates': 2997, 'conditions': 2998, 'confused': 2999, 'contents': 3000, 'convention': 3001, 'cookies': 3002, 'cooler': 3003, 'coolers': 3004, 'cowgirl': 3005, 'cows': 3006, 'cradles': 3007, 'crawling': 3008, 'crazy': 3009, 'crowns': 3010, 'curve': 3011, 'curved': 3012, 'daylight': 3013, 'decorating': 3014, 'descending': 3015, 'designer': 3016, 'dig': 3017, 'digs': 3018, 'dilapidated': 3019, 'directs': 3020, 'dominoes': 3021, 'donkeys': 3022, 'dotted': 3023, 'dribbles': 3024, 'drilling': 3025, 'dunking': 3026, 'eagerly': 3027, 'earrings': 3028, 'elephants': 3029, 'embrace': 3030, 'emerges': 3031, 'equestrian': 3032, 'escape': 3033, 'excitement': 3034, 'exhibition': 3035, 'exploring': 3036, 'expressions': 3037, 'eyeglasses': 3038, 'fairy': 3039, \"farmer's\": 3040, 'feathers': 3041, 'fills': 3042, 'film': 3043, 'fireplace': 3044, 'fishermen': 3045, 'fit': 3046, 'flaming': 3047, 'floaties': 3048, 'flowing': 3049, 'foam': 3050, 'forming': 3051, 'fort': 3052, 'given': 3053, 'glider': 3054, 'gliding': 3055, 'go-cart': 3056, 'goats': 3057, 'graffitied': 3058, 'greenery': 3059, 'gum': 3060, 'haired': 3061, 'hairstyle': 3062, 'handed': 3063, 'handles': 3064, 'handling': 3065, 'harp': 3066, 'headset': 3067, 'hear': 3068, 'herding': 3069, 'historic': 3070, 'holes': 3071, 'huddle': 3072, 'huddled': 3073, 'husky': 3074, 'includes': 3075, 'inspect': 3076, 'installing': 3077, 'instructing': 3078, 'interact': 3079, 'interviewed': 3080, 'ipod': 3081, 'island': 3082, 'japan': 3083, 'javelin': 3084, 'jog': 3085, 'keys': 3086, 'kimonos': 3087, 'kites': 3088, 'knee-high': 3089, 'lasso': 3090, 'last': 3091, 'latin': 3092, 'lean': 3093, 'leaned': 3094, 'leashes': 3095, 'least': 3096, 'legged': 3097, 'length': 3098, 'level': 3099, 'lie': 3100, 'lingerie': 3101, 'lost': 3102, 'lowered': 3103, 'magnifying': 3104, 'major': 3105, 'makeshift': 3106, 'mannequin': 3107, 'marches': 3108, 'masked': 3109, 'massive': 3110, 'mats': 3111, 'mattress': 3112, 'mcdonalds': 3113, 'memorial': 3114, 'merchant': 3115, 'message': 3116, 'metro': 3117, 'mic': 3118, 'minivan': 3119, 'mops': 3120, 'mothers': 3121, 'motorbikes': 3122, 'multicolor': 3123, 'mustard': 3124, 'nicely': 3125, 'nike': 3126, 'oar': 3127, 'obama': 3128, 'observers': 3129, 'offering': 3130, 'operation': 3131, 'opponents': 3132, 'pacifier': 3133, 'padded': 3134, 'parachutes': 3135, 'parachuting': 3136, 'parts': 3137, 'partying': 3138, 'passed': 3139, 'passerby': 3140, 'pauses': 3141, 'peacock': 3142, 'peak': 3143, 'pedal': 3144, 'pedestrian': 3145, 'perched': 3146, 'perhaps': 3147, 'persons': 3148, 'petals': 3149, 'photographing': 3150, 'pinned': 3151, 'pinstriped': 3152, 'plush': 3153, 'poking': 3154, 'poodles': 3155, 'positioned': 3156, 'posters': 3157, 'posts': 3158, 'pride': 3159, 'priest': 3160, 'pub': 3161, 'punk': 3162, 'rake': 3163, 'reclines': 3164, 'recreational': 3165, 'register': 3166, 'returns': 3167, 'roadwork': 3168, 'robot': 3169, 'rolled': 3170, 'rollerskaters': 3171, 'rounding': 3172, 'rowboat': 3173, 'rubble': 3174, 'rubs': 3175, 'ruins': 3176, 'run-down': 3177, 's': 3178, 'sacks': 3179, 'sail': 3180, 'sailboats': 3181, 'saying': 3182, 'scales': 3183, 'scantily': 3184, 'scout': 3185, 'searching': 3186, 'season': 3187, 'seesaw': 3188, 'served': 3189, 'shack': 3190, 'shady': 3191, 'sharp': 3192, 'sheer': 3193, 'sheets': 3194, 'shelves': 3195, 'shines': 3196, 'shingles': 3197, 'shoeshine': 3198, 'singers': 3199, 'sister': 3200, 'slicing': 3201, 'smooth': 3202, 'snap': 3203, 'snaps': 3204, 'snowboarders': 3205, 'snowcapped': 3206, 'snowman': 3207, 'soft': 3208, 'sound': 3209, 'spike': 3210, 'splash': 3211, 'split': 3212, 'spongebob': 3213, 'st': 3214, 'st.': 3215, 'stacks': 3216, 'starts': 3217, 'states': 3218, 'steers': 3219, 'storefronts': 3220, 'strap': 3221, 'stretch': 3222, 'struggles': 3223, 'struggling': 3224, 'stylish': 3225, 'suburban': 3226, 'suitcases': 3227, 'surgeons': 3228, 'sweaters': 3229, 'sweatshirts': 3230, 'sweatsuit': 3231, 'symbol': 3232, \"team's\": 3233, 'terminal': 3234, 'text': 3235, 'theme': 3236, \"there's\": 3237, 'tiara': 3238, 'toe': 3239, 'toilet': 3240, 'tomato': 3241, 'tongs': 3242, 'torches': 3243, 'tossed': 3244, 'towels': 3245, 'trays': 3246, 'tribe': 3247, 'trimming': 3248, 'tugging': 3249, 'tumbling': 3250, 'tunic': 3251, 'tuxedo': 3252, 'unfinished': 3253, 'unknown': 3254, 'utility': 3255, 'varying': 3256, 'vegetation': 3257, 'vertical': 3258, 'vocalist': 3259, 'waitress': 3260, 'wakeboard': 3261, 'want': 3262, 'watercraft': 3263, 'watermelon': 3264, 'weapons': 3265, 'welcome': 3266, 'white-haired': 3267, 'whole': 3268, 'windbreaker': 3269, 'winding': 3270, 'wiping': 3271, 'workmen': 3272, 'yelling': 3273, 'your': 3274, 'zoo': 3275, '9': 3276, 'accepting': 3277, 'actively': 3278, 'adorable': 3279, 'aerial': 3280, 'africa': 3281, 'aircraft': 3282, 'alcohol': 3283, 'apparel': 3284, 'appearing': 3285, 'arabic': 3286, 'areas': 3287, 'arid': 3288, 'artificial': 3289, 'asking': 3290, 'attraction': 3291, 'automobile': 3292, 'avoid': 3293, 'balconies': 3294, 'ballerinas': 3295, 'banging': 3296, 'basement': 3297, 'basketballs': 3298, 'bathrobe': 3299, 'bay': 3300, 'beards': 3301, 'bears': 3302, 'beat': 3303, 'begging': 3304, 'best': 3305, 'beyond': 3306, 'blue-green': 3307, 'bookbag': 3308, 'bookstore': 3309, 'boston': 3310, 'boulders': 3311, 'bowler': 3312, 'bracelet': 3313, 'breaking': 3314, 'bridal': 3315, 'bringing': 3316, 'brochure': 3317, 'bronze': 3318, 'brow': 3319, 'buggy': 3320, 'build': 3321, 'bungee': 3322, 'buoy': 3323, 'burgers': 3324, 'buses': 3325, 'butcher': 3326, 'button-down': 3327, 'cabin': 3328, 'cables': 3329, 'cafeteria': 3330, 'calling': 3331, 'came': 3332, 'camper': 3333, \"can't\": 3334, 'carpeted': 3335, 'cartoon': 3336, 'casts': 3337, 'cause': 3338, 'caution': 3339, 'celebrates': 3340, 'cemetery': 3341, 'charcoal': 3342, 'chews': 3343, 'chickens': 3344, 'chinatown': 3345, 'chip': 3346, 'chiseling': 3347, 'chubby': 3348, 'cinder': 3349, 'civil': 3350, 'cleaned': 3351, 'closer': 3352, 'coca': 3353, 'coca-cola': 3354, 'cockpit': 3355, 'coconuts': 3356, 'coke': 3357, 'collection': 3358, 'comfortable': 3359, 'communicating': 3360, 'competes': 3361, 'constructing': 3362, 'contemplating': 3363, 'controls': 3364, 'convertible': 3365, 'cooked': 3366, 'cookie': 3367, 'county': 3368, 'coveralls': 3369, 'crab': 3370, 'craftsman': 3371, 'crayon': 3372, 'created': 3373, 'crib': 3374, 'cruise': 3375, 'crutches': 3376, 'cubicle': 3377, 'cupcake': 3378, 'cupcakes': 3379, 'curious': 3380, 'currently': 3381, 'daughters': 3382, 'decide': 3383, 'deere': 3384, 'defenders': 3385, 'defensive': 3386, 'delicious': 3387, 'demonstrating': 3388, 'descend': 3389, 'despite': 3390, 'diners': 3391, 'directly': 3392, 'disk': 3393, 'disney': 3394, 'dolly': 3395, 'dolphin': 3396, 'double': 3397, 'dozens': 3398, 'drag': 3399, 'drainage': 3400, 'dramatically': 3401, 'dribbling': 3402, 'drivers': 3403, 'drop': 3404, 'dropped': 3405, 'drops': 3406, 'dunes': 3407, 'dunk': 3408, 'dyed': 3409, 'early': 3410, 'earmuffs': 3411, 'eatery': 3412, 'electronics': 3413, 'emerging': 3414, 'enforcement': 3415, 'engage': 3416, 'entertainer': 3417, 'enthusiastically': 3418, 'era': 3419, 'evil': 3420, 'except': 3421, 'exciting': 3422, 'exits': 3423, 'exposed': 3424, 'extended': 3425, 'extremely': 3426, 'fashionable': 3427, 'fetching': 3428, 'fighter': 3429, 'file': 3430, 'fine': 3431, 'firetrucks': 3432, 'firing': 3433, 'fitness': 3434, 'flatbed': 3435, 'flea': 3436, 'floppy': 3437, 'flour': 3438, 'fluorescent': 3439, 'footbridge': 3440, 'force': 3441, 'forces': 3442, 'formed': 3443, 'foundation': 3444, 'fourth': 3445, 'frames': 3446, 'freshly': 3447, 'frog': 3448, 'frustrated': 3449, 'galloping': 3450, 'gated': 3451, 'gay': 3452, 'girlfriend': 3453, 'golfer': 3454, 'graduation': 3455, 'greeting': 3456, 'grins': 3457, 'grown': 3458, 'guarding': 3459, 'guitarists': 3460, 'gymnastic': 3461, 'halter': 3462, 'hauling': 3463, 'headbands': 3464, 'headscarves': 3465, 'helmeted': 3466, 'helped': 3467, 'henna': 3468, 'hero': 3469, 'hidden': 3470, 'high-fives': 3471, 'hikes': 3472, 'hilly': 3473, 'hips': 3474, 'holiday': 3475, 'hooping': 3476, 'hopscotch': 3477, 'horns': 3478, 'hung': 3479, 'impressive': 3480, 'incoming': 3481, 'inflated': 3482, 'inline': 3483, 'instructor': 3484, 'intense': 3485, 'jack': 3486, 'jar': 3487, 'jazz': 3488, 'jewelery': 3489, 'joggers': 3490, 'kayaker': 3491, 'kayakers': 3492, 'keeping': 3493, 'kiddie': 3494, 'kilts': 3495, 'kitchenaid': 3496, 'kitten': 3497, 'know': 3498, 'known': 3499, 'ladders': 3500, 'landed': 3501, 'lantern': 3502, 'law': 3503, 'layers': 3504, 'leafless': 3505, 'lemons': 3506, 'letters': 3507, 'liberty': 3508, 'lid': 3509, 'lifeguards': 3510, 'likely': 3511, 'lip': 3512, 'litter': 3513, 'lonely': 3514, 'loose': 3515, 'm': 3516, 'mac': 3517, 'mailbox': 3518, 'mark': 3519, 'markings': 3520, 'mascara': 3521, 'mates': 3522, 'mechanic': 3523, 'mechanical': 3524, 'megaphone': 3525, 'mermaid': 3526, 'mesh': 3527, 'messenger': 3528, 'metallic': 3529, 'mickey': 3530, 'milk': 3531, 'monster': 3532, 'motorboat': 3533, 'mountainside': 3534, 'mustached': 3535, 'muzzles': 3536, 'note': 3537, 'occupied': 3538, 'occurring': 3539, 'octopus': 3540, 'oklahoma': 3541, 'old-fashioned': 3542, 'once': 3543, 'open-air': 3544, 'opened': 3545, 'operated': 3546, 'orders': 3547, 'organ': 3548, 'organizing': 3549, \"other's\": 3550, 'over-sized': 3551, 'overcoat': 3552, 'overhang': 3553, 'oversized': 3554, 'overturned': 3555, 'owner': 3556, 'owners': 3557, 'oxen': 3558, 'packing': 3559, 'pad': 3560, 'padding': 3561, 'paintbrush': 3562, 'paintings': 3563, 'pancake': 3564, 'panel': 3565, 'parasol': 3566, 'participants': 3567, 'participates': 3568, 'passionately': 3569, 'pastries': 3570, 'patrol': 3571, 'paws': 3572, 'peach': 3573, 'peeks': 3574, 'peeling': 3575, 'photography': 3576, 'pickup': 3577, 'pictured': 3578, 'pie': 3579, 'pig': 3580, 'piggyback': 3581, 'piled': 3582, 'pillars': 3583, 'ping-pong': 3584, 'pirates': 3585, 'pitchers': 3586, 'playpen': 3587, 'plowing': 3588, 'plucking': 3589, 'poised': 3590, 'pokes': 3591, 'polish': 3592, 'pop': 3593, 'port': 3594, 'possession': 3595, 'postal': 3596, 'potted': 3597, 'poverty': 3598, 'powder': 3599, 'prayer': 3600, 'pregnant': 3601, 'preparation': 3602, 'pressure': 3603, 'pretending': 3604, 'princess': 3605, 'prints': 3606, 'prizes': 3607, 'pro': 3608, 'professionals': 3609, 'projected': 3610, 'promoting': 3611, 'propane': 3612, 'puffy': 3613, 'purchasing': 3614, 'puzzle': 3615, 'quaint': 3616, 'quick': 3617, 'rabbit': 3618, 'rabbits': 3619, 'railway': 3620, 'ramps': 3621, 'readying': 3622, 'rear': 3623, 'receive': 3624, 'receives': 3625, 'reddish': 3626, 'ref': 3627, 'remote': 3628, 'removing': 3629, 'retail': 3630, 'retrieving': 3631, 'returning': 3632, 'ridding': 3633, 'roadway': 3634, 'rocking': 3635, 'rode': 3636, 'rollerblader': 3637, 'roping': 3638, 'roses': 3639, 'rounds': 3640, 'runway': 3641, 'saddle': 3642, 'safe': 3643, 'sailor': 3644, 'salad': 3645, 'sandal': 3646, 'sashes': 3647, 'sausages': 3648, 'scale': 3649, 'scared': 3650, 'scoop': 3651, 'scottish': 3652, 'scrap': 3653, 'scratching': 3654, 'sculpting': 3655, 'sculptor': 3656, 'seagull': 3657, 'seashore': 3658, 'seaweed': 3659, 'seeds': 3660, 'selecting': 3661, 'seniors': 3662, 'shapes': 3663, 'shave': 3664, 'shed': 3665, 'sheepdog': 3666, 'shields': 3667, 'shoots': 3668, 'siding': 3669, 'sight': 3670, 'similarly': 3671, 'sip': 3672, 'siting': 3673, 'skimpy': 3674, 'slab': 3675, 'slam': 3676, 'sleeve': 3677, 'slender': 3678, 'slices': 3679, 'slip': 3680, 'sloping': 3681, 'slot': 3682, 'slowly': 3683, 'smoothing': 3684, 'snake': 3685, 'sniffs': 3686, 'snorkel': 3687, 'snowing': 3688, 'soil': 3689, 'soldering': 3690, 'solitary': 3691, 'solo': 3692, 'someones': 3693, 'sons': 3694, 'sorts': 3695, 'south': 3696, 'spandex': 3697, 'speakers': 3698, 'spear': 3699, 'spectate': 3700, 'speedo': 3701, 'spiked': 3702, 'spikes': 3703, 'spin': 3704, 'sponsored': 3705, 'sprinting': 3706, 'squares': 3707, 'stacking': 3708, 'stairwell': 3709, 'stalks': 3710, 'starbucks': 3711, 'stationary': 3712, 'statues': 3713, 'stay': 3714, 'steaks': 3715, 'steam': 3716, 'steer': 3717, 'stirs': 3718, 'stocking': 3719, 'stockings': 3720, 'stools': 3721, 'storage': 3722, 'storm': 3723, 'straps': 3724, 'strawberry': 3725, 'streetlight': 3726, 'stride': 3727, 'strikes': 3728, 'strip': 3729, 'structures': 3730, 'studies': 3731, 'submerged': 3732, 'substance': 3733, 'such': 3734, 'sucking': 3735, 'sumo': 3736, 'sunbathers': 3737, 'sunhat': 3738, 'sunrise': 3739, 'surround': 3740, 'surroundings': 3741, 'suv': 3742, 'swampy': 3743, 'sweaty': 3744, 'swimwear': 3745, 'tackles': 3746, 'tagged': 3747, 'taller': 3748, 'tap': 3749, 'taste': 3750, 'tasting': 3751, 'tattered': 3752, 'taught': 3753, 'taxis': 3754, 'technique': 3755, 'technology': 3756, 'temporary': 3757, 'terrace': 3758, 'texts': 3759, 'think': 3760, 'thinking': 3761, 'thought': 3762, 'tickets': 3763, 'tightly': 3764, 'tightrope': 3765, 'tip': 3766, 'toast': 3767, 'topic': 3768, 'torn': 3769, 'tosses': 3770, 'trained': 3771, 'tram': 3772, 'trims': 3773, 'trombone': 3774, 'troops': 3775, 'tuning': 3776, 'turtle': 3777, 'twelve': 3778, 'twirling': 3779, 'twister': 3780, 'typical': 3781, 'ukulele': 3782, 'unicef': 3783, 'unidentified': 3784, 'unpacking': 3785, 'unpaved': 3786, 'unseen': 3787, 'used': 3788, 'vacation': 3789, 'vast': 3790, 'vegas': 3791, 'via': 3792, 'videotaping': 3793, 'viewer': 3794, 'villagers': 3795, 'violinist': 3796, 'volkswagen': 3797, 'wades': 3798, 'waring': 3799, 'warning': 3800, 'washed': 3801, 'washington': 3802, 'ways': 3803, 'weathered': 3804, 'weave': 3805, 'weeds': 3806, 'weighing': 3807, 'weird': 3808, 'western': 3809, 'wetsuits': 3810, \"what's\": 3811, 'wheeler': 3812, 'whispering': 3813, \"who's\": 3814, 'wicker': 3815, 'wigs': 3816, 'winning': 3817, 'wipes': 3818, 'wool': 3819, 'word': 3820, 'workbench': 3821, 'wraps': 3822, 'write': 3823, 'yamaha': 3824, 'yo-yo': 3825, 'youngsters': 3826, 'youths': 3827, 'zebra': 3828, '12': 3829, '24': 3830, '3rd': 3831, 'accompanies': 3832, 'adding': 3833, 'addresses': 3834, 'addressing': 3835, 'adjust': 3836, 'admires': 3837, 'adolescent': 3838, 'advantage': 3839, 'again': 3840, 'age': 3841, 'agility': 3842, 'aim': 3843, 'airline': 3844, 'alike': 3845, 'ally': 3846, 'aluminum': 3847, 'amazing': 3848, 'ambulance': 3849, 'amused': 3850, 'answers': 3851, 'applied': 3852, 'approach': 3853, 'approximately': 3854, 'aquatic': 3855, 'arguing': 3856, 'arranged': 3857, 'arrival': 3858, 'ashore': 3859, 'assembly': 3860, 'assortment': 3861, 'astronaut': 3862, 'attaches': 3863, 'attend': 3864, 'attired': 3865, 'audio': 3866, 'awaits': 3867, 'awe': 3868, 'awning': 3869, 'awnings': 3870, 'backhand': 3871, 'baggage': 3872, 'bagpipe': 3873, 'baker': 3874, 'banquet': 3875, 'barbie': 3876, 'bark': 3877, 'barricades': 3878, 'bathed': 3879, 'batons': 3880, 'bats': 3881, 'battling': 3882, 'bead': 3883, 'beagle': 3884, 'beans': 3885, 'bearer': 3886, 'beats': 3887, 'beautifully': 3888, 'bee': 3889, 'berlin': 3890, 'better': 3891, \"bird's\": 3892, 'blacktop': 3893, 'blade': 3894, 'blonds': 3895, 'blossoming': 3896, 'blow-up': 3897, 'bmw': 3898, 'boa': 3899, 'boating': 3900, 'border': 3901, 'bordered': 3902, 'bordering': 3903, 'bounce': 3904, 'bouncer': 3905, 'bounces': 3906, 'bouncy': 3907, 'bowed': 3908, 'braces': 3909, 'brazil': 3910, 'breakfast': 3911, 'brick-paved': 3912, 'briefs': 3913, 'brindle': 3914, 'briskly': 3915, 'bucks': 3916, 'bug': 3917, 'bulls': 3918, 'bumper': 3919, 'burger': 3920, 'butchering': 3921, 'butt': 3922, 'butter': 3923, 'cabinet': 3924, 'cages': 3925, 'cakes': 3926, 'california': 3927, 'camcorder': 3928, \"camera's\": 3929, 'cameramen': 3930, 'campaign': 3931, 'canes': 3932, 'canister': 3933, 'canned': 3934, 'capes': 3935, 'captured': 3936, 'captures': 3937, 'careful': 3938, 'ceramic': 3939, 'cereal': 3940, 'charging': 3941, 'chart': 3942, 'cheers': 3943, 'chew': 3944, 'clams': 3945, 'claw': 3946, 'cleats': 3947, 'clerk': 3948, 'cobbled': 3949, 'collected': 3950, 'collide': 3951, 'comb': 3952, 'commuters': 3953, 'coney': 3954, 'congregated': 3955, 'congregating': 3956, 'contains': 3957, 'content': 3958, 'cord': 3959, 'cords': 3960, 'corral': 3961, 'corridor': 3962, 'costumed': 3963, 'countertop': 3964, 'coverings': 3965, 'cracks': 3966, 'crashed': 3967, 'crashes': 3968, 'creative': 3969, 'crocodile': 3970, 'crocs': 3971, 'crotch': 3972, 'crouch': 3973, 'cry': 3974, 'crystal': 3975, 'culture': 3976, 'curling': 3977, 'curtain': 3978, 'cushion': 3979, 'cut-out': 3980, 'cutout': 3981, 'cycle': 3982, 'cycles': 3983, 'darkly': 3984, 'darkness': 3985, 'darts': 3986, 'dealer': 3987, 'decals': 3988, 'defends': 3989, 'demonstrates': 3990, 'dentist': 3991, 'depicting': 3992, 'descends': 3993, 'desolate': 3994, 'digger': 3995, 'dimly-lit': 3996, 'directed': 3997, 'director': 3998, 'dishwasher': 3999, 'distorted': 4000, 'ditch': 4001, 'diverse': 4002, 'dojo': 4003, 'donuts': 4004, 'dorm': 4005, 'dozen': 4006, 'dreads': 4007, 'drenched': 4008, 'dressing': 4009, 'dried': 4010, 'dries': 4011, 'driven': 4012, 'drunk': 4013, 'ds': 4014, 'ducking': 4015, 'duffel': 4016, 'dugout': 4017, 'dumps': 4018, 'dunks': 4019, 'dustpan': 4020, 'dwelling': 4021, 'earbuds': 4022, 'earring': 4023, 'easter': 4024, 'el': 4025, 'elbow': 4026, 'electrical': 4027, 'electrician': 4028, 'elevator': 4029, 'else': 4030, 'em': 4031, 'enclosed': 4032, 'enclosure': 4033, 'ends': 4034, 'engages': 4035, 'enter': 4036, 'enters': 4037, 'entertained': 4038, 'entertaining': 4039, 'entertainment': 4040, 'entertains': 4041, 'enthusiasm': 4042, 'enthusiast': 4043, 'equipped': 4044, 'euro': 4045, 'every': 4046, 'everyone': 4047, 'everywhere': 4048, 'exit': 4049, 'expensive': 4050, 'explorer': 4051, 'explores': 4052, 'explosion': 4053, 'exposing': 4054, 'extends': 4055, 'extreme': 4056, 'facade': 4057, 'families': 4058, \"father's\": 4059, 'featured': 4060, 'fed': 4061, 'feed': 4062, 'feeds': 4063, 'fenced-in': 4064, 'fences': 4065, 'ferry': 4066, 'festive': 4067, 'films': 4068, 'final': 4069, 'fingernail': 4070, 'fingertips': 4071, 'fist': 4072, 'fists': 4073, 'flashlight': 4074, 'fleece': 4075, 'fliers': 4076, 'flights': 4077, 'flood': 4078, 'flooded': 4079, 'flotation': 4080, 'focuses': 4081, 'fold-up': 4082, 'footprints': 4083, 'ford': 4084, 'forklift': 4085, 'formations': 4086, 'forrest': 4087, 'fortune': 4088, 'four-wheeler': 4089, 'france': 4090, 'freeway': 4091, \"friend's\": 4092, 'friendly': 4093, 'frosting': 4094, 'fully': 4095, 'gardens': 4096, 'garment': 4097, 'geese': 4098, 'geisha': 4099, 'geometric': 4100, 'gifts': 4101, 'goers': 4102, 'gorgeous': 4103, 'government': 4104, 'graduate': 4105, 'granddaughter': 4106, 'grandmother': 4107, 'graphic': 4108, 'graying': 4109, 'greet': 4110, 'grid': 4111, 'grimacing': 4112, 'gripping': 4113, 'grouped': 4114, 'growing': 4115, 'gyro': 4116, 'hairnet': 4117, 'hamburger': 4118, 'hamburgers': 4119, 'hammers': 4120, 'handful': 4121, 'handicapped': 4122, 'handlebars': 4123, 'handmade': 4124, 'happening': 4125, 'hate': 4126, 'hatted': 4127, 'hawk': 4128, 'headgear': 4129, 'healthcare': 4130, 'heartbeat': 4131, 'hedge': 4132, 'hello': 4133, 'highly': 4134, 'holidays': 4135, 'holing': 4136, 'hollister': 4137, 'honor': 4138, \"horse's\": 4139, 'horse-drawn': 4140, 'hoses': 4141, 'huddling': 4142, 'hula-hoop': 4143, 'hula-hoops': 4144, 'hundreds': 4145, 'hurdles': 4146, 'huts': 4147, 'id': 4148, 'index': 4149, 'indians': 4150, 'infants': 4151, 'informal': 4152, 'inner': 4153, 'interested': 4154, 'interior': 4155, 'interview': 4156, 'intimate': 4157, 'ironing': 4158, 'italian': 4159, 'itself': 4160, 'jackhammer': 4161, 'janitor': 4162, 'jars': 4163, 'jogger': 4164, 'jug': 4165, 'junk': 4166, 'karaoke': 4167, 'kettle': 4168, 'key': 4169, 'keyboards': 4170, 'kickboxing': 4171, 'kicker': 4172, 'kinds': 4173, 'kissed': 4174, 'kit': 4175, 'kitty': 4176, 'kneel': 4177, 'knight': 4178, 'knits': 4179, 'knives': 4180, 'korean': 4181, 'la': 4182, 'ladle': 4183, \"lady's\": 4184, 'lakers': 4185, 'lakeside': 4186, 'landmark': 4187, 'lassoing': 4188, 'latex': 4189, 'latino': 4190, 'launch': 4191, 'launches': 4192, 'launching': 4193, 'layered': 4194, 'leafy': 4195, 'led': 4196, 'lego': 4197, 'lemon': 4198, 'leotards': 4199, 'lets': 4200, 'letter': 4201, 'limb': 4202, 'limo': 4203, 'littered': 4204, 'lives': 4205, 'livestock': 4206, 'llama': 4207, 'lock': 4208, 'lollipop': 4209, 'lottery': 4210, 'lounges': 4211, 'machete': 4212, 'mad': 4213, 'maneuver': 4214, 'maneuvering': 4215, 'maneuvers': 4216, 'manhole': 4217, 'mannequins': 4218, 'manual': 4219, 'maple': 4220, 'mariachi': 4221, 'marina': 4222, 'marks': 4223, 'marsh': 4224, 'master': 4225, 'mate': 4226, 'me': 4227, 'meals': 4228, 'media': 4229, 'meditating': 4230, 'medium-sized': 4231, 'menus': 4232, 'mesmerized': 4233, 'metropolitan': 4234, 'mets': 4235, 'mexico': 4236, 'mid-jump': 4237, 'middle-age': 4238, 'might': 4239, 'mike': 4240, 'miniskirt': 4241, 'mirrored': 4242, 'mixed': 4243, 'mixes': 4244, 'mock': 4245, 'monks': 4246, 'moose': 4247, 'mopping': 4248, 'mosaic': 4249, 'mosque': 4250, 'moved': 4251, 'mustachioed': 4252, 'names': 4253, 'napkin': 4254, 'natural': 4255, 'navigating': 4256, 'needed': 4257, 'needs': 4258, 'nibbling': 4259, 'nintendo': 4260, 'noodle': 4261, 'noodles': 4262, 'notebooks': 4263, 'notice': 4264, 'now': 4265, 'numbered': 4266, 'nursing': 4267, 'observed': 4268, 'offers': 4269, 'ohio': 4270, 'ollie': 4271, 'onlooker': 4272, 'opportunity': 4273, 'organized': 4274, 'ornament': 4275, 'outcropping': 4276, 'outfielder': 4277, 'outstreached': 4278, 'overall': 4279, 'overlooks': 4280, 'overpass': 4281, 'oxford': 4282, 'pace': 4283, 'packages': 4284, 'paddlers': 4285, 'pages': 4286, 'paintball': 4287, 'painters': 4288, 'pairs': 4289, 'panda': 4290, 'pant': 4291, 'parka': 4292, 'parlor': 4293, 'partly': 4294, 'partner': 4295, 'pastor': 4296, 'pastry': 4297, 'patches': 4298, 'patiently': 4299, 'patriotic': 4300, 'patron': 4301, 'pause': 4302, 'paving': 4303, 'paw': 4304, 'paying': 4305, 'peaceful': 4306, 'penguin': 4307, 'per': 4308, 'period': 4309, 'pets': 4310, 'picker': 4311, 'pierced': 4312, 'piercing': 4313, 'piercings': 4314, 'pitched': 4315, 'pitches': 4316, 'playhouse': 4317, 'pleasant': 4318, 'plugging': 4319, 'pockets': 4320, 'pointy': 4321, 'poker': 4322, 'polka-dot': 4323, 'poncho': 4324, 'ponchos': 4325, 'ponders': 4326, 'ponytails': 4327, 'poorly': 4328, 'popping': 4329, 'portraits': 4330, 'positions': 4331, 'potatoes': 4332, 'pouting': 4333, 'powered': 4334, 'powerpoint': 4335, 'press': 4336, 'presses': 4337, 'pressing': 4338, 'pretends': 4339, 'prevent': 4340, 'primitive': 4341, 'procession': 4342, 'professionally': 4343, 'profile': 4344, 'protester': 4345, 'proud': 4346, 'proudly': 4347, 'provide': 4348, 'pruning': 4349, 'pulley': 4350, 'pump': 4351, 'pumpkins': 4352, 'pursued': 4353, 'quilt': 4354, 'r': 4355, 'racquet': 4356, 'ragged': 4357, 'rainstorm': 4358, 'rakes': 4359, 'rappelling': 4360, 'real': 4361, 'recently': 4362, 'recliner': 4363, 'records': 4364, 'rectangular': 4365, 'referees': 4366, 'reflections': 4367, 'refreshing': 4368, 'rehearsing': 4369, 'related': 4370, 'released': 4371, 'remove': 4372, 'removed': 4373, 'removes': 4374, 'reporter': 4375, 'representing': 4376, 'rescue': 4377, 'responding': 4378, \"restaurant's\": 4379, 'retriever': 4380, 'reviewing': 4381, 'rig': 4382, 'ripped': 4383, 'rise': 4384, 'rises': 4385, 'ritual': 4386, 'rods': 4387, 'roller-skating': 4388, 'rooster': 4389, 'route': 4390, 'rowers': 4391, 'ruler': 4392, 'salmon': 4393, 'samurai': 4394, 'sandpit': 4395, 'sands': 4396, 'sari': 4397, 'sat': 4398, 'satchel': 4399, 'sauna': 4400, 'save': 4401, 'saxophones': 4402, 'school-aged': 4403, 'schoolgirl': 4404, 'scoops': 4405, 'screams': 4406, 'screwdriver': 4407, 'secured': 4408, 'sedan': 4409, 'seemingly': 4410, 'sees': 4411, 'selection': 4412, 'services': 4413, 'session': 4414, 'sexy': 4415, 'shaded': 4416, 'shading': 4417, 'shadowed': 4418, 'shake': 4419, 'shelf': 4420, 'shelter': 4421, 'shielding': 4422, 'shit': 4423, 'shrimp': 4424, 'signal': 4425, 'silk': 4426, 'sipping': 4427, 'sippy': 4428, 'sips': 4429, 'sizes': 4430, 'skeleton': 4431, 'skill': 4432, 'skillfully': 4433, 'skin': 4434, 'sleds': 4435, 'sleigh': 4436, 'smirking': 4437, 'snowbank': 4438, 'snows': 4439, 'sock': 4440, 'solar': 4441, 'solider': 4442, 'sombrero': 4443, 'somersault': 4444, 'soon': 4445, 'spain': 4446, 'sparkler': 4447, 'sparklers': 4448, 'sparks': 4449, 'sparse': 4450, 'spectacular': 4451, 'spiderman': 4452, 'spiking': 4453, 'spilled': 4454, 'spiral': 4455, 'spits': 4456, 'sponge': 4457, 'spreading': 4458, 'spreads': 4459, 'sprinkled': 4460, 'sprinkles': 4461, 'sprinkling': 4462, 'sprints': 4463, 'squarepants': 4464, 'squat': 4465, 'squinting': 4466, 'stained': 4467, 'statute': 4468, 'staying': 4469, 'stethoscope': 4470, 'sticker': 4471, 'stony': 4472, 'straining': 4473, 'streaks': 4474, 'streams': 4475, 'streetlights': 4476, 'strewn': 4477, 'strobe': 4478, 'strumming': 4479, 'study': 4480, 'styrofoam': 4481, 'sucks': 4482, 'suds': 4483, 'suite': 4484, 'sunhats': 4485, 'surfboards': 4486, 'sweating': 4487, 'sweep': 4488, 'sweet': 4489, 'takeout': 4490, 'talkie': 4491, 'tambourine': 4492, 'tank-top': 4493, 'tanned': 4494, 'tasks': 4495, 'tasty': 4496, 'tee-shirt': 4497, 'telling': 4498, 'tells': 4499, 'ten': 4500, 'tend': 4501, 'tends': 4502, 'testing': 4503, 'tethered': 4504, 'themed': 4505, 'thread': 4506, 'threw': 4507, 'tiles': 4508, 'tobacco': 4509, 'toilets': 4510, 'took': 4511, 'toss': 4512, 'towed': 4513, 'towering': 4514, 'toyota': 4515, 'transport': 4516, 'transporting': 4517, 'trap': 4518, 'treats': 4519, 'tricycles': 4520, 'trio': 4521, 'trips': 4522, 'trots': 4523, 'trouble': 4524, 'trough': 4525, 'trumpets': 4526, 'tuba': 4527, 'tug': 4528, 'tulips': 4529, 'turbans': 4530, 'turtleneck': 4531, 'tutus': 4532, 'tuxedos': 4533, 'twigs': 4534, 'twilight': 4535, 'twirl': 4536, 'twirls': 4537, 'two-piece': 4538, 'uncompleted': 4539, 'underway': 4540, 'union': 4541, 'uniquely': 4542, 'unison': 4543, 'united': 4544, 'unusually': 4545, 'upcoming': 4546, 'uphill': 4547, 'upper': 4548, 'ups': 4549, 'utensils': 4550, 'vacant': 4551, 'vacuums': 4552, 'veil': 4553, \"vendor's\": 4554, 'videotapes': 4555, 'vietnamese': 4556, 'views': 4557, 'vigorously': 4558, 'violins': 4559, 'vivid': 4560, 'volunteers': 4561, 'wade': 4562, 'waited': 4563, 'waking': 4564, 'walker': 4565, 'walkie': 4566, 'wallet': 4567, 'warmly': 4568, 'web': 4569, 'welds': 4570, 'wheat': 4571, 'wheeling': 4572, 'whose': 4573, 'wii': 4574, 'wildflowers': 4575, 'winded': 4576, 'wonder': 4577, 'woodworking': 4578, 'wrapping': 4579, 'wrong': 4580, 'yawning': 4581, 'years': 4582, 'yet': 4583, 'zip': 4584, 'zombie': 4585, 'zombies': 4586, ' ': 4587, '%': 4588, '100': 4589, '13': 4590, '14': 4591, '2008': 4592, '30': 4593, '38': 4594, '50': 4595, '6.': 4596, '63': 4597, \"80's\": 4598, '`': 4599, 'a&amp;m': 4600, 'abs': 4601, 'accompaniment': 4602, 'acrobat': 4603, 'acrobatics': 4604, 'actions': 4605, 'add': 4606, 'adds': 4607, 'adjacent': 4608, 'admire': 4609, 'adobe': 4610, \"adult's\": 4611, 'adventure': 4612, 'adventurous': 4613, 'affection': 4614, 'africans': 4615, 'aims': 4616, 'airways': 4617, 'alaska': 4618, 'album': 4619, 'alcoholic': 4620, 'align': 4621, 'allow': 4622, 'aloft': 4623, 'aloud': 4624, 'alpine': 4625, 'always': 4626, 'amber': 4627, \"america's\": 4628, 'amplifier': 4629, 'angeles': 4630, 'angles': 4631, 'animatedly': 4632, 'announcement': 4633, 'annual': 4634, 'anorak': 4635, \"another's\": 4636, 'answer': 4637, 'anxiously': 4638, 'applauding': 4639, 'appreciate': 4640, 'approached': 4641, 'arab': 4642, 'archaeologists': 4643, 'architectural': 4644, 'architecture': 4645, 'armored': 4646, 'arrange': 4647, 'array': 4648, 'ascends': 4649, 'aside': 4650, 'assistance': 4651, 'assisted': 4652, 'assists': 4653, 'assorted': 4654, 'atlanta': 4655, 'attaching': 4656, 'attack': 4657, 'attacked': 4658, 'attacking': 4659, 'attended': 4660, 'attentive': 4661, \"atv's\": 4662, 'auditioning': 4663, 'average': 4664, 'aviator': 4665, 'awaiting': 4666, 'back-up': 4667, 'backed': 4668, 'backflip': 4669, 'backing': 4670, 'bad': 4671, 'bagel': 4672, 'bagpipers': 4673, 'bake': 4674, 'baking': 4675, 'bale': 4676, 'bales': 4677, 'baltimore': 4678, 'bandage': 4679, 'bandannas': 4680, 'barbed': 4681, 'bare-chested': 4682, 'bares': 4683, 'barker': 4684, 'barn': 4685, 'barricade': 4686, 'based': 4687, 'battery': 4688, 'batting': 4689, 'bazaar': 4690, 'beaker': 4691, 'bean': 4692, 'beauty': 4693, 'become': 4694, 'beds': 4695, 'bell': 4696, 'bemused': 4697, 'bespectacled': 4698, 'bibs': 4699, 'bicycler': 4700, 'bill': 4701, 'bills': 4702, 'billy': 4703, 'binder': 4704, 'bins': 4705, 'bistro': 4706, 'bits': 4707, 'blackboard': 4708, 'blacksmith': 4709, 'blank': 4710, 'blankly': 4711, 'blasts': 4712, 'blind': 4713, 'blinds': 4714, 'blond-headed': 4715, 'bloody': 4716, 'bloom': 4717, 'blooming': 4718, 'blown': 4719, 'blue-shirted': 4720, 'blues': 4721, 'blur': 4722, 'boaters': 4723, 'bodies': 4724, 'bonding': 4725, 'bone': 4726, 'bonfire': 4727, 'bonnet': 4728, 'bored': 4729, 'bottled': 4730, 'bout': 4731, 'boutique': 4732, 'bowled': 4733, 'bowties': 4734, 'brace': 4735, 'braid': 4736, 'braids': 4737, 'breakdances': 4738, 'breast': 4739, 'breaststroke': 4740, 'breeze': 4741, 'bridesmaid': 4742, 'briefcases': 4743, 'brightly-colored': 4744, 'brimmed': 4745, 'bring': 4746, 'broccoli': 4747, 'brochures': 4748, 'brook': 4749, 'brothers': 4750, 'brownish': 4751, 'buck': 4752, 'bucked': 4753, 'buddhist': 4754, 'buffalo': 4755, 'bugs': 4756, \"building's\": 4757, 'builds': 4758, 'bulldog': 4759, 'bullet': 4760, 'bump': 4761, 'bun': 4762, 'bunches': 4763, 'bundles': 4764, 'bunk': 4765, 'burying': 4766, 'bushel': 4767, 'busily': 4768, 'busker': 4769, 'busking': 4770, 'bust': 4771, \"butcher's\": 4772, 'buttons': 4773, 'buys': 4774, 'bystander': 4775, 'cadillac': 4776, 'caged': 4777, 'calendar': 4778, 'calmly': 4779, 'calvin': 4780, 'camo': 4781, 'camps': 4782, 'campus': 4783, 'candlelight': 4784, 'canoeing': 4785, 'capri': 4786, 'capris': 4787, 'captain': 4788, 'captivated': 4789, 'capture': 4790, \"car's\": 4791, 'caravan': 4792, 'caressing': 4793, 'carol': 4794, 'carpenter': 4795, 'cartons': 4796, 'cashier': 4797, 'castro': 4798, 'catamaran': 4799, 'cavern': 4800, 'cell': 4801, 'cells': 4802, 'cellular': 4803, 'central': 4804, 'challenging': 4805, 'cheered': 4806, 'cheerful': 4807, 'chemical': 4808, 'chemistry': 4809, 'chested': 4810, 'chief': 4811, 'chili': 4812, 'chimney': 4813, 'chipper': 4814, 'chisel': 4815, 'chisels': 4816, 'choppy': 4817, 'choreographed': 4818, 'chores': 4819, 'churning': 4820, 'circles': 4821, 'circuit': 4822, 'circuits': 4823, 'citizen': 4824, \"city's\": 4825, 'civilians': 4826, 'clasps': 4827, 'classical': 4828, 'clause': 4829, 'clenches': 4830, 'clever': 4831, 'clicking': 4832, 'cliffs': 4833, 'climbed': 4834, 'clipboard': 4835, 'clips': 4836, 'clog': 4837, 'closing': 4838, 'clustered': 4839, 'coached': 4840, 'coaches': 4841, 'coastline': 4842, 'cob': 4843, 'coconut': 4844, 'coeds': 4845, 'coin-operated': 4846, 'colleagues': 4847, 'collision': 4848, 'colourful': 4849, 'comforter': 4850, 'comforts': 4851, 'comic': 4852, 'comical': 4853, 'common': 4854, 'compartment': 4855, 'competitively': 4856, 'completes': 4857, 'concentrating': 4858, 'concession': 4859, 'condoms': 4860, 'congregation': 4861, 'consoles': 4862, 'consulting': 4863, 'consults': 4864, 'contained': 4865, 'containers': 4866, 'contestant': 4867, 'contestants': 4868, 'contested': 4869, 'contingent': 4870, 'contorts': 4871, 'converses': 4872, 'conveyor': 4873, 'copies': 4874, 'copy': 4875, 'cork': 4876, 'corsage': 4877, 'cottage': 4878, 'couches': 4879, 'could': 4880, 'counters': 4881, 'coworker': 4882, 'crabs': 4883, 'cracked': 4884, 'crag': 4885, 'crammed': 4886, 'cramped': 4887, 'crayola': 4888, 'creation': 4889, 'creature': 4890, 'creepy': 4891, 'crow': 4892, 'crumbling': 4893, 'crushed': 4894, 'cue': 4895, 'culinary': 4896, 'cultural': 4897, 'cupping': 4898, 'curbside': 4899, 'curiously': 4900, 'custody': 4901, 'cutoff': 4902, 'cutouts': 4903, 'cutter': 4904, 'cyclone': 4905, 'dachshund': 4906, 'dame': 4907, 'dandelion': 4908, 'dane': 4909, 'daring': 4910, 'darth': 4911, 'dash': 4912, \"daughter's\": 4913, 'david': 4914, 'de': 4915, 'decides': 4916, 'deciding': 4917, 'decked': 4918, 'defending': 4919, 'deflated': 4920, 'delight': 4921, 'delivering': 4922, 'delivery': 4923, 'dental': 4924, 'depicted': 4925, 'describing': 4926, 'designing': 4927, 'detail': 4928, 'detergent': 4929, 'determined': 4930, 'devil': 4931, 'diamond': 4932, 'diaper': 4933, 'die': 4934, 'diet': 4935, 'dim': 4936, 'dip': 4937, 'direct': 4938, 'dirt-bike': 4939, 'disco': 4940, 'discovering': 4941, 'discusses': 4942, 'distracted': 4943, 'district': 4944, \"doctor's\": 4945, 'documents': 4946, 'dollhouse': 4947, \"don't\": 4948, 'donations': 4949, 'doorstep': 4950, 'double-decker': 4951, 'downing': 4952, 'downward': 4953, 'downwards': 4954, 'dragster': 4955, 'drain': 4956, 'drape': 4957, 'drawer': 4958, 'drawers': 4959, 'drawings': 4960, 'dribble': 4961, 'drifts': 4962, \"driver's\": 4963, 'drummers': 4964, 'drumming': 4965, 'drunken': 4966, 'dueling': 4967, 'dumping': 4968, 'dutch': 4969, 'eagle': 4970, 'easy': 4971, 'eclectic': 4972, 'ecstatically': 4973, 'effort': 4974, 'egret': 4975, 'eiffel': 4976, 'elaborately': 4977, 'elegant': 4978, 'eleven': 4979, 'embraces': 4980, 'emotion': 4981, 'empanadas': 4982, 'emptying': 4983, 'ended': 4984, 'engaging': 4985, 'england': 4986, 'enjoyed': 4987, 'enrolling': 4988, 'ensemble': 4989, 'ensure': 4990, 'entertainers': 4991, 'enthusiastic': 4992, 'envelope': 4993, 'erected': 4994, 'escalators': 4995, 'espresso': 4996, 'ethnicities': 4997, 'evenly': 4998, 'exam': 4999, 'examined': 5000, 'executes': 5001, 'exercises': 5002, 'exotic': 5003, 'experiments': 5004, 'explains': 5005, 'express': 5006, 'exterior': 5007, 'eyeliner': 5008, 'f': 5009, 'faced': 5010, 'fairway': 5011, 'falcon': 5012, 'famous': 5013, 'fare': 5014, 'farming': 5015, 'fatigued': 5016, 'fatigues': 5017, 'faux': 5018, 'feels': 5019, 'fencers': 5020, 'ferns': 5021, 'ferris': 5022, 'fest': 5023, 'fetches': 5024, 'fiddles': 5025, 'fierce': 5026, 'figurines': 5027, 'filed': 5028, 'filmed': 5029, 'fingernails': 5030, 'finishes': 5031, 'fired': 5032, \"fireman's\": 5033, 'fires': 5034, 'fitting': 5035, 'fixture': 5036, 'flamboyant': 5037, 'flame': 5038, 'flap': 5039, 'flaps': 5040, 'flash': 5041, 'flashy': 5042, 'flexible': 5043, 'flexing': 5044, 'flier': 5045, 'flinging': 5046, 'flipped': 5047, 'floored': 5048, 'flow': 5049, 'fluid': 5050, 'flutes': 5051, 'focal': 5052, 'folders': 5053, 'forearm': 5054, 'forehand': 5055, 'forever': 5056, 'formally': 5057, 'fours': 5058, 'francisco': 5059, 'frantically': 5060, 'freestyle': 5061, 'freight': 5062, 'frilly': 5063, 'frolic': 5064, 'frolics': 5065, 'fronds': 5066, 'frothy': 5067, 'frown': 5068, 'frowning': 5069, 'frowns': 5070, 'function': 5071, 'fundraiser': 5072, 'funky': 5073, 'furiously': 5074, 'gallon': 5075, 'gambling': 5076, 'garish': 5077, 'garments': 5078, 'garter': 5079, 'gates': 5080, 'gateway': 5081, 'gig': 5082, 'ginger': 5083, 'gingerbread': 5084, 'glances': 5085, 'glancing': 5086, 'glassy': 5087, 'glides': 5088, 'glittery': 5089, 'glow': 5090, 'glowing': 5091, 'glue': 5092, 'go-kart': 5093, 'god': 5094, 'golfers': 5095, 'goofy': 5096, 'graffited': 5097, 'grain': 5098, 'grains': 5099, 'grandfather': 5100, 'grandparents': 5101, 'grasps': 5102, 'grate': 5103, 'graze': 5104, 'greenhouse': 5105, 'grilled': 5106, 'grin': 5107, 'grind': 5108, 'grinder': 5109, 'grinning': 5110, 'grips': 5111, 'grooms': 5112, 'groucho': 5113, 'grounds': 5114, 'growling': 5115, 'guest': 5116, 'guidebook': 5117, 'guides': 5118, 'guiding': 5119, \"guy's\": 5120, 'gypsy': 5121, 'hairdo': 5122, 'hairdresser': 5123, 'hairy': 5124, 'halfway': 5125, 'hamming': 5126, 'hamper': 5127, 'handbags': 5128, 'handgun': 5129, 'handhold': 5130, 'handkerchiefs': 5131, 'handler': 5132, 'handshake': 5133, 'hard-hat': 5134, 'hardware': 5135, 'harlem': 5136, 'harvest': 5137, 'harvested': 5138, 'hatchet': 5139, 'haul': 5140, 'hazard': 5141, 'headdresses': 5142, 'header': 5143, 'headfirst': 5144, 'headlight': 5145, 'heat': 5146, 'hedges': 5147, 'height': 5148, 'heineken': 5149, 'helper': 5150, 'herbs': 5151, 'herd': 5152, 'heritage': 5153, 'heron': 5154, 'hid': 5155, 'hide': 5156, 'hides': 5157, 'high-five': 5158, 'high-heeled': 5159, 'hijab': 5160, 'hip': 5161, 'hippie': 5162, 'hipsters': 5163, 'historical': 5164, 'hitchhiking': 5165, 'hitching': 5166, 'hitter': 5167, 'hoe': 5168, 'hog': 5169, 'hokey': 5170, 'hollow': 5171, \"home's\": 5172, 'homes': 5173, 'homework': 5174, 'hoodies': 5175, 'hooked': 5176, 'hoping': 5177, 'hopper': 5178, 'hops': 5179, 'horizontal': 5180, 'horsemen': 5181, 'household': 5182, 'housing': 5183, 'houston': 5184, 'hovering': 5185, 'hugged': 5186, 'hulk': 5187, 'humans': 5188, 'humping': 5189, 'hungry': 5190, 'hunt': 5191, 'hurry': 5192, 'hurt': 5193, 'hydraulic': 5194, 'ice-skating': 5195, 'iced': 5196, 'idle': 5197, 'igloo': 5198, 'illuminating': 5199, 'imitation': 5200, 'important': 5201, 'improvement': 5202, 'incense': 5203, 'inclined': 5204, 'incredible': 5205, 'indigenous': 5206, 'inflating': 5207, 'informally': 5208, 'ink': 5209, 'innertube': 5210, 'insect': 5211, 'inspectors': 5212, 'instructions': 5213, 'instructors': 5214, 'international': 5215, 'internet': 5216, 'interviews': 5217, 'intricate': 5218, 'intrigued': 5219, 'involves': 5220, 'irish': 5221, 'irons': 5222, 'irritated': 5223, 'islamic': 5224, 'isle': 5225, 'issue': 5226, 'italy': 5227, 'jackhammers': 5228, 'jacks': 5229, 'jagged': 5230, 'james': 5231, 'jesus': 5232, 'jets': 5233, 'jim': 5234, \"joe's\": 5235, \"john's\": 5236, 'johns': 5237, 'joking': 5238, 'jostle': 5239, 'journal': 5240, 'jousting': 5241, 'judge': 5242, 'juggle': 5243, 'juggler': 5244, 'kelp': 5245, 'kickboxer': 5246, \"kid's\": 5247, 'kill': 5248, 'kimono': 5249, 'king': 5250, 'klein': 5251, 'knitted': 5252, 'knock': 5253, 'knotted': 5254, 'kwon': 5255, 'labor': 5256, 'labradoodle': 5257, 'lace': 5258, 'lack': 5259, 'lake-side': 5260, 'language': 5261, 'laps': 5262, 'lapse': 5263, 'las': 5264, 'later': 5265, 'lava': 5266, 'lavender': 5267, 'le': 5268, 'leader': 5269, 'leak': 5270, 'leaped': 5271, 'learn': 5272, 'learns': 5273, 'leashed': 5274, 'leave': 5275, 'lebron': 5276, 'left-handed': 5277, 'lei': 5278, 'leisurely': 5279, 'lemonade': 5280, 'let': 5281, 'lettering': 5282, 'letting': 5283, 'lettuce': 5284, 'licked': 5285, 'lighthouse': 5286, 'likes': 5287, 'limbs': 5288, 'linens': 5289, 'list': 5290, 'lizard': 5291, 'loader': 5292, 'loaf': 5293, 'lockers': 5294, 'locomotive': 5295, 'locomotives': 5296, 'lodge': 5297, 'long-distance': 5298, 'loop': 5299, 'los': 5300, 'loses': 5301, 'loudspeaker': 5302, 'louvre': 5303, 'lovers': 5304, 'lowering': 5305, 'magic': 5306, 'magician': 5307, 'mail': 5308, 'mainly': 5309, 'maintain': 5310, 'mallet': 5311, 'management': 5312, 'mane': 5313, 'manicured': 5314, 'manner': 5315, 'mantle': 5316, 'manure': 5317, 'maracas': 5318, 'marshal': 5319, 'mart': 5320, 'martini': 5321, 'marx': 5322, 'masonry': 5323, 'massage': 5324, 'masses': 5325, 'masterpiece': 5326, 'matador': 5327, 'matches': 5328, 'math': 5329, 'mattresses': 5330, 'mauve': 5331, 'meats': 5332, 'medals': 5333, 'median': 5334, 'melon': 5335, 'melons': 5336, 'memorabilia': 5337, 'messages': 5338, 'met': 5339, 'metalworking': 5340, 'meter': 5341, 'michael': 5342, 'michigan': 5343, 'middle-eastern': 5344, 'milling': 5345, 'mime': 5346, 'mind': 5347, 'mind.': 5348, 'mine': 5349, 'miners': 5350, 'mingle': 5351, 'mingling': 5352, 'mini': 5353, 'mini-golf': 5354, 'minnesota': 5355, 'mirrors': 5356, 'miscellaneous': 5357, 'missed': 5358, 'misty': 5359, 'mixture': 5360, 'mma': 5361, 'mob': 5362, 'modeling': 5363, 'mold': 5364, \"mom's\": 5365, 'moms': 5366, 'mongolian': 5367, 'mood': 5368, 'moon': 5369, 'moored': 5370, 'moss-covered': 5371, 'motions': 5372, 'motor-cross': 5373, 'motor-scooter': 5374, 'mounds': 5375, 'mount': 5376, 'mowed': 5377, 'mr.': 5378, 'mrs': 5379, 'mugs': 5380, 'mulch': 5381, 'multi-color': 5382, 'multitasking': 5383, 'murals': 5384, 'mushroom': 5385, 'mustang': 5386, 'nanny': 5387, 'natives': 5388, 'navigate': 5389, 'nears': 5390, 'neatly': 5391, 'necks': 5392, 'necktie': 5393, 'need': 5394, 'needle': 5395, 'neighbors': 5396, 'nerf': 5397, 'nibbles': 5398, 'ninja': 5399, 'nips': 5400, 'normal': 5401, 'notre': 5402, 'nuts': 5403, 'o': 5404, 'oakland': 5405, 'oars': 5406, 'oblivious': 5407, 'occasion': 5408, 'occurred': 5409, 'oceanside': 5410, 'oddly': 5411, 'off-screen': 5412, 'off-white': 5413, 'offer': 5414, 'offered': 5415, 'officials': 5416, 'oh': 5417, 'oncoming': 5418, \"one's\": 5419, 'one-man': 5420, 'openings': 5421, 'operate': 5422, 'opinions': 5423, 'orange-red': 5424, 'origin': 5425, 'orioles': 5426, 'ornamental': 5427, 'outboard': 5428, 'overcast': 5429, 'owl': 5430, 'owned': 5431, 'ox': 5432, 'oxygen': 5433, 'pabst': 5434, 'packs': 5435, 'paddled': 5436, 'page': 5437, 'pajama': 5438, 'palace': 5439, 'pancakes': 5440, 'pane': 5441, 'paneled': 5442, 'paperback': 5443, 'parachutist': 5444, 'paraphernalia': 5445, 'parasail': 5446, 'paris': 5447, 'parks': 5448, 'parrot': 5449, 'participant': 5450, 'particular': 5451, 'passer': 5452, 'pastel': 5453, 'pasture': 5454, 'patchy': 5455, \"patrick's\": 5456, 'patrolling': 5457, 'patties': 5458, 'pearls': 5459, 'pebbles': 5460, 'pedals': 5461, 'peddling': 5462, 'pee': 5463, 'peep': 5464, 'pelican': 5465, 'penguins': 5466, 'penn': 5467, 'penske': 5468, \"people's\": 5469, 'peoples': 5470, 'peppers': 5471, 'percussion': 5472, 'peruses': 5473, 'pf': 5474, 'pharmacy': 5475, 'physically': 5476, 'pies': 5477, 'pigs': 5478, 'pineapple': 5479, 'pineapples': 5480, 'pioneer': 5481, 'pitbull': 5482, 'placard': 5483, 'placid': 5484, 'plan': 5485, 'planes': 5486, 'plaque': 5487, 'plaster': 5488, 'platforms': 5489, 'platter': 5490, \"player's\": 5491, 'plow': 5492, 'plume': 5493, 'plywood': 5494, 'podiums': 5495, 'pokemon': 5496, 'polka-dotted': 5497, 'pollution': 5498, 'pomeranian': 5499, 'pompoms': 5500, 'popsicle': 5501, 'pork': 5502, 'possible': 5503, 'postcards': 5504, 'poultry': 5505, 'pounces': 5506, 'pouncing': 5507, 'pout': 5508, 'powdered': 5509, 'pray': 5510, 'prepping': 5511, 'preschool': 5512, 'presented': 5513, 'presumably': 5514, 'pretend': 5515, 'pretzels': 5516, 'previously': 5517, 'price': 5518, 'private': 5519, 'proclaim': 5520, 'programs': 5521, 'projection': 5522, 'prop': 5523, 'props': 5524, 'protectors': 5525, 'puff': 5526, 'puma': 5527, 'punches': 5528, 'putt': 5529, 'puzzled': 5530, 'quartet': 5531, 'question': 5532, 'questions': 5533, 'quietly': 5534, 'quilted': 5535, 'rackets': 5536, 'racks': 5537, 'rad': 5538, 'raging': 5539, 'rags': 5540, 'ran': 5541, 'random': 5542, 'rates': 5543, 'rather': 5544, 'raw': 5545, 'reacting': 5546, 'reaction': 5547, 'reason': 5548, 'received': 5549, 'recent': 5550, 'reclining': 5551, 'recorder': 5552, 'recycling': 5553, 'reenactment': 5554, 'reflecting': 5555, 'reflects': 5556, 'refreshments': 5557, 'refuge': 5558, 'regal': 5559, 'region': 5560, 'registered': 5561, 'reindeer': 5562, 'relaxed': 5563, 'release': 5564, 'releases': 5565, 'releasing': 5566, 'reluctant': 5567, 'remember': 5568, 'repairman': 5569, 'repelling': 5570, 'reporters': 5571, 'researchers': 5572, 'residence': 5573, 'residential': 5574, 'respective': 5575, 'respectively': 5576, 'restaraunt': 5577, 'restaurants': 5578, 'retrieve': 5579, 'ribs': 5580, 'rican': 5581, 'rid': 5582, 'rifles': 5583, 'rimmed': 5584, 'rinsing': 5585, 'rising': 5586, \"river's\": 5587, 'riverbed': 5588, 'rocker': 5589, 'rodgers': 5590, 'role': 5591, 'roller-blading': 5592, 'roots': 5593, 'rose': 5594, 'routines': 5595, 'rugged': 5596, 'rushing': 5597, 'russian': 5598, 'rusted': 5599, 'saddled': 5600, 'safely': 5601, 'sales': 5602, 'salesman': 5603, 'saluting': 5604, 'samples': 5605, 'samsung': 5606, 'san': 5607, 'sandwiches': 5608, \"santa's\": 5609, 'sash': 5610, 'sauce': 5611, 'saucer': 5612, 'sausage': 5613, 'saving': 5614, 'sax': 5615, 'scaffolds': 5616, 'scan': 5617, 'scary': 5618, 'schools': 5619, 'scope': 5620, 'scores': 5621, 'scoring': 5622, 'scrabble': 5623, 'scramble': 5624, 'scrapping': 5625, 'screens': 5626, 'scrimmage': 5627, 'scrubbing': 5628, 'scruffy': 5629, 'scythe': 5630, 'seal': 5631, 'seamstress': 5632, 'seas': 5633, 'secure': 5634, 'secures': 5635, 'securing': 5636, 'segway': 5637, 'selections': 5638, 'selects': 5639, 'semi-circle': 5640, 'semi-formal': 5641, 'seminar': 5642, 'sending': 5643, 'sends': 5644, 'separated': 5645, 'separates': 5646, 'sequence': 5647, 'serene': 5648, 'serious': 5649, 'sesame': 5650, 'setup': 5651, 'sew': 5652, 'sewer': 5653, 'sews': 5654, 'shabby': 5655, 'shacking': 5656, 'shadowy': 5657, 'shampoo': 5658, 'shawls': 5659, 'shell': 5660, 'shepard': 5661, 'shift': 5662, 'shine': 5663, 'shined': 5664, 'shipping': 5665, 'shish': 5666, 'shoelaces': 5667, 'short-sleeve': 5668, 'short-sleeved': 5669, 'shots': 5670, 'should': 5671, 'shouts': 5672, 'showcasing': 5673, 'showers': 5674, 'showgirl': 5675, 'shrine': 5676, 'shrubbery': 5677, 'shuffles': 5678, 'sibling': 5679, 'sideline': 5680, 'sidewalks': 5681, 'silverware': 5682, 'simple': 5683, 'simply': 5684, 'simultaneously': 5685, 'sisters': 5686, 'sites': 5687, 'situation': 5688, 'size': 5689, 'sketch': 5690, \"ski's\": 5691, 'skiiers': 5692, 'skim': 5693, 'skinned': 5694, 'skit': 5695, 'skulls': 5696, 'sky-view': 5697, 'skyscraper': 5698, 'slalom': 5699, 'slamming': 5700, 'sledgehammer': 5701, 'sleepy': 5702, 'sliced': 5703, 'slim': 5704, 'sling': 5705, 'slingshot': 5706, 'slips': 5707, 'slow': 5708, 'slumped': 5709, 'slung': 5710, 'smear': 5711, 'smelling': 5712, 'smock': 5713, 'snail': 5714, 'snarling': 5715, 'snoopy': 5716, 'snorkeling': 5717, 'snowdrift': 5718, 'snowflakes': 5719, 'snowmobile': 5720, 'snowmobiling': 5721, 'snowshoe': 5722, 'snowstorm': 5723, 'snowsuits': 5724, 'snuggling': 5725, 'soaked': 5726, 'soaking': 5727, 'soapy': 5728, 'sodas': 5729, 'softly': 5730, 'solid': 5731, 'source': 5732, 'southeast': 5733, 'spa': 5734, 'spare': 5735, 'spattered': 5736, 'specialized': 5737, 'speckled': 5738, 'spend': 5739, 'spending': 5740, 'spiky': 5741, 'spinner': 5742, 'spirit': 5743, 'splits': 5744, 'spoons': 5745, 'spotlights': 5746, 'spout': 5747, 'squash': 5748, 'squirrel': 5749, 'squirted': 5750, 'squirts': 5751, 'stainless': 5752, 'stake': 5753, 'starfish': 5754, 'started': 5755, 'steal': 5756, 'steals': 5757, 'steeplechase': 5758, 'steering': 5759, 'stem': 5760, 'stitch': 5761, 'stock': 5762, 'stoops': 5763, 'stopping': 5764, 'stories': 5765, 'stout': 5766, 'streamers': 5767, 'streaming': 5768, 'street-side': 5769, 'stricken': 5770, 'strips': 5771, 'stroke': 5772, 'struggle': 5773, 'strums': 5774, 'strung': 5775, 'stumbling': 5776, 'stunning': 5777, 'styled': 5778, 'styling': 5779, 'stylist': 5780, 'subject': 5781, 'submerges': 5782, 'sucker': 5783, 'suited': 5784, 'sunflower': 5785, 'super': 5786, 'superior': 5787, 'supervision': 5788, 'supported': 5789, 'supports': 5790, 'surfboarder': 5791, 'surprised': 5792, 'sushi': 5793, 'suspect': 5794, 'suspension': 5795, 'sveral': 5796, 'swaddled': 5797, 'swallowing': 5798, 'swamp': 5799, 'swans': 5800, 'sweat': 5801, 'sweatpants': 5802, 'sweets': 5803, 'swerves': 5804, 'swoops': 5805, 'swung': 5806, 'symphony': 5807, 'syrup': 5808, 'tackler': 5809, 'tae': 5810, 'tambourines': 5811, 'taped': 5812, 'taping': 5813, 'targets': 5814, 'teachers': 5815, 'teaches': 5816, 'tear': 5817, 'tears': 5818, 'tech': 5819, 'technical': 5820, 'technician': 5821, 'tell': 5822, 'tent-like': 5823, 'terminals': 5824, 'tests': 5825, 'textile': 5826, 'thai': 5827, 'thatched': 5828, 'thing': 5829, 'thomas': 5830, 'thong': 5831, 'thorugh': 5832, 'thousands': 5833, 'throat': 5834, 'throughout': 5835, 'thursday': 5836, 'tilted': 5837, 'tilts': 5838, 'tim': 5839, 'timber': 5840, 'tin': 5841, 'tinsel': 5842, 'tinted': 5843, 'tipped': 5844, 'tipping': 5845, \"toddler's\": 5846, 'toenails': 5847, 'toes': 5848, 'toil': 5849, 'toll': 5850, 'tongues': 5851, 'top-hat': 5852, 'topped': 5853, 'tortillas': 5854, 'tote': 5855, 'toting': 5856, 'trade': 5857, 'trading': 5858, 'trails': 5859, 'transformer': 5860, 'travelling': 5861, 'traverse': 5862, 'treads': 5863, 'treatment': 5864, 'treed': 5865, 'treeless': 5866, 'trekking': 5867, 'trendy': 5868, 'tress': 5869, 'tri-colored': 5870, 'triangle': 5871, 'triangle-shaped': 5872, 'trim': 5873, 'trinkets': 5874, 'troop': 5875, 'trooper': 5876, 'true': 5877, 'tucked': 5878, 'tugs': 5879, 'turbulent': 5880, 'turf': 5881, 'turkeys': 5882, 'tux': 5883, 'twin': 5884, 'twins': 5885, 'twos': 5886, 'tye-dyed': 5887, 'u.s.': 5888, 'ufc': 5889, 'underside': 5890, 'unfriendly': 5891, 'unkempt': 5892, 'unload': 5893, 'unwraps': 5894, 'upper-class': 5895, 'upraised': 5896, 'upside-down': 5897, 'upstairs': 5898, 'upturned': 5899, 'urinal': 5900, 'varied': 5901, 'vase': 5902, 'vault': 5903, 'vaulting': 5904, 'version': 5905, 'vessel': 5906, 'veteran': 5907, 'victim': 5908, 'viewed': 5909, 'vikings': 5910, 'violence': 5911, 'violet': 5912, 'vision': 5913, 'visit': 5914, 'visitors': 5915, 'voice': 5916, 'volcano': 5917, 'volunteer': 5918, 'vw': 5919, 'waffle': 5920, 'wagons': 5921, 'wakeboarding': 5922, 'wakeboards': 5923, 'walkman': 5924, 'wand': 5925, 'wands': 5926, 'wanting': 5927, 'wants': 5928, 'warmers': 5929, 'warrior': 5930, 'washers': 5931, 'water-filled': 5932, 'watered': 5933, 'waterfalls': 5934, 'waterproof': 5935, 'watery': 5936, 'wavy': 5937, 'weights': 5938, 'welder': 5939, 'well-lit': 5940, 'wells': 5941, 'wetland': 5942, 'whatever': 5943, 'whisking': 5944, 'white-water': 5945, 'wielding': 5946, 'wife-beater': 5947, 'wildfire': 5948, 'windowsill': 5949, 'winds': 5950, 'windsurfer': 5951, 'wineglass': 5952, 'winks': 5953, 'wits': 5954, 'wok': 5955, 'wondering': 5956, 'worked': 5957, 'worried': 5958, 'would': 5959, 'wounds': 5960, 'wrangle': 5961, 'wrench': 5962, 'wrestles': 5963, 'wrist': 5964, 'wristband': 5965, 'wrists': 5966, 'yells': 5967, 'ymca': 5968, 'zigzag': 5969, 'zooms': 5970, 'zune': 5971})\n"
          ]
        }
      ],
      "source": [
        "# 단어집합을 만들었다면, TEXT.vocab.stoi를 통해 현재 단어 집합의 단어와 매핑된 고유한 정수를 출력 가능\n",
        "\n",
        "print(TRG.vocab.stoi[\"abcabc\"]) # 없는 단어: 0\n",
        "print(TRG.vocab.stoi[TRG.pad_token]) # 패딩(padding): 1\n",
        "print(TRG.vocab.stoi[\"<sos>\"]) # <sos>: 2\n",
        "print(TRG.vocab.stoi[\"<eos>\"]) # <eos>: 3\n",
        "print(TRG.vocab.stoi[\"hello\"])\n",
        "print(TRG.vocab.stoi[\"world\"])\n",
        "\n",
        "print(SRC.vocab.stoi)"
      ]
    },
    {
      "cell_type": "markdown",
      "metadata": {
        "id": "2-HT1C6kfQG6"
      },
      "source": [
        "#### **Multi Head Attention 아키텍처**\n",
        "\n",
        "* 어텐션(attention)은 <b>세 가지 요소</b>를 입력으로 받습니다.\n",
        "    * <b>쿼리(queries)</b>\n",
        "    * <b>키(keys)</b>\n",
        "    * <b>값(values)</b>\n",
        "    * 현재 구현에서는 Query, Key, Value의 차원이 모두 같습니다.\n",
        "* 하이퍼 파라미터(hyperparameter)\n",
        "    * **hidden_dim**: 하나의 단어에 대한 임베딩 차원\n",
        "    * **n_heads**: 헤드(head)의 개수 = scaled dot-product attention의 개수\n",
        "    * **dropout_ratio**: 드롭아웃(dropout) 비율"
      ]
    },
    {
      "cell_type": "code",
      "execution_count": 47,
      "metadata": {
        "id": "ohBIfgOJiL0a"
      },
      "outputs": [],
      "source": [
        "import torch.nn as nn\n",
        "\n",
        "class MultiHeadAttentionLayer(nn.Module):\n",
        "    def __init__(self, hidden_dim, n_heads, dropout_ratio, device):\n",
        "        super().__init__()\n",
        "\n",
        "        assert hidden_dim % n_heads == 0\n",
        "\n",
        "        self.hidden_dim = hidden_dim # 임베딩 차원\n",
        "        self.n_heads = n_heads # 헤드(head)의 개수: 서로 다른 어텐션(attention) 컨셉의 수\n",
        "        self.head_dim = hidden_dim // n_heads # 각 헤드(head)에서의 임베딩 차원\n",
        "\n",
        "        self.fc_q = nn.Linear(hidden_dim, hidden_dim) # Query 값에 적용될 FC 레이어\n",
        "        self.fc_k = nn.Linear(hidden_dim, hidden_dim) # Key 값에 적용될 FC 레이어\n",
        "        self.fc_v = nn.Linear(hidden_dim, hidden_dim) # Value 값에 적용될 FC 레이어\n",
        "\n",
        "        self.fc_o = nn.Linear(hidden_dim, hidden_dim)\n",
        "\n",
        "        self.dropout = nn.Dropout(dropout_ratio)\n",
        "\n",
        "        self.scale = torch.sqrt(torch.FloatTensor([self.head_dim])).to(device)\n",
        "\n",
        "    def forward(self, query, key, value, mask = None):\n",
        "\n",
        "        batch_size = query.shape[0]\n",
        "\n",
        "        # query: [batch_size, query_len, hidden_dim]\n",
        "        # key: [batch_size, key_len, hidden_dim]\n",
        "        # value: [batch_size, value_len, hidden_dim]\n",
        " \n",
        "        Q = self.fc_q(query)\n",
        "        K = self.fc_k(key)\n",
        "        V = self.fc_v(value)\n",
        "\n",
        "        # Q: [batch_size, query_len, hidden_dim]\n",
        "        # K: [batch_size, key_len, hidden_dim]\n",
        "        # V: [batch_size, value_len, hidden_dim]\n",
        "\n",
        "        # hidden_dim → n_heads X head_dim 형태로 변형\n",
        "        # n_heads(h)개의 서로 다른 어텐션(attention) 컨셉을 학습하도록 유도\n",
        "        Q = Q.view(batch_size, -1, self.n_heads, self.head_dim).permute(0, 2, 1, 3)\n",
        "        K = K.view(batch_size, -1, self.n_heads, self.head_dim).permute(0, 2, 1, 3)\n",
        "        V = V.view(batch_size, -1, self.n_heads, self.head_dim).permute(0, 2, 1, 3)\n",
        "\n",
        "        # Q: [batch_size, n_heads, query_len, head_dim]\n",
        "        # K: [batch_size, n_heads, key_len, head_dim]\n",
        "        # V: [batch_size, n_heads, value_len, head_dim]\n",
        "\n",
        "        # Attention Energy 계산\n",
        "        energy = torch.matmul(Q, K.permute(0, 1, 3, 2)) / self.scale\n",
        "\n",
        "        # energy: [batch_size, n_heads, query_len, key_len]\n",
        "\n",
        "        # 마스크(mask)를 사용하는 경우\n",
        "        if mask is not None:\n",
        "            # 마스크(mask) 값이 0인 부분을 -1e10으로 채우기\n",
        "            energy = energy.masked_fill(mask==0, -1e10)\n",
        "\n",
        "        # 어텐션(attention) 스코어 계산: 각 단어에 대한 확률 값\n",
        "        attention = torch.softmax(energy, dim=-1)\n",
        "\n",
        "        # attention: [batch_size, n_heads, query_len, key_len]\n",
        "\n",
        "        # 여기에서 Scaled Dot-Product Attention을 계산\n",
        "        x = torch.matmul(self.dropout(attention), V)\n",
        "\n",
        "        # x: [batch_size, n_heads, query_len, head_dim]\n",
        "\n",
        "        x = x.permute(0, 2, 1, 3).contiguous()\n",
        "\n",
        "        # x: [batch_size, query_len, n_heads, head_dim]\n",
        "\n",
        "        x = x.view(batch_size, -1, self.hidden_dim)\n",
        "\n",
        "        # x: [batch_size, query_len, hidden_dim]\n",
        "\n",
        "        x = self.fc_o(x)\n",
        "\n",
        "        # x: [batch_size, query_len, hidden_dim]\n",
        "\n",
        "        return x, attention"
      ]
    },
    {
      "cell_type": "markdown",
      "metadata": {
        "id": "D4-71fGFUQ0P"
      },
      "source": [
        "#### **Position-wise Feedforward 아키텍처**\n",
        "\n",
        "* 입력과 출력의 차원이 동일\n",
        "* 하이퍼 파라미터(hyperparameter)\n",
        "    * **hidden_dim**: 하나의 단어에 대한 임베딩 차원\n",
        "    * **pf_dim**: Feedforward 레이어에서의 내부 임베딩 차원\n",
        "    * **dropout_ratio**: 드롭아웃(dropout) 비율"
      ]
    },
    {
      "cell_type": "code",
      "execution_count": 48,
      "metadata": {
        "id": "yBXPWolrUeYj"
      },
      "outputs": [],
      "source": [
        "class PositionwiseFeedforwardLayer(nn.Module):\n",
        "    def __init__(self, hidden_dim, pf_dim, dropout_ratio):\n",
        "        super().__init__()\n",
        "\n",
        "        self.fc_1 = nn.Linear(hidden_dim, pf_dim)\n",
        "        self.fc_2 = nn.Linear(pf_dim, hidden_dim)\n",
        "\n",
        "        self.dropout = nn.Dropout(dropout_ratio)\n",
        "\n",
        "    def forward(self, x):\n",
        "\n",
        "        # x: [batch_size, seq_len, hidden_dim]\n",
        "\n",
        "        x = self.dropout(torch.relu(self.fc_1(x)))\n",
        "\n",
        "        # x: [batch_size, seq_len, pf_dim]\n",
        "\n",
        "        x = self.fc_2(x)\n",
        "\n",
        "        # x: [batch_size, seq_len, hidden_dim]\n",
        "\n",
        "        return x"
      ]
    },
    {
      "cell_type": "markdown",
      "metadata": {
        "id": "evmxGJCTTF1x"
      },
      "source": [
        "#### **인코더(Encoder) 레이어 아키텍처**\n",
        "\n",
        "* 하나의 인코더 레이어에 대해 정의\n",
        "    * 입력과 출력의 차원이 같음\n",
        "    * 이러한 특징을 이용해 트랜스포머의 인코더는 인코더 레이어를 여러 번 중첩해 사용\n",
        "* 하이퍼 파라미터(hyperparameter)\n",
        "    * **hidden_dim**: 하나의 단어에 대한 임베딩 차원\n",
        "    * **n_heads**: 헤드(head)의 개수 = scaled dot-product attention의 개수\n",
        "    * **pf_dim**: Feedforward 레이어에서의 내부 임베딩 차원\n",
        "    * **dropout_ratio**: 드롭아웃(dropout) 비율\n",
        "* &lt;pad&gt; 토큰에 대하여 마스크(mask) 값을 0으로 설정"
      ]
    },
    {
      "cell_type": "code",
      "execution_count": 49,
      "metadata": {
        "id": "uTPD0jEbe1bx"
      },
      "outputs": [],
      "source": [
        "class EncoderLayer(nn.Module):\n",
        "    def __init__(self, hidden_dim, n_heads, pf_dim, dropout_ratio, device):\n",
        "        super().__init__()\n",
        "\n",
        "        self.self_attn_layer_norm = nn.LayerNorm(hidden_dim)\n",
        "        self.ff_layer_norm = nn.LayerNorm(hidden_dim)\n",
        "        self.self_attention = MultiHeadAttentionLayer(hidden_dim, n_heads, dropout_ratio, device)\n",
        "        self.positionwise_feedforward = PositionwiseFeedforwardLayer(hidden_dim, pf_dim, dropout_ratio)\n",
        "        self.dropout = nn.Dropout(dropout_ratio)\n",
        "\n",
        "    # 하나의 임베딩이 복제되어 Query, Key, Value로 입력되는 방식\n",
        "    def forward(self, src, src_mask):\n",
        "\n",
        "        # src: [batch_size, src_len, hidden_dim]\n",
        "        # src_mask: [batch_size, src_len]\n",
        "\n",
        "        # self attention\n",
        "        # 필요한 경우 마스크(mask) 행렬을 이용하여 어텐션(attention)할 단어를 조절 가능\n",
        "        _src, _ = self.self_attention(src, src, src, src_mask)\n",
        "\n",
        "        # dropout, residual connection and layer norm\n",
        "        src = self.self_attn_layer_norm(src + self.dropout(_src))\n",
        "\n",
        "        # src: [batch_size, src_len, hidden_dim]\n",
        "\n",
        "        # position-wise feedforward\n",
        "        _src = self.positionwise_feedforward(src)\n",
        "\n",
        "        # dropout, residual and layer norm\n",
        "        src = self.ff_layer_norm(src + self.dropout(_src))\n",
        "\n",
        "        # src: [batch_size, src_len, hidden_dim]\n",
        "\n",
        "        return src"
      ]
    },
    {
      "cell_type": "markdown",
      "metadata": {
        "id": "6RmMSlFXVkxN"
      },
      "source": [
        "#### **인코더(Encoder) 아키텍처**\n",
        "\n",
        "* 전체 인코더 아키텍처\n",
        "* 하이퍼 파라미터(hyperparameter)\n",
        "    * **input_dim**: 하나의 단어에 대한 원 핫 인코딩 차원\n",
        "    * **hidden_dim**: 하나의 단어에 대한 임베딩 차원\n",
        "    * **n_layers**: 내부적으로 사용할 인코더 레이어의 개수\n",
        "    * **n_heads**: 헤드(head)의 개수 = scaled dot-product attention의 개수\n",
        "    * **pf_dim**: Feedforward 레이어에서의 내부 임베딩 차원\n",
        "    * **dropout_ratio**: 드롭아웃(dropout) 비율\n",
        "    * **max_length**: 문장 내 최대 단어 개수\n",
        "* 원본 논문과는 다르게 <b>위치 임베딩(positional embedding)을 학습</b>하는 형태로 구현\n",
        "    * BERT와 같은 모던 트랜스포머 아키텍처에서 사용되는 방식\n",
        "* &lt;pad&gt; 토큰에 대하여 마스크(mask) 값을 0으로 설정"
      ]
    },
    {
      "cell_type": "code",
      "execution_count": 50,
      "metadata": {
        "id": "LAd_op0bVhn-"
      },
      "outputs": [],
      "source": [
        "class Encoder(nn.Module):\n",
        "    def __init__(self, input_dim, hidden_dim, n_layers, n_heads, pf_dim, dropout_ratio, device, max_length=100):\n",
        "        super().__init__()\n",
        "\n",
        "        self.device = device\n",
        "\n",
        "        self.tok_embedding = nn.Embedding(input_dim, hidden_dim)\n",
        "        self.pos_embedding = nn.Embedding(max_length, hidden_dim)\n",
        "\n",
        "        self.layers = nn.ModuleList([EncoderLayer(hidden_dim, n_heads, pf_dim, dropout_ratio, device) for _ in range(n_layers)])\n",
        "\n",
        "        self.dropout = nn.Dropout(dropout_ratio)\n",
        "\n",
        "        self.scale = torch.sqrt(torch.FloatTensor([hidden_dim])).to(device)\n",
        "\n",
        "    def forward(self, src, src_mask):\n",
        "\n",
        "        # src: [batch_size, src_len]\n",
        "        # src_mask: [batch_size, src_len]\n",
        "\n",
        "        batch_size = src.shape[0]\n",
        "        src_len = src.shape[1]\n",
        "\n",
        "        pos = torch.arange(0, src_len).unsqueeze(0).repeat(batch_size, 1).to(self.device)\n",
        "\n",
        "        # pos: [batch_size, src_len]\n",
        "\n",
        "        # 소스 문장의 임베딩과 위치 임베딩을 더한 것을 사용\n",
        "        src = self.dropout((self.tok_embedding(src) * self.scale) + self.pos_embedding(pos))\n",
        "\n",
        "        # src: [batch_size, src_len, hidden_dim]\n",
        "\n",
        "        # 모든 인코더 레이어를 차례대로 거치면서 순전파(forward) 수행\n",
        "        for layer in self.layers:\n",
        "            src = layer(src, src_mask)\n",
        "\n",
        "        # src: [batch_size, src_len, hidden_dim]\n",
        "\n",
        "        return src # 마지막 레이어의 출력을 반환"
      ]
    },
    {
      "cell_type": "markdown",
      "metadata": {
        "id": "NNP2S7g_Xeal"
      },
      "source": [
        "#### **디코더(Decoder) 레이어 아키텍처**\n",
        "\n",
        "* 하나의 디코더 레이어에 대해 정의합니다.\n",
        "    * 입력과 출력의 차원이 같습니다.\n",
        "    * 이러한 특징을 이용해 트랜스포머의 디코더는 디코더 레이어를 여러 번 중첩해 사용\n",
        "    * 디코더 레이어에서는 두 개의 Multi-Head Attention 레이어 사용\n",
        "* 하이퍼 파라미터(hyperparameter)\n",
        "    * **hidden_dim**: 하나의 단어에 대한 임베딩 차원\n",
        "    * **n_heads**: 헤드(head)의 개수 = scaled dot-product attention의 개수\n",
        "    * **pf_dim**: Feedforward 레이어에서의 내부 임베딩 차원\n",
        "    * **dropout_ratio**: 드롭아웃(dropout) 비율\n",
        "* 소스 문장의 &lt;pad&gt; 토큰에 대하여 마스크(mask) 값을 0으로 설정\n",
        "* 타겟 문장에서 각 단어는 다음 단어가 무엇인지 알 수 없도록(이전 단어만 보도록) 만들기 위해 마스크를 사용"
      ]
    },
    {
      "cell_type": "code",
      "execution_count": 51,
      "metadata": {
        "id": "0jn4VCWdXhK5"
      },
      "outputs": [],
      "source": [
        "class DecoderLayer(nn.Module):\n",
        "    def __init__(self, hidden_dim, n_heads, pf_dim, dropout_ratio, device):\n",
        "        super().__init__()\n",
        "\n",
        "        self.self_attn_layer_norm = nn.LayerNorm(hidden_dim)\n",
        "        self.enc_attn_layer_norm = nn.LayerNorm(hidden_dim)\n",
        "        self.ff_layer_norm = nn.LayerNorm(hidden_dim)\n",
        "        self.self_attention = MultiHeadAttentionLayer(hidden_dim, n_heads, dropout_ratio, device)\n",
        "        self.encoder_attention = MultiHeadAttentionLayer(hidden_dim, n_heads, dropout_ratio, device)\n",
        "        self.positionwise_feedforward = PositionwiseFeedforwardLayer(hidden_dim, pf_dim, dropout_ratio)\n",
        "        self.dropout = nn.Dropout(dropout_ratio)\n",
        "\n",
        "    # 인코더의 출력 값(enc_src)을 어텐션(attention)하는 구조\n",
        "    def forward(self, trg, enc_src, trg_mask, src_mask):\n",
        "\n",
        "        # trg: [batch_size, trg_len, hidden_dim]\n",
        "        # enc_src: [batch_size, src_len, hidden_dim]\n",
        "        # trg_mask: [batch_size, trg_len]\n",
        "        # src_mask: [batch_size, src_len]\n",
        "\n",
        "        # self attention\n",
        "        # 자기 자신에 대하여 어텐션(attention)\n",
        "        _trg, _ = self.self_attention(trg, trg, trg, trg_mask)\n",
        "\n",
        "        # dropout, residual connection and layer norm\n",
        "        trg = self.self_attn_layer_norm(trg + self.dropout(_trg))\n",
        "\n",
        "        # trg: [batch_size, trg_len, hidden_dim]\n",
        "\n",
        "        # encoder attention\n",
        "        # 디코더의 쿼리(Query)를 이용해 인코더를 어텐션(attention)\n",
        "        _trg, attention = self.encoder_attention(trg, enc_src, enc_src, src_mask)\n",
        "\n",
        "        # dropout, residual connection and layer norm\n",
        "        trg = self.enc_attn_layer_norm(trg + self.dropout(_trg))\n",
        "\n",
        "        # trg: [batch_size, trg_len, hidden_dim]\n",
        "\n",
        "        # positionwise feedforward\n",
        "        _trg = self.positionwise_feedforward(trg)\n",
        "\n",
        "        # dropout, residual and layer norm\n",
        "        trg = self.ff_layer_norm(trg + self.dropout(_trg))\n",
        "\n",
        "        # trg: [batch_size, trg_len, hidden_dim]\n",
        "        # attention: [batch_size, n_heads, trg_len, src_len]\n",
        "\n",
        "        return trg, attention"
      ]
    },
    {
      "cell_type": "markdown",
      "metadata": {
        "id": "hK8AWlrcWWRc"
      },
      "source": [
        "#### **디코더(Decoder) 아키텍처**\n",
        "\n",
        "* 전체 디코더 아키텍처\n",
        "* 하이퍼 파라미터(hyperparameter)\n",
        "    * **output_dim**: 하나의 단어에 대한 원 핫 인코딩 차원\n",
        "    * **hidden_dim**: 하나의 단어에 대한 임베딩 차원\n",
        "    * **n_layers**: 내부적으로 사용할 인코더 레이어의 개수\n",
        "    * **n_heads**: 헤드(head)의 개수 = scaled dot-product attention의 개수\n",
        "    * **pf_dim**: Feedforward 레이어에서의 내부 임베딩 차원\n",
        "    * **dropout_ratio**: 드롭아웃(dropout) 비율\n",
        "    * **max_length**: 문장 내 최대 단어 개수\n",
        "* 원본 논문과는 다르게 <b>위치 임베딩(positional embedding)을 학습</b>하는 형태로 구현\n",
        "    * BERT와 같은 모던 트랜스포머 아키텍처에서 사용되는 방식\n",
        "* Seq2Seq과는 마찬가지로 실제로 추론(inference) 시기에서는 디코더를 반복적으로 넣을 필요가 있음\n",
        "    * 학습(training) 시기에서는 한 번에 출력 문장을 구해 학습\n",
        "* 소스 문장의 &lt;pad&gt; 토큰에 대하여 마스크(mask) 값을 0으로 설정\n",
        "* 타겟 문장에서 각 단어는 다음 단어가 무엇인지 알 수 없도록(이전 단어만 보도록) 만들기 위해 마스크를 사용"
      ]
    },
    {
      "cell_type": "code",
      "execution_count": 52,
      "metadata": {
        "id": "X64at7IuWQcm"
      },
      "outputs": [],
      "source": [
        "class Decoder(nn.Module):\n",
        "    def __init__(self, output_dim, hidden_dim, n_layers, n_heads, pf_dim, dropout_ratio, device, max_length=100):\n",
        "        super().__init__()\n",
        "\n",
        "        self.device = device\n",
        "\n",
        "        self.tok_embedding = nn.Embedding(output_dim, hidden_dim)\n",
        "        self.pos_embedding = nn.Embedding(max_length, hidden_dim)\n",
        "\n",
        "        self.layers = nn.ModuleList([DecoderLayer(hidden_dim, n_heads, pf_dim, dropout_ratio, device) for _ in range(n_layers)])\n",
        "\n",
        "        self.fc_out = nn.Linear(hidden_dim, output_dim)\n",
        "\n",
        "        self.dropout = nn.Dropout(dropout_ratio)\n",
        "\n",
        "        self.scale = torch.sqrt(torch.FloatTensor([hidden_dim])).to(device)\n",
        "\n",
        "    def forward(self, trg, enc_src, trg_mask, src_mask):\n",
        "\n",
        "        # trg: [batch_size, trg_len]\n",
        "        # enc_src: [batch_size, src_len, hidden_dim]\n",
        "        # trg_mask: [batch_size, trg_len]\n",
        "        # src_mask: [batch_size, src_len]\n",
        "\n",
        "        batch_size = trg.shape[0]\n",
        "        trg_len = trg.shape[1]\n",
        "\n",
        "        pos = torch.arange(0, trg_len).unsqueeze(0).repeat(batch_size, 1).to(self.device)\n",
        "\n",
        "        # pos: [batch_size, trg_len]\n",
        "\n",
        "        trg = self.dropout((self.tok_embedding(trg) * self.scale) + self.pos_embedding(pos))\n",
        "\n",
        "        # trg: [batch_size, trg_len, hidden_dim]\n",
        "\n",
        "        for layer in self.layers:\n",
        "            # 소스 마스크와 타겟 마스크 모두 사용\n",
        "            trg, attention = layer(trg, enc_src, trg_mask, src_mask)\n",
        "\n",
        "        # trg: [batch_size, trg_len, hidden_dim]\n",
        "        # attention: [batch_size, n_heads, trg_len, src_len]\n",
        "\n",
        "        output = self.fc_out(trg)\n",
        "\n",
        "        # output: [batch_size, trg_len, output_dim]\n",
        "\n",
        "        return output, attention"
      ]
    },
    {
      "cell_type": "markdown",
      "metadata": {
        "id": "b50rQACqW3xX"
      },
      "source": [
        "#### **트랜스포머(Transformer) 아키텍처**\n",
        "\n",
        "* 최종적인 전체 트랜스포머(Transformer) 모델을 정의\n",
        "* 입력이 들어왔을 때 앞서 정의한 인코더와 디코더를 거쳐 출력 문장을 생성"
      ]
    },
    {
      "cell_type": "code",
      "execution_count": 53,
      "metadata": {
        "id": "hBGN8VyvW0Et"
      },
      "outputs": [],
      "source": [
        "class Transformer(nn.Module):\n",
        "    def __init__(self, encoder, decoder, src_pad_idx, trg_pad_idx, device):\n",
        "        super().__init__()\n",
        "\n",
        "        self.encoder = encoder\n",
        "        self.decoder = decoder\n",
        "        self.src_pad_idx = src_pad_idx\n",
        "        self.trg_pad_idx = trg_pad_idx\n",
        "        self.device = device\n",
        "\n",
        "    # 소스 문장의 <pad> 토큰에 대하여 마스크(mask) 값을 0으로 설정\n",
        "    def make_src_mask(self, src):\n",
        "\n",
        "        # src: [batch_size, src_len]\n",
        "\n",
        "        src_mask = (src != self.src_pad_idx).unsqueeze(1).unsqueeze(2)\n",
        "\n",
        "        # src_mask: [batch_size, 1, 1, src_len]\n",
        "\n",
        "        return src_mask\n",
        "\n",
        "    # 타겟 문장에서 각 단어는 다음 단어가 무엇인지 알 수 없도록(이전 단어만 보도록) 만들기 위해 마스크를 사용\n",
        "    def make_trg_mask(self, trg):\n",
        "\n",
        "        # trg: [batch_size, trg_len]\n",
        "\n",
        "        \"\"\" (마스크 예시)\n",
        "        1 0 0 0 0\n",
        "        1 1 0 0 0\n",
        "        1 1 1 0 0\n",
        "        1 1 1 0 0\n",
        "        1 1 1 0 0\n",
        "        \"\"\"\n",
        "        trg_pad_mask = (trg != self.trg_pad_idx).unsqueeze(1).unsqueeze(2)\n",
        "\n",
        "        # trg_pad_mask: [batch_size, 1, 1, trg_len]\n",
        "\n",
        "        trg_len = trg.shape[1]\n",
        "\n",
        "        \"\"\" (마스크 예시)\n",
        "        1 0 0 0 0\n",
        "        1 1 0 0 0\n",
        "        1 1 1 0 0\n",
        "        1 1 1 1 0\n",
        "        1 1 1 1 1\n",
        "        \"\"\"\n",
        "        trg_sub_mask = torch.tril(torch.ones((trg_len, trg_len), device = self.device)).bool()\n",
        "\n",
        "        # trg_sub_mask: [trg_len, trg_len]\n",
        "\n",
        "        trg_mask = trg_pad_mask & trg_sub_mask\n",
        "\n",
        "        # trg_mask: [batch_size, 1, trg_len, trg_len]\n",
        "\n",
        "        return trg_mask\n",
        "\n",
        "    def forward(self, src, trg):\n",
        "\n",
        "        # src: [batch_size, src_len]\n",
        "        # trg: [batch_size, trg_len]\n",
        "\n",
        "        src_mask = self.make_src_mask(src)\n",
        "        trg_mask = self.make_trg_mask(trg)\n",
        "\n",
        "        # src_mask: [batch_size, 1, 1, src_len]\n",
        "        # trg_mask: [batch_size, 1, trg_len, trg_len]\n",
        "\n",
        "        enc_src = self.encoder(src, src_mask)\n",
        "\n",
        "        # enc_src: [batch_size, src_len, hidden_dim]\n",
        "\n",
        "        output, attention = self.decoder(trg, enc_src, trg_mask, src_mask)\n",
        "\n",
        "        # output: [batch_size, trg_len, output_dim]\n",
        "        # attention: [batch_size, n_heads, trg_len, src_len]\n",
        "\n",
        "        return output, attention"
      ]
    },
    {
      "cell_type": "markdown",
      "metadata": {
        "id": "lnBKjEFFqHrV"
      },
      "source": [
        "#### **학습(Training)**\n",
        "\n",
        "* 하이퍼 파라미터 설정 및 모델 초기화"
      ]
    },
    {
      "cell_type": "code",
      "execution_count": 54,
      "metadata": {
        "id": "vJG6xhUaXZ32"
      },
      "outputs": [],
      "source": [
        "INPUT_DIM = len(SRC.vocab) # 7964\n",
        "OUTPUT_DIM = len(TRG.vocab) # 9762\n",
        "HIDDEN_DIM = 256\n",
        "ENC_LAYERS = 3\n",
        "DEC_LAYERS = 3\n",
        "ENC_HEADS = 8\n",
        "DEC_HEADS = 8\n",
        "ENC_PF_DIM = 512\n",
        "DEC_PF_DIM = 512\n",
        "ENC_DROPOUT = 0.1\n",
        "DEC_DROPOUT = 0.1"
      ]
    },
    {
      "cell_type": "code",
      "execution_count": 64,
      "metadata": {
        "id": "rVgG8VOYXbIk"
      },
      "outputs": [],
      "source": [
        "SRC_PAD_IDX = SRC.vocab.stoi[SRC.pad_token]\n",
        "TRG_PAD_IDX = TRG.vocab.stoi[TRG.pad_token]\n",
        "\n",
        "# 인코더(encoder)와 디코더(decoder) 객체 선언\n",
        "enc = Encoder(INPUT_DIM, HIDDEN_DIM, ENC_LAYERS, ENC_HEADS, ENC_PF_DIM, ENC_DROPOUT, device)\n",
        "dec = Decoder(OUTPUT_DIM, HIDDEN_DIM, DEC_LAYERS, DEC_HEADS, DEC_PF_DIM, DEC_DROPOUT, device)\n",
        "\n",
        "# Transformer 객체 선언\n",
        "model = Transformer(enc, dec, SRC_PAD_IDX, TRG_PAD_IDX, device).to(device)"
      ]
    },
    {
      "cell_type": "markdown",
      "metadata": {
        "id": "_B1BkZkUqQjo"
      },
      "source": [
        "* **모델 가중치 파라미터 초기화**"
      ]
    },
    {
      "cell_type": "code",
      "execution_count": 65,
      "metadata": {
        "colab": {
          "base_uri": "https://localhost:8080/"
        },
        "id": "cnCu5WAyXmes",
        "outputId": "8d62d4bb-628f-40b3-aa44-f2b299335b71"
      },
      "outputs": [
        {
          "name": "stdout",
          "output_type": "stream",
          "text": [
            "The model has 9,573,058 trainable parameters\n"
          ]
        }
      ],
      "source": [
        "def count_parameters(model):\n",
        "    return sum(p.numel() for p in model.parameters() if p.requires_grad)\n",
        "\n",
        "print(f'The model has {count_parameters(model):,} trainable parameters')"
      ]
    },
    {
      "cell_type": "code",
      "execution_count": 66,
      "metadata": {
        "colab": {
          "base_uri": "https://localhost:8080/"
        },
        "id": "VEY3bppUXndU",
        "outputId": "60332042-53d5-4fb1-e397-ec4edcae7dbf"
      },
      "outputs": [
        {
          "data": {
            "text/plain": [
              "Transformer(\n",
              "  (encoder): Encoder(\n",
              "    (tok_embedding): Embedding(5972, 256)\n",
              "    (pos_embedding): Embedding(100, 256)\n",
              "    (layers): ModuleList(\n",
              "      (0): EncoderLayer(\n",
              "        (self_attn_layer_norm): LayerNorm((256,), eps=1e-05, elementwise_affine=True)\n",
              "        (ff_layer_norm): LayerNorm((256,), eps=1e-05, elementwise_affine=True)\n",
              "        (self_attention): MultiHeadAttentionLayer(\n",
              "          (fc_q): Linear(in_features=256, out_features=256, bias=True)\n",
              "          (fc_k): Linear(in_features=256, out_features=256, bias=True)\n",
              "          (fc_v): Linear(in_features=256, out_features=256, bias=True)\n",
              "          (fc_o): Linear(in_features=256, out_features=256, bias=True)\n",
              "          (dropout): Dropout(p=0.1, inplace=False)\n",
              "        )\n",
              "        (positionwise_feedforward): PositionwiseFeedforwardLayer(\n",
              "          (fc_1): Linear(in_features=256, out_features=512, bias=True)\n",
              "          (fc_2): Linear(in_features=512, out_features=256, bias=True)\n",
              "          (dropout): Dropout(p=0.1, inplace=False)\n",
              "        )\n",
              "        (dropout): Dropout(p=0.1, inplace=False)\n",
              "      )\n",
              "      (1): EncoderLayer(\n",
              "        (self_attn_layer_norm): LayerNorm((256,), eps=1e-05, elementwise_affine=True)\n",
              "        (ff_layer_norm): LayerNorm((256,), eps=1e-05, elementwise_affine=True)\n",
              "        (self_attention): MultiHeadAttentionLayer(\n",
              "          (fc_q): Linear(in_features=256, out_features=256, bias=True)\n",
              "          (fc_k): Linear(in_features=256, out_features=256, bias=True)\n",
              "          (fc_v): Linear(in_features=256, out_features=256, bias=True)\n",
              "          (fc_o): Linear(in_features=256, out_features=256, bias=True)\n",
              "          (dropout): Dropout(p=0.1, inplace=False)\n",
              "        )\n",
              "        (positionwise_feedforward): PositionwiseFeedforwardLayer(\n",
              "          (fc_1): Linear(in_features=256, out_features=512, bias=True)\n",
              "          (fc_2): Linear(in_features=512, out_features=256, bias=True)\n",
              "          (dropout): Dropout(p=0.1, inplace=False)\n",
              "        )\n",
              "        (dropout): Dropout(p=0.1, inplace=False)\n",
              "      )\n",
              "      (2): EncoderLayer(\n",
              "        (self_attn_layer_norm): LayerNorm((256,), eps=1e-05, elementwise_affine=True)\n",
              "        (ff_layer_norm): LayerNorm((256,), eps=1e-05, elementwise_affine=True)\n",
              "        (self_attention): MultiHeadAttentionLayer(\n",
              "          (fc_q): Linear(in_features=256, out_features=256, bias=True)\n",
              "          (fc_k): Linear(in_features=256, out_features=256, bias=True)\n",
              "          (fc_v): Linear(in_features=256, out_features=256, bias=True)\n",
              "          (fc_o): Linear(in_features=256, out_features=256, bias=True)\n",
              "          (dropout): Dropout(p=0.1, inplace=False)\n",
              "        )\n",
              "        (positionwise_feedforward): PositionwiseFeedforwardLayer(\n",
              "          (fc_1): Linear(in_features=256, out_features=512, bias=True)\n",
              "          (fc_2): Linear(in_features=512, out_features=256, bias=True)\n",
              "          (dropout): Dropout(p=0.1, inplace=False)\n",
              "        )\n",
              "        (dropout): Dropout(p=0.1, inplace=False)\n",
              "      )\n",
              "    )\n",
              "    (dropout): Dropout(p=0.1, inplace=False)\n",
              "  )\n",
              "  (decoder): Decoder(\n",
              "    (tok_embedding): Embedding(7874, 256)\n",
              "    (pos_embedding): Embedding(100, 256)\n",
              "    (layers): ModuleList(\n",
              "      (0): DecoderLayer(\n",
              "        (self_attn_layer_norm): LayerNorm((256,), eps=1e-05, elementwise_affine=True)\n",
              "        (enc_attn_layer_norm): LayerNorm((256,), eps=1e-05, elementwise_affine=True)\n",
              "        (ff_layer_norm): LayerNorm((256,), eps=1e-05, elementwise_affine=True)\n",
              "        (self_attention): MultiHeadAttentionLayer(\n",
              "          (fc_q): Linear(in_features=256, out_features=256, bias=True)\n",
              "          (fc_k): Linear(in_features=256, out_features=256, bias=True)\n",
              "          (fc_v): Linear(in_features=256, out_features=256, bias=True)\n",
              "          (fc_o): Linear(in_features=256, out_features=256, bias=True)\n",
              "          (dropout): Dropout(p=0.1, inplace=False)\n",
              "        )\n",
              "        (encoder_attention): MultiHeadAttentionLayer(\n",
              "          (fc_q): Linear(in_features=256, out_features=256, bias=True)\n",
              "          (fc_k): Linear(in_features=256, out_features=256, bias=True)\n",
              "          (fc_v): Linear(in_features=256, out_features=256, bias=True)\n",
              "          (fc_o): Linear(in_features=256, out_features=256, bias=True)\n",
              "          (dropout): Dropout(p=0.1, inplace=False)\n",
              "        )\n",
              "        (positionwise_feedforward): PositionwiseFeedforwardLayer(\n",
              "          (fc_1): Linear(in_features=256, out_features=512, bias=True)\n",
              "          (fc_2): Linear(in_features=512, out_features=256, bias=True)\n",
              "          (dropout): Dropout(p=0.1, inplace=False)\n",
              "        )\n",
              "        (dropout): Dropout(p=0.1, inplace=False)\n",
              "      )\n",
              "      (1): DecoderLayer(\n",
              "        (self_attn_layer_norm): LayerNorm((256,), eps=1e-05, elementwise_affine=True)\n",
              "        (enc_attn_layer_norm): LayerNorm((256,), eps=1e-05, elementwise_affine=True)\n",
              "        (ff_layer_norm): LayerNorm((256,), eps=1e-05, elementwise_affine=True)\n",
              "        (self_attention): MultiHeadAttentionLayer(\n",
              "          (fc_q): Linear(in_features=256, out_features=256, bias=True)\n",
              "          (fc_k): Linear(in_features=256, out_features=256, bias=True)\n",
              "          (fc_v): Linear(in_features=256, out_features=256, bias=True)\n",
              "          (fc_o): Linear(in_features=256, out_features=256, bias=True)\n",
              "          (dropout): Dropout(p=0.1, inplace=False)\n",
              "        )\n",
              "        (encoder_attention): MultiHeadAttentionLayer(\n",
              "          (fc_q): Linear(in_features=256, out_features=256, bias=True)\n",
              "          (fc_k): Linear(in_features=256, out_features=256, bias=True)\n",
              "          (fc_v): Linear(in_features=256, out_features=256, bias=True)\n",
              "          (fc_o): Linear(in_features=256, out_features=256, bias=True)\n",
              "          (dropout): Dropout(p=0.1, inplace=False)\n",
              "        )\n",
              "        (positionwise_feedforward): PositionwiseFeedforwardLayer(\n",
              "          (fc_1): Linear(in_features=256, out_features=512, bias=True)\n",
              "          (fc_2): Linear(in_features=512, out_features=256, bias=True)\n",
              "          (dropout): Dropout(p=0.1, inplace=False)\n",
              "        )\n",
              "        (dropout): Dropout(p=0.1, inplace=False)\n",
              "      )\n",
              "      (2): DecoderLayer(\n",
              "        (self_attn_layer_norm): LayerNorm((256,), eps=1e-05, elementwise_affine=True)\n",
              "        (enc_attn_layer_norm): LayerNorm((256,), eps=1e-05, elementwise_affine=True)\n",
              "        (ff_layer_norm): LayerNorm((256,), eps=1e-05, elementwise_affine=True)\n",
              "        (self_attention): MultiHeadAttentionLayer(\n",
              "          (fc_q): Linear(in_features=256, out_features=256, bias=True)\n",
              "          (fc_k): Linear(in_features=256, out_features=256, bias=True)\n",
              "          (fc_v): Linear(in_features=256, out_features=256, bias=True)\n",
              "          (fc_o): Linear(in_features=256, out_features=256, bias=True)\n",
              "          (dropout): Dropout(p=0.1, inplace=False)\n",
              "        )\n",
              "        (encoder_attention): MultiHeadAttentionLayer(\n",
              "          (fc_q): Linear(in_features=256, out_features=256, bias=True)\n",
              "          (fc_k): Linear(in_features=256, out_features=256, bias=True)\n",
              "          (fc_v): Linear(in_features=256, out_features=256, bias=True)\n",
              "          (fc_o): Linear(in_features=256, out_features=256, bias=True)\n",
              "          (dropout): Dropout(p=0.1, inplace=False)\n",
              "        )\n",
              "        (positionwise_feedforward): PositionwiseFeedforwardLayer(\n",
              "          (fc_1): Linear(in_features=256, out_features=512, bias=True)\n",
              "          (fc_2): Linear(in_features=512, out_features=256, bias=True)\n",
              "          (dropout): Dropout(p=0.1, inplace=False)\n",
              "        )\n",
              "        (dropout): Dropout(p=0.1, inplace=False)\n",
              "      )\n",
              "    )\n",
              "    (fc_out): Linear(in_features=256, out_features=7874, bias=True)\n",
              "    (dropout): Dropout(p=0.1, inplace=False)\n",
              "  )\n",
              ")"
            ]
          },
          "execution_count": 66,
          "metadata": {},
          "output_type": "execute_result"
        }
      ],
      "source": [
        "def initialize_weights(m):\n",
        "    if hasattr(m, 'weight') and m.weight.dim() > 1:\n",
        "        nn.init.xavier_uniform_(m.weight.data)\n",
        "\n",
        "model.apply(initialize_weights)"
      ]
    },
    {
      "cell_type": "markdown",
      "metadata": {
        "id": "WsdTndLDqWQf"
      },
      "source": [
        "* 학습 및 평가 함수 정의"
      ]
    },
    {
      "cell_type": "code",
      "execution_count": 67,
      "metadata": {
        "id": "m6-92JSlXrwM"
      },
      "outputs": [],
      "source": [
        "import torch.optim as optim\n",
        "\n",
        "# Adam optimizer로 학습 최적화\n",
        "LEARNING_RATE = 0.0005\n",
        "optimizer = torch.optim.Adam(model.parameters(), lr=LEARNING_RATE)\n",
        "\n",
        "# 뒷 부분의 패딩(padding)에 대해서는 값 무시\n",
        "criterion = nn.CrossEntropyLoss(ignore_index = TRG_PAD_IDX)"
      ]
    },
    {
      "cell_type": "code",
      "execution_count": 68,
      "metadata": {
        "id": "tcIltwlRXssU"
      },
      "outputs": [],
      "source": [
        "# 모델 학습(train) 함수\n",
        "def train(model, iterator, optimizer, criterion, clip):\n",
        "    model.train() # 학습 모드\n",
        "    epoch_loss = 0\n",
        "\n",
        "    # 전체 학습 데이터를 확인하며\n",
        "    for i, batch in enumerate(iterator):\n",
        "        src = batch.src\n",
        "        trg = batch.trg\n",
        "\n",
        "        optimizer.zero_grad()\n",
        "\n",
        "        # 출력 단어의 마지막 인덱스(<eos>)는 제외\n",
        "        # 입력을 할 때는 <sos>부터 시작하도록 처리\n",
        "        output, _ = model(src, trg[:,:-1])\n",
        "\n",
        "        # output: [배치 크기, trg_len - 1, output_dim]\n",
        "        # trg: [배치 크기, trg_len]\n",
        "\n",
        "        output_dim = output.shape[-1]\n",
        "\n",
        "        output = output.contiguous().view(-1, output_dim)\n",
        "        # 출력 단어의 인덱스 0(<sos>)은 제외\n",
        "        trg = trg[:,1:].contiguous().view(-1)\n",
        "\n",
        "        # output: [배치 크기 * trg_len - 1, output_dim]\n",
        "        # trg: [배치 크기 * trg len - 1]\n",
        "\n",
        "        # 모델의 출력 결과와 타겟 문장을 비교하여 손실 계산\n",
        "        loss = criterion(output, trg)\n",
        "        loss.backward() # 기울기(gradient) 계산\n",
        "\n",
        "        # 기울기(gradient) clipping 진행\n",
        "        torch.nn.utils.clip_grad_norm_(model.parameters(), clip)\n",
        "\n",
        "        # 파라미터 업데이트\n",
        "        optimizer.step()\n",
        "\n",
        "        # 전체 손실 값 계산\n",
        "        epoch_loss += loss.item()\n",
        "\n",
        "    return epoch_loss / len(iterator)"
      ]
    },
    {
      "cell_type": "code",
      "execution_count": 69,
      "metadata": {
        "id": "69a5vBggXt4M"
      },
      "outputs": [],
      "source": [
        "# 모델 평가(evaluate) 함수\n",
        "def evaluate(model, iterator, criterion):\n",
        "    model.eval() # 평가 모드\n",
        "    epoch_loss = 0\n",
        "\n",
        "    with torch.no_grad():\n",
        "        # 전체 평가 데이터를 확인하며\n",
        "        for i, batch in enumerate(iterator):\n",
        "            src = batch.src\n",
        "            trg = batch.trg\n",
        "\n",
        "            # 출력 단어의 마지막 인덱스()는 제외\n",
        "            # 입력을 할 때는 부터 시작하도록 처리\n",
        "            output, _ = model(src, trg[:,:-1])\n",
        "\n",
        "            # output: [배치 크기, trg_len - 1, output_dim]\n",
        "            # trg: [배치 크기, trg_len]\n",
        "\n",
        "            output_dim = output.shape[-1]\n",
        "\n",
        "            output = output.contiguous().view(-1, output_dim)\n",
        "            # 출력 단어의 인덱스 0()은 제외\n",
        "            trg = trg[:,1:].contiguous().view(-1)\n",
        "\n",
        "            # output: [배치 크기 * trg_len - 1, output_dim]\n",
        "            # trg: [배치 크기 * trg len - 1]\n",
        "\n",
        "            # 모델의 출력 결과와 타겟 문장을 비교하여 손실 계산\n",
        "            loss = criterion(output, trg)\n",
        "\n",
        "            # 전체 손실 값 계산\n",
        "            epoch_loss += loss.item()\n",
        "\n",
        "    return epoch_loss / len(iterator)"
      ]
    },
    {
      "cell_type": "markdown",
      "metadata": {
        "id": "HdmhWLNcs76v"
      },
      "source": [
        "* 학습(training) 및 검증(validation) 진행\n",
        "    * **학습 횟수(epoch)**: 10"
      ]
    },
    {
      "cell_type": "code",
      "execution_count": 70,
      "metadata": {
        "id": "HPjtaQ6CXvGk"
      },
      "outputs": [],
      "source": [
        "def epoch_time(start_time, end_time):\n",
        "    elapsed_time = end_time - start_time\n",
        "    elapsed_mins = int(elapsed_time / 60)\n",
        "    elapsed_secs = int(elapsed_time - (elapsed_mins * 60))\n",
        "    return elapsed_mins, elapsed_secs"
      ]
    },
    {
      "cell_type": "code",
      "execution_count": 71,
      "metadata": {
        "colab": {
          "base_uri": "https://localhost:8080/"
        },
        "id": "XTe-5FdvXwdE",
        "outputId": "4da09fee-2804-40d2-9d8b-d668ed4056af"
      },
      "outputs": [
        {
          "name": "stdout",
          "output_type": "stream",
          "text": [
            "Epoch: 01 | Time: 0m 10s\n",
            "\tTrain Loss: 4.384 | Train PPL: 80.147\n",
            "\tValidation Loss: 3.199 | Validation PPL: 24.507\n",
            "Epoch: 02 | Time: 0m 9s\n",
            "\tTrain Loss: 2.888 | Train PPL: 17.958\n",
            "\tValidation Loss: 2.431 | Validation PPL: 11.374\n",
            "Epoch: 03 | Time: 0m 9s\n",
            "\tTrain Loss: 2.255 | Train PPL: 9.534\n",
            "\tValidation Loss: 2.033 | Validation PPL: 7.638\n",
            "Epoch: 04 | Time: 0m 9s\n",
            "\tTrain Loss: 1.851 | Train PPL: 6.366\n",
            "\tValidation Loss: 1.805 | Validation PPL: 6.079\n",
            "Epoch: 05 | Time: 0m 10s\n",
            "\tTrain Loss: 1.571 | Train PPL: 4.813\n",
            "\tValidation Loss: 1.680 | Validation PPL: 5.367\n",
            "Epoch: 06 | Time: 0m 9s\n",
            "\tTrain Loss: 1.365 | Train PPL: 3.916\n",
            "\tValidation Loss: 1.588 | Validation PPL: 4.893\n",
            "Epoch: 07 | Time: 0m 10s\n",
            "\tTrain Loss: 1.198 | Train PPL: 3.312\n",
            "\tValidation Loss: 1.551 | Validation PPL: 4.715\n",
            "Epoch: 08 | Time: 0m 10s\n",
            "\tTrain Loss: 1.062 | Train PPL: 2.892\n",
            "\tValidation Loss: 1.528 | Validation PPL: 4.611\n",
            "Epoch: 09 | Time: 0m 9s\n",
            "\tTrain Loss: 0.950 | Train PPL: 2.587\n",
            "\tValidation Loss: 1.546 | Validation PPL: 4.694\n",
            "Epoch: 10 | Time: 0m 9s\n",
            "\tTrain Loss: 0.857 | Train PPL: 2.357\n",
            "\tValidation Loss: 1.538 | Validation PPL: 4.656\n"
          ]
        }
      ],
      "source": [
        "import time\n",
        "import math\n",
        "import random\n",
        "\n",
        "N_EPOCHS = 10\n",
        "CLIP = 1\n",
        "best_valid_loss = float('inf')\n",
        "\n",
        "for epoch in range(N_EPOCHS):\n",
        "    start_time = time.time() # 시작 시간 기록\n",
        "\n",
        "    train_loss = train(model, train_iterator, optimizer, criterion, CLIP)\n",
        "    valid_loss = evaluate(model, valid_iterator, criterion)\n",
        "\n",
        "    end_time = time.time() # 종료 시간 기록\n",
        "    epoch_mins, epoch_secs = epoch_time(start_time, end_time)\n",
        "\n",
        "    if valid_loss < best_valid_loss:\n",
        "        best_valid_loss = valid_loss\n",
        "        torch.save(model.state_dict(), 'transformer_german_to_english.pt')\n",
        "\n",
        "    print(f'Epoch: {epoch + 1:02} | Time: {epoch_mins}m {epoch_secs}s')\n",
        "    print(f'\\tTrain Loss: {train_loss:.3f} | Train PPL: {math.exp(train_loss):.3f}')\n",
        "    print(f'\\tValidation Loss: {valid_loss:.3f} | Validation PPL: {math.exp(valid_loss):.3f}')"
      ]
    },
    {
      "cell_type": "code",
      "execution_count": 79,
      "metadata": {
        "colab": {
          "base_uri": "https://localhost:8080/",
          "height": 17
        },
        "id": "W1oT2_2yYCBM",
        "outputId": "c931d229-a109-44e0-927a-db333bd66b0e"
      },
      "outputs": [],
      "source": [
        "# 학습된 모델 저장\n",
        "import torch\n",
        "model_path = '/opt/workspace/Seohyeon/Projects/pretrained_model/transformer_german_to_english.pt'\n",
        "torch.save(model, model_path)"
      ]
    },
    {
      "cell_type": "markdown",
      "metadata": {
        "id": "KvW5ZDUwwJaI"
      },
      "source": [
        "#### **모델 최종 테스트(testing) 결과 확인**\n",
        "- PPL: perplexity \n",
        "- 언어모델의 성능 평가에 사용\n",
        "- 모델이 시퀀스의 다음 단어를 예측하는 데 얼마나 확신을 갖고 있는지를 수치적으로 나타냄 (값이 낮을수록 좋은 성능)\n",
        "- 손실함수의 지수로 계산"
      ]
    },
    {
      "cell_type": "code",
      "execution_count": 80,
      "metadata": {
        "colab": {
          "base_uri": "https://localhost:8080/"
        },
        "id": "sScSSNYbwKPR",
        "outputId": "ea5d0d5c-5621-4bbc-a3fd-c3f020600625"
      },
      "outputs": [
        {
          "name": "stdout",
          "output_type": "stream",
          "text": [
            "Test Loss: 1.550 | Test PPL: 4.710\n"
          ]
        }
      ],
      "source": [
        "model = torch.load(model_path)\n",
        "\n",
        "test_loss = evaluate(model, test_iterator, criterion)\n",
        "\n",
        "print(f'Test Loss: {test_loss:.3f} | Test PPL: {math.exp(test_loss):.3f}')"
      ]
    },
    {
      "cell_type": "markdown",
      "metadata": {
        "id": "lIE5KXd5wVUf"
      },
      "source": [
        "#### **나만의 데이터로 모델 사용해보기**\n",
        "\n",
        "* 테스트 데이터셋을 이용해 모델 테스트 진행"
      ]
    },
    {
      "cell_type": "code",
      "execution_count": 81,
      "metadata": {
        "id": "plUPXH4UYKEU"
      },
      "outputs": [],
      "source": [
        "# 번역(translation) 함수\n",
        "def translate_sentence(sentence, src_field, trg_field, model, device, max_len=50, logging=True):\n",
        "    model.eval() # 평가 모드\n",
        "\n",
        "    if isinstance(sentence, str):\n",
        "        nlp = spacy.load('de')  # 독일어 모델 로드\n",
        "        tokens = [token.text.lower() for token in nlp(sentence)]\n",
        "    else:\n",
        "        tokens = [token.lower() for token in sentence]\n",
        "\n",
        "    # 처음에 <sos> 토큰, 마지막에 <eos> 토큰 붙이기\n",
        "    tokens = [src_field.init_token] + tokens + [src_field.eos_token]\n",
        "    if logging:\n",
        "        print(f\"전체 소스 토큰: {tokens}\")\n",
        "\n",
        "    src_indexes = [src_field.vocab.stoi[token] for token in tokens]\n",
        "    if logging:\n",
        "        print(f\"소스 문장 인덱스: {src_indexes}\")\n",
        "\n",
        "    src_tensor = torch.LongTensor(src_indexes).unsqueeze(0).to(device)\n",
        "\n",
        "    # 소스 문장에 따른 마스크 생성\n",
        "    src_mask = model.make_src_mask(src_tensor)\n",
        "\n",
        "    # 인코더(endocer)에 소스 문장을 넣어 출력 값 구하기\n",
        "    with torch.no_grad():\n",
        "        enc_src = model.encoder(src_tensor, src_mask)\n",
        "\n",
        "    # 처음에는 <sos> 토큰 하나만 가지고 있도록 하기\n",
        "    trg_indexes = [trg_field.vocab.stoi[trg_field.init_token]]\n",
        "\n",
        "    for i in range(max_len):\n",
        "        trg_tensor = torch.LongTensor(trg_indexes).unsqueeze(0).to(device)\n",
        "\n",
        "        # 출력 문장에 따른 마스크 생성\n",
        "        trg_mask = model.make_trg_mask(trg_tensor)\n",
        "\n",
        "        with torch.no_grad():\n",
        "            output, attention = model.decoder(trg_tensor, enc_src, trg_mask, src_mask)\n",
        "\n",
        "        # 출력 문장에서 가장 마지막 단어만 사용\n",
        "        pred_token = output.argmax(2)[:,-1].item()\n",
        "        trg_indexes.append(pred_token) # 출력 문장에 더하기\n",
        "\n",
        "        # <eos>를 만나는 순간 끝\n",
        "        if pred_token == trg_field.vocab.stoi[trg_field.eos_token]:\n",
        "            break\n",
        "\n",
        "    # 각 출력 단어 인덱스를 실제 단어로 변환\n",
        "    trg_tokens = [trg_field.vocab.itos[i] for i in trg_indexes]\n",
        "\n",
        "    # 첫 번째 <sos>는 제외하고 출력 문장 반환\n",
        "    return trg_tokens[1:], attention"
      ]
    },
    {
      "cell_type": "code",
      "execution_count": 86,
      "metadata": {
        "colab": {
          "base_uri": "https://localhost:8080/"
        },
        "id": "DZZufujhxNuO",
        "outputId": "f44942b9-b8e4-4720-ace1-facf12fca3b8"
      },
      "outputs": [
        {
          "name": "stdout",
          "output_type": "stream",
          "text": [
            "소스 문장: ['a', 'man', 'in', 'light', 'colored', 'clothing', 'photographs', 'a', 'group', 'of', 'men', 'wearing', 'dark', 'suits', 'and', 'hats', 'standing', 'around', 'a', 'woman', 'dressed', 'in', 'a', 'strapless', 'gown', '.']\n",
            "타겟 문장: ['ein', 'hell', 'gekleideter', 'mann', 'fotografiert', 'eine', 'gruppe', 'von', 'männern', 'in', 'dunklen', 'anzügen', 'und', 'mit', 'hüten', ',', 'die', 'um', 'eine', 'frau', 'in', 'einem', 'trägerlosen', 'kleid', 'herum', 'stehen', '.']\n",
            "전체 소스 토큰: ['<sos>', 'a', 'man', 'in', 'light', 'colored', 'clothing', 'photographs', 'a', 'group', 'of', 'men', 'wearing', 'dark', 'suits', 'and', 'hats', 'standing', 'around', 'a', 'woman', 'dressed', 'in', 'a', 'strapless', 'gown', '.', '<eos>']\n",
            "소스 문장 인덱스: [2, 4, 9, 6, 301, 321, 213, 1233, 4, 38, 12, 30, 22, 217, 616, 11, 274, 36, 81, 4, 15, 72, 6, 4, 0, 2298, 5, 3]\n",
            "모델 출력 결과: ein mann in hellen farben gekleidet , steht in einer gruppe von männern und <unk> steht auf einer gruppe . <eos>\n"
          ]
        }
      ],
      "source": [
        "example_idx = 5\n",
        "\n",
        "src = vars(test_dataset.examples[example_idx])['src']\n",
        "trg = vars(test_dataset.examples[example_idx])['trg']\n",
        "\n",
        "print(f'소스 문장: {src}')\n",
        "print(f'타겟 문장: {trg}')\n",
        "\n",
        "translation, attention = translate_sentence(src, SRC, TRG, model, device, logging=True)\n",
        "\n",
        "print(\"모델 출력 결과:\", \" \".join(translation))"
      ]
    },
    {
      "cell_type": "markdown",
      "metadata": {
        "id": "SnRoAAEjyckb"
      },
      "source": [
        "* 어텐션 맵(Attention Map) 시각화"
      ]
    },
    {
      "cell_type": "code",
      "execution_count": 83,
      "metadata": {
        "id": "7lNAb_YKYLmU"
      },
      "outputs": [],
      "source": [
        "import matplotlib.pyplot as plt\n",
        "import matplotlib.ticker as ticker\n",
        "\n",
        "def display_attention(sentence, translation, attention, n_heads=8, n_rows=4, n_cols=2):\n",
        "\n",
        "    assert n_rows * n_cols == n_heads\n",
        "\n",
        "    # 출력할 그림 크기 조절\n",
        "    fig = plt.figure(figsize=(15, 25))\n",
        "\n",
        "    for i in range(n_heads):\n",
        "        ax = fig.add_subplot(n_rows, n_cols, i + 1)\n",
        "\n",
        "        # 어텐션(Attention) 스코어 확률 값을 이용해 그리기\n",
        "        _attention = attention.squeeze(0)[i].cpu().detach().numpy()\n",
        "\n",
        "        cax = ax.matshow(_attention, cmap='bone')\n",
        "\n",
        "        ax.tick_params(labelsize=12)\n",
        "        ax.set_xticklabels([''] + ['<sos>'] + [t.lower() for t in sentence] + ['<eos>'], rotation=45)\n",
        "        ax.set_yticklabels([''] + translation)\n",
        "\n",
        "        ax.xaxis.set_major_locator(ticker.MultipleLocator(1))\n",
        "        ax.yaxis.set_major_locator(ticker.MultipleLocator(1))\n",
        "\n",
        "    plt.show()\n",
        "    plt.close()"
      ]
    },
    {
      "cell_type": "code",
      "execution_count": 84,
      "metadata": {
        "colab": {
          "base_uri": "https://localhost:8080/"
        },
        "id": "OnCvQ5d8YMrj",
        "outputId": "127de942-53f5-4a68-fca1-855d2e2e30a7"
      },
      "outputs": [
        {
          "name": "stdout",
          "output_type": "stream",
          "text": [
            "소스 문장: ['a', 'mother', 'and', 'her', 'young', 'song', 'enjoying', 'a', 'beautiful', 'day', 'outside', '.']\n",
            "타겟 문장: ['eine', 'mutter', 'und', 'ihr', 'kleiner', 'sohn', 'genießen', 'einen', 'schönen', 'tag', 'i', 'm', 'freien', '.']\n",
            "전체 소스 토큰: ['<sos>', 'a', 'mother', 'and', 'her', 'young', 'song', 'enjoying', 'a', 'beautiful', 'day', 'outside', '.', '<eos>']\n",
            "소스 문장 인덱스: [2, 4, 488, 11, 43, 23, 1388, 295, 4, 364, 178, 56, 5, 3]\n",
            "모델 출력 결과: eine mutter und ihr junge singen vor einem schönen tag ein lied . <eos>\n"
          ]
        }
      ],
      "source": [
        "example_idx = 10\n",
        "\n",
        "src = vars(test_dataset.examples[example_idx])['src']\n",
        "trg = vars(test_dataset.examples[example_idx])['trg']\n",
        "\n",
        "print(f'소스 문장: {src}')\n",
        "print(f'타겟 문장: {trg}')\n",
        "\n",
        "translation, attention = translate_sentence(src, SRC, TRG, model, device, logging=True)\n",
        "\n",
        "print(\"모델 출력 결과:\", \" \".join(translation))"
      ]
    },
    {
      "cell_type": "code",
      "execution_count": 85,
      "metadata": {
        "colab": {
          "base_uri": "https://localhost:8080/",
          "height": 1000
        },
        "id": "glUG8EnJYPGc",
        "outputId": "e8b923c2-4ea5-4dc1-f58f-0fae8845e956"
      },
      "outputs": [
        {
          "name": "stderr",
          "output_type": "stream",
          "text": [
            "/tmp/ipykernel_24505/3016299776.py:20: UserWarning: FixedFormatter should only be used together with FixedLocator\n",
            "  ax.set_xticklabels([''] + ['<sos>'] + [t.lower() for t in sentence] + ['<eos>'], rotation=45)\n",
            "/tmp/ipykernel_24505/3016299776.py:21: UserWarning: FixedFormatter should only be used together with FixedLocator\n",
            "  ax.set_yticklabels([''] + translation)\n"
          ]
        },
        {
          "data": {
            "image/png": "[encoded data removed]",
            "text/plain": [
              "<Figure size 1500x2500 with 8 Axes>"
            ]
          },
          "metadata": {},
          "output_type": "display_data"
        }
      ],
      "source": [
        "display_attention(src, translation, attention)"
      ]
    },
    {
      "cell_type": "markdown",
      "metadata": {
        "id": "t07uJBHB0Voo"
      },
      "source": [
        "#### <b>BLEU Score 계산</b>\n",
        "\n",
        "* 학습된 트랜스포머(Transformer) 모델의 BLEU 스코어 계산\n",
        "- BLEU: 기계번역결과와 사람이 직접 번역한 결과가 얼마나 유사한지 비교"
      ]
    },
    {
      "cell_type": "code",
      "execution_count": 87,
      "metadata": {
        "id": "C7hsjkOKb3HS"
      },
      "outputs": [],
      "source": [
        "from torchtext.data.metrics import bleu_score\n",
        "\n",
        "def show_bleu(data, src_field, trg_field, model, device, max_len=50):\n",
        "    trgs = []\n",
        "    pred_trgs = []\n",
        "    index = 0\n",
        "\n",
        "    for datum in data:\n",
        "        src = vars(datum)['src']\n",
        "        trg = vars(datum)['trg']\n",
        "\n",
        "        pred_trg, _ = translate_sentence(src, src_field, trg_field, model, device, max_len, logging=False)\n",
        "\n",
        "        # 마지막 <eos> 토큰 제거\n",
        "        pred_trg = pred_trg[:-1]\n",
        "\n",
        "        pred_trgs.append(pred_trg)\n",
        "        trgs.append([trg])\n",
        "\n",
        "        index += 1\n",
        "        if (index + 1) % 100 == 0:\n",
        "            print(f\"[{index + 1}/{len(data)}]\")\n",
        "            print(f\"예측: {pred_trg}\")\n",
        "            print(f\"정답: {trg}\")\n",
        "\n",
        "    bleu = bleu_score(pred_trgs, trgs, max_n=4, weights=[0.25, 0.25, 0.25, 0.25])\n",
        "    print(f'Total BLEU Score = {bleu*100:.2f}')\n",
        "\n",
        "    individual_bleu1_score = bleu_score(pred_trgs, trgs, max_n=4, weights=[1, 0, 0, 0])\n",
        "    individual_bleu2_score = bleu_score(pred_trgs, trgs, max_n=4, weights=[0, 1, 0, 0])\n",
        "    individual_bleu3_score = bleu_score(pred_trgs, trgs, max_n=4, weights=[0, 0, 1, 0])\n",
        "    individual_bleu4_score = bleu_score(pred_trgs, trgs, max_n=4, weights=[0, 0, 0, 1])\n",
        "\n",
        "    print(f'Individual BLEU1 score = {individual_bleu1_score*100:.2f}') \n",
        "    print(f'Individual BLEU2 score = {individual_bleu2_score*100:.2f}') \n",
        "    print(f'Individual BLEU3 score = {individual_bleu3_score*100:.2f}') \n",
        "    print(f'Individual BLEU4 score = {individual_bleu4_score*100:.2f}') \n",
        "\n",
        "    cumulative_bleu1_score = bleu_score(pred_trgs, trgs, max_n=4, weights=[1, 0, 0, 0])\n",
        "    cumulative_bleu2_score = bleu_score(pred_trgs, trgs, max_n=4, weights=[1/2, 1/2, 0, 0])\n",
        "    cumulative_bleu3_score = bleu_score(pred_trgs, trgs, max_n=4, weights=[1/3, 1/3, 1/3, 0])\n",
        "    cumulative_bleu4_score = bleu_score(pred_trgs, trgs, max_n=4, weights=[1/4, 1/4, 1/4, 1/4])\n",
        "\n",
        "    print(f'Cumulative BLEU1 score = {cumulative_bleu1_score*100:.2f}') \n",
        "    print(f'Cumulative BLEU2 score = {cumulative_bleu2_score*100:.2f}') \n",
        "    print(f'Cumulative BLEU3 score = {cumulative_bleu3_score*100:.2f}') \n",
        "    print(f'Cumulative BLEU4 score = {cumulative_bleu4_score*100:.2f}') "
      ]
    },
    {
      "cell_type": "code",
      "execution_count": 88,
      "metadata": {
        "colab": {
          "base_uri": "https://localhost:8080/"
        },
        "id": "XXM8yzc8ZtgE",
        "outputId": "bf36a7a8-e1b1-41cc-e297-9808b466ce5a"
      },
      "outputs": [
        {
          "name": "stdout",
          "output_type": "stream",
          "text": [
            "[100/1000]\n",
            "예측: ['eine', 'gruppe', 'von', 'asiatischen', 'kindern', 'sitzt', 'auf', 'stühlen', 'auf', 'blauen', 'stühlen', '.']\n",
            "정답: ['eine', 'gruppe', 'überwiegend', 'asiatischer', 'kinder', 'sitzt', 'in', 'arbeitsnischen', 'verteilt', 'auf', 'blauen', 'stühlen', '.']\n",
            "[200/1000]\n",
            "예측: ['eine', 'gruppe', 'von', 'menschen', 'ist', 'ganz', 'mit', 'regenschirmen', 'bedeckt', '.']\n",
            "정답: ['alle', 'personen', 'in', 'der', 'gruppe', 'stehen', 'unter', 'regenschirmen', '.']\n",
            "[300/1000]\n",
            "예측: ['ein', 'torhüter', 'in', 'einem', 'gelben', 'feld', 'befindet', 'sich', 'auf', 'dem', 'tor', '.']\n",
            "정답: ['ein', 'torwart', 'in', 'einem', 'gelben', 'trikot', 'schützt', 'das', 'tor', '.']\n",
            "[400/1000]\n",
            "예측: ['zwei', 'kleine', 'kinder', 'sind', 'auf', 'sand', '.']\n",
            "정답: ['zwei', 'kleine', 'kinder', 'auf', 'dem', 'sand', '.']\n",
            "[500/1000]\n",
            "예측: ['zwei', '<unk>', 'hunde', 'rennen', 'durch', 'den', 'schnee', '.']\n",
            "정답: ['zwei', 'mittelgroße', 'hunde', 'laufen', 'über', 'den', 'schnee', '.']\n",
            "[600/1000]\n",
            "예측: ['eine', 'gruppe', 'von', 'männern', 'sitzt', 'und', 'unterhält', 'sich', 'hinter', 'einigen', 'grünen', 'obst', '.']\n",
            "정답: ['eine', 'gruppe', 'von', 'männern', 'sitzt', 'und', 'unterhält', 'sich', 'hinter', 'grünen', 'früchten', '.']\n",
            "[700/1000]\n",
            "예측: ['zwei', 'personen', 'schauen', 'in', 'der', 'stadt', 'auf', 'den', 'wänden', 'an', '.']\n",
            "정답: ['zwei', 'personen', 'betrachten', 'die', 'lichter', 'einer', 'stadt', 'bei', 'nacht', '.']\n",
            "[800/1000]\n",
            "예측: ['menschenmassen', 'fahren', 'auf', 'fahrrädern', '.']\n",
            "정답: ['menschengruppen', ',', 'die', 'alle', 'fahrrad', 'fahren', '.']\n",
            "[900/1000]\n",
            "예측: ['kinder', 'kämpfen', 'um', 'den', 'ballbesitz', '.']\n",
            "정답: ['kinder', 'kämpfen', 'um', 'den', 'ballbesitz', '.']\n",
            "[1000/1000]\n",
            "예측: ['ein', 'älterer', 'mann', 'spielt', 'ein', 'videospiel', 'in', 'einer', 'spielhalle', '.']\n",
            "정답: ['ein', 'älterer', 'mann', 'spielt', 'ein', 'videospiel', '.']\n",
            "Total BLEU Score = 32.79\n",
            "Individual BLEU1 score = 63.95\n",
            "Individual BLEU2 score = 38.83\n",
            "Individual BLEU3 score = 26.23\n",
            "Individual BLEU4 score = 17.75\n",
            "Cumulative BLEU1 score = 63.95\n",
            "Cumulative BLEU2 score = 49.83\n",
            "Cumulative BLEU3 score = 40.23\n",
            "Cumulative BLEU4 score = 32.79\n"
          ]
        }
      ],
      "source": [
        "show_bleu(test_dataset, SRC, TRG, model, device)"
      ]
    },
    {
      "cell_type": "code",
      "execution_count": null,
      "metadata": {},
      "outputs": [],
      "source": []
    }
  ],
  "metadata": {
    "accelerator": "GPU",
    "colab": {
      "authorship_tag": "ABX9TyP8m/8WesHsePM9ApaSVeKj",
      "collapsed_sections": [],
      "include_colab_link": true,
      "name": "Attention is All You Need Tutorial (German-English)",
      "provenance": []
    },
    "kernelspec": {
      "display_name": "Python 3",
      "name": "python3"
    },
    "language_info": {
      "codemirror_mode": {
        "name": "ipython",
        "version": 3
      },
      "file_extension": ".py",
      "mimetype": "text/x-python",
      "name": "python",
      "nbconvert_exporter": "python",
      "pygments_lexer": "ipython3",
      "version": "3.8.10"
    }
  },
  "nbformat": 4,
  "nbformat_minor": 0
}
